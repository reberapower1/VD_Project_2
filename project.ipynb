{
 "cells": [
  {
   "cell_type": "code",
   "execution_count": 1,
   "id": "4d6a11b0",
   "metadata": {},
   "outputs": [],
   "source": [
    "import pandas as pd\n"
   ]
  },
  {
   "cell_type": "code",
   "execution_count": 2,
   "id": "36179ea2",
   "metadata": {},
   "outputs": [],
   "source": [
    "import numpy as np"
   ]
  },
  {
   "cell_type": "markdown",
   "id": "6c5674b8",
   "metadata": {},
   "source": [
    "# Pré-processamento"
   ]
  },
  {
   "cell_type": "markdown",
   "id": "a5728248",
   "metadata": {},
   "source": [
    "### Ver informações para cada ano diferente"
   ]
  },
  {
   "cell_type": "markdown",
   "id": "03fb6c26",
   "metadata": {},
   "source": [
    "## 2015"
   ]
  },
  {
   "cell_type": "code",
   "execution_count": 3,
   "id": "500117dc",
   "metadata": {},
   "outputs": [
    {
     "name": "stdout",
     "output_type": "stream",
     "text": [
      "<class 'pandas.core.frame.DataFrame'>\n",
      "RangeIndex: 158 entries, 0 to 157\n",
      "Data columns (total 12 columns):\n",
      " #   Column                         Non-Null Count  Dtype  \n",
      "---  ------                         --------------  -----  \n",
      " 0   Country                        158 non-null    object \n",
      " 1   Region                         158 non-null    object \n",
      " 2   Happiness Rank                 158 non-null    int64  \n",
      " 3   Happiness Score                158 non-null    float64\n",
      " 4   Standard Error                 158 non-null    float64\n",
      " 5   Economy (GDP per Capita)       158 non-null    float64\n",
      " 6   Family                         158 non-null    float64\n",
      " 7   Health (Life Expectancy)       158 non-null    float64\n",
      " 8   Freedom                        158 non-null    float64\n",
      " 9   Trust (Government Corruption)  158 non-null    float64\n",
      " 10  Generosity                     158 non-null    float64\n",
      " 11  Dystopia Residual              158 non-null    float64\n",
      "dtypes: float64(9), int64(1), object(2)\n",
      "memory usage: 14.9+ KB\n",
      "None\n",
      "Country                          0\n",
      "Region                           0\n",
      "Happiness Rank                   0\n",
      "Happiness Score                  0\n",
      "Standard Error                   0\n",
      "Economy (GDP per Capita)         0\n",
      "Family                           0\n",
      "Health (Life Expectancy)         0\n",
      "Freedom                          0\n",
      "Trust (Government Corruption)    0\n",
      "Generosity                       0\n",
      "Dystopia Residual                0\n",
      "dtype: int64\n"
     ]
    }
   ],
   "source": [
    "ano_2015=pd.read_csv(\"2015.csv\")\n",
    "print(ano_2015.info())\n",
    "\n",
    "print(ano_2015[['Country', 'Region', 'Happiness Rank', 'Happiness Score', 'Standard Error', 'Economy (GDP per Capita)', 'Family', 'Health (Life Expectancy)', 'Freedom', 'Trust (Government Corruption)', 'Generosity', 'Dystopia Residual']].isnull().sum())\n"
   ]
  },
  {
   "cell_type": "markdown",
   "id": "85ec3383",
   "metadata": {},
   "source": [
    "## 2016"
   ]
  },
  {
   "cell_type": "code",
   "execution_count": 4,
   "id": "0db48e36",
   "metadata": {},
   "outputs": [
    {
     "name": "stdout",
     "output_type": "stream",
     "text": [
      "<class 'pandas.core.frame.DataFrame'>\n",
      "RangeIndex: 157 entries, 0 to 156\n",
      "Data columns (total 13 columns):\n",
      " #   Column                         Non-Null Count  Dtype  \n",
      "---  ------                         --------------  -----  \n",
      " 0   Country                        157 non-null    object \n",
      " 1   Region                         157 non-null    object \n",
      " 2   Happiness Rank                 157 non-null    int64  \n",
      " 3   Happiness Score                157 non-null    float64\n",
      " 4   Lower Confidence Interval      157 non-null    float64\n",
      " 5   Upper Confidence Interval      157 non-null    float64\n",
      " 6   Economy (GDP per Capita)       157 non-null    float64\n",
      " 7   Family                         157 non-null    float64\n",
      " 8   Health (Life Expectancy)       157 non-null    float64\n",
      " 9   Freedom                        157 non-null    float64\n",
      " 10  Trust (Government Corruption)  157 non-null    float64\n",
      " 11  Generosity                     157 non-null    float64\n",
      " 12  Dystopia Residual              157 non-null    float64\n",
      "dtypes: float64(10), int64(1), object(2)\n",
      "memory usage: 16.1+ KB\n",
      "None\n",
      "Country                          0\n",
      "Region                           0\n",
      "Happiness Rank                   0\n",
      "Happiness Score                  0\n",
      "Lower Confidence Interval        0\n",
      "Upper Confidence Interval        0\n",
      "Economy (GDP per Capita)         0\n",
      "Family                           0\n",
      "Health (Life Expectancy)         0\n",
      "Freedom                          0\n",
      "Trust (Government Corruption)    0\n",
      "Generosity                       0\n",
      "Dystopia Residual                0\n",
      "dtype: int64\n"
     ]
    }
   ],
   "source": [
    "ano_2016=pd.read_csv(\"2016.csv\")\n",
    "print(ano_2016.info())\n",
    "\n",
    "\n",
    "print(ano_2016[['Country', 'Region', 'Happiness Rank', 'Happiness Score', 'Lower Confidence Interval','Upper Confidence Interval', 'Economy (GDP per Capita)', 'Family', 'Health (Life Expectancy)', 'Freedom', 'Trust (Government Corruption)', 'Generosity', 'Dystopia Residual']].isnull().sum())"
   ]
  },
  {
   "cell_type": "markdown",
   "id": "22d318b4",
   "metadata": {},
   "source": [
    "## 2017"
   ]
  },
  {
   "cell_type": "code",
   "execution_count": 5,
   "id": "943f75be",
   "metadata": {},
   "outputs": [
    {
     "name": "stdout",
     "output_type": "stream",
     "text": [
      "<class 'pandas.core.frame.DataFrame'>\n",
      "RangeIndex: 155 entries, 0 to 154\n",
      "Data columns (total 12 columns):\n",
      " #   Column                         Non-Null Count  Dtype  \n",
      "---  ------                         --------------  -----  \n",
      " 0   Country                        155 non-null    object \n",
      " 1   Happiness.Rank                 155 non-null    int64  \n",
      " 2   Happiness.Score                155 non-null    float64\n",
      " 3   Whisker.high                   155 non-null    float64\n",
      " 4   Whisker.low                    155 non-null    float64\n",
      " 5   Economy..GDP.per.Capita.       155 non-null    float64\n",
      " 6   Family                         155 non-null    float64\n",
      " 7   Health..Life.Expectancy.       155 non-null    float64\n",
      " 8   Freedom                        155 non-null    float64\n",
      " 9   Generosity                     155 non-null    float64\n",
      " 10  Trust..Government.Corruption.  155 non-null    float64\n",
      " 11  Dystopia.Residual              155 non-null    float64\n",
      "dtypes: float64(10), int64(1), object(1)\n",
      "memory usage: 14.7+ KB\n",
      "None\n",
      "Country                          0\n",
      "Happiness.Rank                   0\n",
      "Happiness.Score                  0\n",
      "Whisker.high                     0\n",
      "Whisker.low                      0\n",
      "Economy..GDP.per.Capita.         0\n",
      "Family                           0\n",
      "Health..Life.Expectancy.         0\n",
      "Freedom                          0\n",
      "Trust..Government.Corruption.    0\n",
      "Generosity                       0\n",
      "Dystopia.Residual                0\n",
      "dtype: int64\n"
     ]
    }
   ],
   "source": [
    "ano_2017=pd.read_csv(\"2017.csv\")\n",
    "print(ano_2017.info())\n",
    "\n",
    "\n",
    "print(ano_2017[['Country', 'Happiness.Rank', 'Happiness.Score', 'Whisker.high', 'Whisker.low', 'Economy..GDP.per.Capita.', 'Family', 'Health..Life.Expectancy.', 'Freedom', 'Trust..Government.Corruption.', 'Generosity', 'Dystopia.Residual']].isnull().sum())"
   ]
  },
  {
   "cell_type": "markdown",
   "id": "75c2ff9f",
   "metadata": {},
   "source": [
    "## 2018"
   ]
  },
  {
   "cell_type": "code",
   "execution_count": 6,
   "id": "f8150778",
   "metadata": {},
   "outputs": [
    {
     "name": "stdout",
     "output_type": "stream",
     "text": [
      "<class 'pandas.core.frame.DataFrame'>\n",
      "RangeIndex: 156 entries, 0 to 155\n",
      "Data columns (total 9 columns):\n",
      " #   Column                        Non-Null Count  Dtype  \n",
      "---  ------                        --------------  -----  \n",
      " 0   Overall rank                  156 non-null    int64  \n",
      " 1   Country or region             156 non-null    object \n",
      " 2   Score                         156 non-null    float64\n",
      " 3   GDP per capita                156 non-null    float64\n",
      " 4   Social support                156 non-null    float64\n",
      " 5   Healthy life expectancy       156 non-null    float64\n",
      " 6   Freedom to make life choices  156 non-null    float64\n",
      " 7   Generosity                    156 non-null    float64\n",
      " 8   Perceptions of corruption     155 non-null    float64\n",
      "dtypes: float64(7), int64(1), object(1)\n",
      "memory usage: 11.1+ KB\n",
      "None\n",
      "Country or region               0\n",
      "Overall rank                    0\n",
      "Score                           0\n",
      "GDP per capita                  0\n",
      "Social support                  0\n",
      "Healthy life expectancy         0\n",
      "Freedom to make life choices    0\n",
      "Perceptions of corruption       1\n",
      "dtype: int64\n"
     ]
    }
   ],
   "source": [
    "ano_2018=pd.read_csv(\"2018.csv\")\n",
    "print(ano_2018.info())\n",
    "\n",
    "\n",
    "print(ano_2018[['Country or region', 'Overall rank', 'Score', 'GDP per capita', 'Social support', 'Healthy life expectancy', 'Freedom to make life choices', 'Perceptions of corruption']].isnull().sum())"
   ]
  },
  {
   "cell_type": "markdown",
   "id": "74748622",
   "metadata": {},
   "source": [
    "## 2019"
   ]
  },
  {
   "cell_type": "code",
   "execution_count": 7,
   "id": "0a0e5d20",
   "metadata": {},
   "outputs": [
    {
     "name": "stdout",
     "output_type": "stream",
     "text": [
      "<class 'pandas.core.frame.DataFrame'>\n",
      "RangeIndex: 156 entries, 0 to 155\n",
      "Data columns (total 9 columns):\n",
      " #   Column                        Non-Null Count  Dtype  \n",
      "---  ------                        --------------  -----  \n",
      " 0   Overall rank                  156 non-null    int64  \n",
      " 1   Country or region             156 non-null    object \n",
      " 2   Score                         156 non-null    float64\n",
      " 3   GDP per capita                156 non-null    float64\n",
      " 4   Social support                156 non-null    float64\n",
      " 5   Healthy life expectancy       156 non-null    float64\n",
      " 6   Freedom to make life choices  156 non-null    float64\n",
      " 7   Generosity                    156 non-null    float64\n",
      " 8   Perceptions of corruption     156 non-null    float64\n",
      "dtypes: float64(7), int64(1), object(1)\n",
      "memory usage: 11.1+ KB\n",
      "None\n",
      "Country or region               0\n",
      "Overall rank                    0\n",
      "Score                           0\n",
      "GDP per capita                  0\n",
      "Social support                  0\n",
      "Healthy life expectancy         0\n",
      "Freedom to make life choices    0\n",
      "Perceptions of corruption       0\n",
      "dtype: int64\n"
     ]
    }
   ],
   "source": [
    "ano_2019=pd.read_csv(\"2019.csv\")\n",
    "print(ano_2019.info())\n",
    "\n",
    "\n",
    "print(ano_2019[['Country or region', 'Overall rank', 'Score', 'GDP per capita', 'Social support', 'Healthy life expectancy', 'Freedom to make life choices', 'Perceptions of corruption']].isnull().sum())"
   ]
  },
  {
   "cell_type": "markdown",
   "id": "e88bbd85",
   "metadata": {},
   "source": [
    "## 2020"
   ]
  },
  {
   "cell_type": "code",
   "execution_count": 8,
   "id": "1f0ae1dc",
   "metadata": {},
   "outputs": [
    {
     "name": "stdout",
     "output_type": "stream",
     "text": [
      "<class 'pandas.core.frame.DataFrame'>\n",
      "RangeIndex: 153 entries, 0 to 152\n",
      "Data columns (total 20 columns):\n",
      " #   Column                                      Non-Null Count  Dtype  \n",
      "---  ------                                      --------------  -----  \n",
      " 0   Country name                                153 non-null    object \n",
      " 1   Regional indicator                          153 non-null    object \n",
      " 2   Ladder score                                153 non-null    float64\n",
      " 3   Standard error of ladder score              153 non-null    float64\n",
      " 4   upperwhisker                                153 non-null    float64\n",
      " 5   lowerwhisker                                153 non-null    float64\n",
      " 6   Logged GDP per capita                       153 non-null    float64\n",
      " 7   Social support                              153 non-null    float64\n",
      " 8   Healthy life expectancy                     153 non-null    float64\n",
      " 9   Freedom to make life choices                153 non-null    float64\n",
      " 10  Generosity                                  153 non-null    float64\n",
      " 11  Perceptions of corruption                   153 non-null    float64\n",
      " 12  Ladder score in Dystopia                    153 non-null    float64\n",
      " 13  Explained by: Log GDP per capita            153 non-null    float64\n",
      " 14  Explained by: Social support                153 non-null    float64\n",
      " 15  Explained by: Healthy life expectancy       153 non-null    float64\n",
      " 16  Explained by: Freedom to make life choices  153 non-null    float64\n",
      " 17  Explained by: Generosity                    153 non-null    float64\n",
      " 18  Explained by: Perceptions of corruption     153 non-null    float64\n",
      " 19  Dystopia + residual                         153 non-null    float64\n",
      "dtypes: float64(18), object(2)\n",
      "memory usage: 24.0+ KB\n",
      "None\n",
      "Country name                                  0\n",
      "Regional indicator                            0\n",
      "Ladder score                                  0\n",
      "Standard error of ladder score                0\n",
      "upperwhisker                                  0\n",
      "lowerwhisker                                  0\n",
      "Logged GDP per capita                         0\n",
      "Social support                                0\n",
      "Healthy life expectancy                       0\n",
      "Freedom to make life choices                  0\n",
      "Generosity                                    0\n",
      "Perceptions of corruption                     0\n",
      "Ladder score in Dystopia                      0\n",
      "Explained by: Log GDP per capita              0\n",
      "Explained by: Social support                  0\n",
      "Explained by: Healthy life expectancy         0\n",
      "Explained by: Freedom to make life choices    0\n",
      "Explained by: Generosity                      0\n",
      "Explained by: Perceptions of corruption       0\n",
      "Dystopia + residual                           0\n",
      "dtype: int64\n"
     ]
    }
   ],
   "source": [
    "ano_2020=pd.read_csv(\"2020.csv\")\n",
    "print(ano_2020.info())\n",
    "\n",
    "\n",
    "print(ano_2020[['Country name', 'Regional indicator', 'Ladder score', 'Standard error of ladder score','upperwhisker','lowerwhisker','Logged GDP per capita', 'Social support', 'Healthy life expectancy', 'Freedom to make life choices', 'Generosity','Perceptions of corruption', 'Ladder score in Dystopia', 'Explained by: Log GDP per capita', 'Explained by: Social support', 'Explained by: Healthy life expectancy', 'Explained by: Freedom to make life choices', 'Explained by: Generosity', 'Explained by: Perceptions of corruption', 'Dystopia + residual']].isnull().sum())"
   ]
  },
  {
   "cell_type": "markdown",
   "id": "52c01fed",
   "metadata": {},
   "source": [
    "## 2021"
   ]
  },
  {
   "cell_type": "code",
   "execution_count": 9,
   "id": "aa9dd73e",
   "metadata": {},
   "outputs": [
    {
     "name": "stdout",
     "output_type": "stream",
     "text": [
      "<class 'pandas.core.frame.DataFrame'>\n",
      "RangeIndex: 149 entries, 0 to 148\n",
      "Data columns (total 20 columns):\n",
      " #   Column                                      Non-Null Count  Dtype  \n",
      "---  ------                                      --------------  -----  \n",
      " 0   Country name                                149 non-null    object \n",
      " 1   Regional indicator                          149 non-null    object \n",
      " 2   Ladder score                                149 non-null    float64\n",
      " 3   Standard error of ladder score              149 non-null    float64\n",
      " 4   upperwhisker                                149 non-null    float64\n",
      " 5   lowerwhisker                                149 non-null    float64\n",
      " 6   Logged GDP per capita                       149 non-null    float64\n",
      " 7   Social support                              149 non-null    float64\n",
      " 8   Healthy life expectancy                     149 non-null    float64\n",
      " 9   Freedom to make life choices                149 non-null    float64\n",
      " 10  Generosity                                  149 non-null    float64\n",
      " 11  Perceptions of corruption                   149 non-null    float64\n",
      " 12  Ladder score in Dystopia                    149 non-null    float64\n",
      " 13  Explained by: Log GDP per capita            149 non-null    float64\n",
      " 14  Explained by: Social support                149 non-null    float64\n",
      " 15  Explained by: Healthy life expectancy       149 non-null    float64\n",
      " 16  Explained by: Freedom to make life choices  149 non-null    float64\n",
      " 17  Explained by: Generosity                    149 non-null    float64\n",
      " 18  Explained by: Perceptions of corruption     149 non-null    float64\n",
      " 19  Dystopia + residual                         149 non-null    float64\n",
      "dtypes: float64(18), object(2)\n",
      "memory usage: 23.4+ KB\n",
      "None\n",
      "Country name                                  0\n",
      "Regional indicator                            0\n",
      "Ladder score                                  0\n",
      "Standard error of ladder score                0\n",
      "upperwhisker                                  0\n",
      "lowerwhisker                                  0\n",
      "Logged GDP per capita                         0\n",
      "Social support                                0\n",
      "Healthy life expectancy                       0\n",
      "Freedom to make life choices                  0\n",
      "Generosity                                    0\n",
      "Perceptions of corruption                     0\n",
      "Ladder score in Dystopia                      0\n",
      "Explained by: Log GDP per capita              0\n",
      "Explained by: Social support                  0\n",
      "Explained by: Healthy life expectancy         0\n",
      "Explained by: Freedom to make life choices    0\n",
      "Explained by: Generosity                      0\n",
      "Explained by: Perceptions of corruption       0\n",
      "Dystopia + residual                           0\n",
      "dtype: int64\n"
     ]
    }
   ],
   "source": [
    "ano_2021=pd.read_csv(\"2021.csv\")\n",
    "print(ano_2021.info())\n",
    "\n",
    "\n",
    "print(ano_2021[['Country name', 'Regional indicator', 'Ladder score', 'Standard error of ladder score','upperwhisker','lowerwhisker','Logged GDP per capita', 'Social support', 'Healthy life expectancy', 'Freedom to make life choices', 'Generosity','Perceptions of corruption', 'Ladder score in Dystopia', 'Explained by: Log GDP per capita', 'Explained by: Social support', 'Explained by: Healthy life expectancy', 'Explained by: Freedom to make life choices', 'Explained by: Generosity', 'Explained by: Perceptions of corruption', 'Dystopia + residual']].isnull().sum())"
   ]
  },
  {
   "cell_type": "markdown",
   "id": "2834c7af",
   "metadata": {},
   "source": [
    "## 2022"
   ]
  },
  {
   "cell_type": "code",
   "execution_count": 10,
   "id": "d0ab498a",
   "metadata": {},
   "outputs": [
    {
     "name": "stdout",
     "output_type": "stream",
     "text": [
      "<class 'pandas.core.frame.DataFrame'>\n",
      "RangeIndex: 147 entries, 0 to 146\n",
      "Data columns (total 12 columns):\n",
      " #   Column                                      Non-Null Count  Dtype \n",
      "---  ------                                      --------------  ----- \n",
      " 0   RANK                                        147 non-null    int64 \n",
      " 1   Country                                     147 non-null    object\n",
      " 2   Happiness score                             146 non-null    object\n",
      " 3   Whisker-high                                146 non-null    object\n",
      " 4   Whisker-low                                 146 non-null    object\n",
      " 5   Dystopia (1.83) + residual                  146 non-null    object\n",
      " 6   Explained by: GDP per capita                146 non-null    object\n",
      " 7   Explained by: Social support                146 non-null    object\n",
      " 8   Explained by: Healthy life expectancy       146 non-null    object\n",
      " 9   Explained by: Freedom to make life choices  146 non-null    object\n",
      " 10  Explained by: Generosity                    146 non-null    object\n",
      " 11  Explained by: Perceptions of corruption     146 non-null    object\n",
      "dtypes: int64(1), object(11)\n",
      "memory usage: 13.9+ KB\n",
      "None\n",
      "RANK                                          0\n",
      "Country                                       0\n",
      "Happiness score                               1\n",
      "Whisker-high                                  1\n",
      "Whisker-low                                   1\n",
      "Dystopia (1.83) + residual                    1\n",
      "Explained by: GDP per capita                  1\n",
      "Explained by: Social support                  1\n",
      "Explained by: Healthy life expectancy         1\n",
      "Explained by: Freedom to make life choices    1\n",
      "Explained by: Generosity                      1\n",
      "Explained by: Perceptions of corruption       1\n",
      "dtype: int64\n"
     ]
    }
   ],
   "source": [
    "ano_2022=pd.read_csv(\"2022.csv\")\n",
    "print(ano_2022.info())\n",
    "\n",
    "\n",
    "print(ano_2022[['RANK','Country', 'Happiness score', 'Whisker-high','Whisker-low','Dystopia (1.83) + residual', 'Explained by: GDP per capita', 'Explained by: Social support', 'Explained by: Healthy life expectancy', 'Explained by: Freedom to make life choices', 'Explained by: Generosity', 'Explained by: Perceptions of corruption']].isnull().sum())"
   ]
  },
  {
   "cell_type": "markdown",
   "id": "2427b1ca",
   "metadata": {},
   "source": [
    "### parte para mudar nomes de atributos e assim para ficar com as colunas todas iguais"
   ]
  },
  {
   "cell_type": "markdown",
   "id": "5cedba7b",
   "metadata": {},
   "source": [
    "- na coluna do ano nao temos d mudar nada\n",
    "- no country- no d 2018/2019 existe Country or region. no 2020/2021 é Country name. nos outros é Country\n",
    "- happines score- \"Happiness Score”, “Score”, “Ladder score”, “Happiness.Score” \n",
    "- G- DP per capita- Economy..GDP.per.Capita, “Economy (GDP per Capita)”, “GDP per capita”, “Logged GDP per capita”, “Explained by: GDP per capita”\n",
    "- social support- “Family”, “Social support”, “Explained by: Social support”\n",
    "- healthy life expectancy- “Health (Life Expectancy)”, “Healthy life expectancy”, “Explained by: Healthy life expectancy”, \"Health..life.expectancy\"\n",
    "- freedom- “Freedom”, “Freedom to make life choices”, “Explained by: Freedom to make life choices”\n",
    "- corruption- “Trust (Government Corruption)”, “Perceptions of corruption”, “Explained by: Perceptions of corruption”, \"Trust..Government.Corruption\"\n",
    "- gerenosity- “Generosity”, “Explained by: Generosity”\n",
    "dystopia residual- “Dystopia Residual”, “Dystopia + residual”, “Dystopia (1.83) + residual”\n",
    "- happiness rank- “Happiness Rank”, “Overall rank”, “RANK”, \"Ladder score\""
   ]
  },
  {
   "cell_type": "markdown",
   "id": "6ca716eb",
   "metadata": {},
   "source": [
    "\n",
    "Em 2020 e 2021, os relatórios da ONU deixaram de incluir o “Happiness Rank” explícito, mas o ranking pode ser facilmente reconstruído a partir do Ladder score.Ou seja:podemos criar o Happiness_Rank ordenando os países por Ladder Score (quanto maior o score, melhor o ranking = 1º lugar).\n",
    "\n",
    "O EXPLAINED BY É TIPO A MATRIZ DE CORRELAÇAO, entao tenho d ver melhor isto\n",
    "\n",
    "no gdp per capita temos dps d normalizar tudo "
   ]
  },
  {
   "cell_type": "markdown",
   "id": "6f18b57b",
   "metadata": {},
   "source": [
    "se calhar nao utiliza estas colunas: \n",
    "Standard Error\n",
    "Lower Confidence Interval\n",
    "Upper Confidence Interval\n",
    "Whisker.high / Whisker.low\n",
    "Explained by\n",
    "Ladder score in Dystopia"
   ]
  },
  {
   "cell_type": "markdown",
   "id": "adc75a43",
   "metadata": {},
   "source": [
    "- as colunas que queremos usar e q têm explained by--- vamso fazer tipo uma regressao linear\n",
    "- no gdp per capita o ano de 2020 e 2021 usa o log entao para meter como os anos anteriores usamos o exp- # Para os datasets de 2020 e 2021\n",
    "ano_2020[\"Economy (GDP per Capita)\"] = np.exp(ano_2020[\"Logged GDP per capita\"])\n",
    "ano_2021[\"Economy (GDP per Capita)\"] = np.exp(ano_2021[\"Logged GDP per capita\"])"
   ]
  },
  {
   "cell_type": "markdown",
   "id": "46ab0d83",
   "metadata": {},
   "source": [
    "### Tratar do country e region"
   ]
  },
  {
   "cell_type": "code",
   "execution_count": 11,
   "id": "6e8a2699",
   "metadata": {},
   "outputs": [],
   "source": [
    "# nestes anos, esta coluna é só países\n",
    "ano_2018.rename(columns={\"Country or region\": \"Country\"}, inplace=True)\n",
    "ano_2019.rename(columns={\"Country or region\": \"Country\"}, inplace=True)\n",
    "\n",
    "\n",
    "# agora quero criar a coluna region\n",
    "ano_2017[\"Region\"] = None\n",
    "ano_2018[\"Region\"] = None\n",
    "ano_2019[\"Region\"] = None\n",
    "ano_2022[\"Region\"] = None\n",
    "\n",
    "# aqui já meto as colunas com o mesmo nome\n",
    "ano_2020.rename(columns={\"Regional indicator\": \"Region\"}, inplace=True)\n",
    "ano_2021.rename(columns={\"Regional indicator\": \"Region\"}, inplace=True)\n",
    "ano_2020.rename(columns={\"Country name\": \"Country\"}, inplace=True)\n",
    "ano_2021.rename(columns={\"Country name\": \"Country\"}, inplace=True)\n",
    "\n",
    "\n",
    "# dicionario que tem pais-regiao \n",
    "region_map = pd.concat([\n",
    "    ano_2015[[\"Country\", \"Region\"]],\n",
    "    ano_2016[[\"Country\", \"Region\"]],\n",
    "    ano_2020[[\"Country\", \"Region\"]],\n",
    "    ano_2021[[\"Country\", \"Region\"]]\n",
    "]).dropna().drop_duplicates().set_index(\"Country\")[\"Region\"].to_dict()\n",
    "\n",
    "# aplicar aos datasets sem região\n",
    "for df in [ano_2017, ano_2018, ano_2019, ano_2022]:\n",
    "    df[\"Region\"] = df[\"Country\"].map(region_map)\n"
   ]
  },
  {
   "cell_type": "code",
   "execution_count": 12,
   "id": "51ed86a9",
   "metadata": {},
   "outputs": [
    {
     "name": "stdout",
     "output_type": "stream",
     "text": [
      "\n",
      "===== 2015 =====\n",
      "['Country', 'Region', 'Happiness Rank', 'Happiness Score', 'Standard Error', 'Economy (GDP per Capita)', 'Family', 'Health (Life Expectancy)', 'Freedom', 'Trust (Government Corruption)', 'Generosity', 'Dystopia Residual']\n",
      "\n",
      "===== 2016 =====\n",
      "['Country', 'Region', 'Happiness Rank', 'Happiness Score', 'Lower Confidence Interval', 'Upper Confidence Interval', 'Economy (GDP per Capita)', 'Family', 'Health (Life Expectancy)', 'Freedom', 'Trust (Government Corruption)', 'Generosity', 'Dystopia Residual']\n",
      "\n",
      "===== 2017 =====\n",
      "['Country', 'Happiness.Rank', 'Happiness.Score', 'Whisker.high', 'Whisker.low', 'Economy..GDP.per.Capita.', 'Family', 'Health..Life.Expectancy.', 'Freedom', 'Generosity', 'Trust..Government.Corruption.', 'Dystopia.Residual', 'Region']\n",
      "\n",
      "===== 2018 =====\n",
      "['Overall rank', 'Country', 'Score', 'GDP per capita', 'Social support', 'Healthy life expectancy', 'Freedom to make life choices', 'Generosity', 'Perceptions of corruption', 'Region']\n",
      "\n",
      "===== 2019 =====\n",
      "['Overall rank', 'Country', 'Score', 'GDP per capita', 'Social support', 'Healthy life expectancy', 'Freedom to make life choices', 'Generosity', 'Perceptions of corruption', 'Region']\n",
      "\n",
      "===== 2020 =====\n",
      "['Country', 'Region', 'Ladder score', 'Standard error of ladder score', 'upperwhisker', 'lowerwhisker', 'Logged GDP per capita', 'Social support', 'Healthy life expectancy', 'Freedom to make life choices', 'Generosity', 'Perceptions of corruption', 'Ladder score in Dystopia', 'Explained by: Log GDP per capita', 'Explained by: Social support', 'Explained by: Healthy life expectancy', 'Explained by: Freedom to make life choices', 'Explained by: Generosity', 'Explained by: Perceptions of corruption', 'Dystopia + residual']\n",
      "\n",
      "===== 2021 =====\n",
      "['Country', 'Region', 'Ladder score', 'Standard error of ladder score', 'upperwhisker', 'lowerwhisker', 'Logged GDP per capita', 'Social support', 'Healthy life expectancy', 'Freedom to make life choices', 'Generosity', 'Perceptions of corruption', 'Ladder score in Dystopia', 'Explained by: Log GDP per capita', 'Explained by: Social support', 'Explained by: Healthy life expectancy', 'Explained by: Freedom to make life choices', 'Explained by: Generosity', 'Explained by: Perceptions of corruption', 'Dystopia + residual']\n",
      "\n",
      "===== 2022 =====\n",
      "['RANK', 'Country', 'Happiness score', 'Whisker-high', 'Whisker-low', 'Dystopia (1.83) + residual', 'Explained by: GDP per capita', 'Explained by: Social support', 'Explained by: Healthy life expectancy', 'Explained by: Freedom to make life choices', 'Explained by: Generosity', 'Explained by: Perceptions of corruption', 'Region']\n",
      "\n",
      "===== 2017 =====\n",
      "       Country          Region\n",
      "0       Norway  Western Europe\n",
      "1      Denmark  Western Europe\n",
      "2      Iceland  Western Europe\n",
      "3  Switzerland  Western Europe\n",
      "4      Finland  Western Europe\n",
      "\n",
      "===== 2018 =====\n",
      "       Country          Region\n",
      "0      Finland  Western Europe\n",
      "1       Norway  Western Europe\n",
      "2      Denmark  Western Europe\n",
      "3      Iceland  Western Europe\n",
      "4  Switzerland  Western Europe\n",
      "\n",
      "===== 2019 =====\n",
      "       Country          Region\n",
      "0      Finland  Western Europe\n",
      "1      Denmark  Western Europe\n",
      "2       Norway  Western Europe\n",
      "3      Iceland  Western Europe\n",
      "4  Netherlands  Western Europe\n",
      "\n",
      "===== 2022 =====\n",
      "       Country          Region\n",
      "0      Finland  Western Europe\n",
      "1      Denmark  Western Europe\n",
      "2      Iceland  Western Europe\n",
      "3  Switzerland  Western Europe\n",
      "4  Netherlands  Western Europe\n"
     ]
    }
   ],
   "source": [
    "# Lista de datasets e respetivos anos\n",
    "datasets = {\n",
    "    2015: ano_2015,\n",
    "    2016: ano_2016,\n",
    "    2017: ano_2017,\n",
    "    2018: ano_2018,\n",
    "    2019: ano_2019,\n",
    "    2020: ano_2020,\n",
    "    2021: ano_2021,\n",
    "    2022: ano_2022\n",
    "}\n",
    "\n",
    "\n",
    "# Mostrar colunas de cada dataset\n",
    "for year, df in datasets.items():\n",
    "    print(f\"\\n===== {year} =====\")\n",
    "    print(df.columns.tolist())\n",
    "\n",
    "\n",
    "print(\"\\n===== 2017 =====\")\n",
    "print(ano_2017[[\"Country\", \"Region\"]].head())\n",
    "\n",
    "print(\"\\n===== 2018 =====\")\n",
    "print(ano_2018[[\"Country\", \"Region\"]].head())\n",
    "\n",
    "print(\"\\n===== 2019 =====\")\n",
    "print(ano_2019[[\"Country\", \"Region\"]].head())\n",
    "\n",
    "print(\"\\n===== 2022 =====\")\n",
    "print(ano_2022[[\"Country\", \"Region\"]].head())\n"
   ]
  },
  {
   "cell_type": "markdown",
   "id": "ce12c105",
   "metadata": {},
   "source": [
    "### Corrigir o GDP per Capita (log vs. linear)\n"
   ]
  },
  {
   "cell_type": "code",
   "execution_count": 13,
   "id": "1740744f",
   "metadata": {},
   "outputs": [
    {
     "name": "stdout",
     "output_type": "stream",
     "text": [
      "Coeficiente angular: 3.226469353424445\n",
      "Intercepto: 6.492642388684923\n"
     ]
    },
    {
     "data": {
      "image/png": "[encoded data removed]",
      "text/plain": [
       "<Figure size 640x480 with 1 Axes>"
      ]
     },
     "metadata": {},
     "output_type": "display_data"
    }
   ],
   "source": [
    "from sklearn.linear_model import LinearRegression\n",
    "import numpy as np\n",
    "import matplotlib.pyplot as plt \n",
    "\n",
    "X = ano_2020[[\"Explained by: Log GDP per capita\"]]\n",
    "y = ano_2020[\"Logged GDP per capita\"]\n",
    "\n",
    "modelo_gdp = LinearRegression().fit(X, y)\n",
    "print(\"Coeficiente angular:\", modelo_gdp.coef_[0])\n",
    "print(\"Intercepto:\", modelo_gdp.intercept_)\n",
    "\n",
    "# testar no próprio dataset\n",
    "ano_2020[\"Logged_pred\"] = modelo_gdp.predict(X)\n",
    "\n",
    "# comparar valores reais vs previstos\n",
    "plt.scatter(ano_2020[\"Logged GDP per capita\"], ano_2020[\"Logged_pred\"])\n",
    "plt.title(\"Valores reais vs previstos (2020)\")\n",
    "plt.xlabel(\"Real\")\n",
    "plt.ylabel(\"Previsto\")\n",
    "plt.show()\n"
   ]
  },
  {
   "cell_type": "code",
   "execution_count": 14,
   "id": "4a955d12",
   "metadata": {},
   "outputs": [
    {
     "name": "stdout",
     "output_type": "stream",
     "text": [
      "Index(['Country', 'Region', 'Ladder score', 'Standard error of ladder score',\n",
      "       'upperwhisker', 'lowerwhisker', 'Logged GDP per capita',\n",
      "       'Social support', 'Healthy life expectancy',\n",
      "       'Freedom to make life choices', 'Generosity',\n",
      "       'Perceptions of corruption', 'Ladder score in Dystopia',\n",
      "       'Explained by: Log GDP per capita', 'Explained by: Social support',\n",
      "       'Explained by: Healthy life expectancy',\n",
      "       'Explained by: Freedom to make life choices',\n",
      "       'Explained by: Generosity', 'Explained by: Perceptions of corruption',\n",
      "       'Dystopia + residual', 'Logged_pred'],\n",
      "      dtype='object')\n",
      "Index(['Country', 'Region', 'Ladder score', 'Standard error of ladder score',\n",
      "       'upperwhisker', 'lowerwhisker', 'Logged GDP per capita',\n",
      "       'Social support', 'Healthy life expectancy',\n",
      "       'Freedom to make life choices', 'Generosity',\n",
      "       'Perceptions of corruption', 'Ladder score in Dystopia',\n",
      "       'Explained by: Log GDP per capita', 'Explained by: Social support',\n",
      "       'Explained by: Healthy life expectancy',\n",
      "       'Explained by: Freedom to make life choices',\n",
      "       'Explained by: Generosity', 'Explained by: Perceptions of corruption',\n",
      "       'Dystopia + residual'],\n",
      "      dtype='object')\n"
     ]
    }
   ],
   "source": [
    "print(ano_2020.columns)\n",
    "print(ano_2021.columns)\n"
   ]
  },
  {
   "cell_type": "code",
   "execution_count": 15,
   "id": "d9e33c2b",
   "metadata": {},
   "outputs": [],
   "source": [
    "# Substituir vírgula por ponto e remover espaços\n",
    "ano_2022[\"Explained by: GDP per capita\"] = (\n",
    "    ano_2022[\"Explained by: GDP per capita\"]\n",
    "    .str.replace(\",\", \".\")\n",
    "    .str.strip()\n",
    "    .astype(float)\n",
    ")"
   ]
  },
  {
   "cell_type": "code",
   "execution_count": 16,
   "id": "c5833399",
   "metadata": {},
   "outputs": [
    {
     "name": "stdout",
     "output_type": "stream",
     "text": [
      "2015: min=0.00, max=1.69, mean=0.85\n",
      "2016: min=0.00, max=1.82, mean=0.95\n",
      "2017: min=0.00, max=1.87, mean=0.98\n",
      "2018: min=0.00, max=2.10, mean=0.89\n",
      "2019: min=0.00, max=1.68, mean=0.91\n",
      "2020: min=0.00, max=2.10, mean=0.42\n",
      "2021: min=0.00, max=2.10, mean=0.38\n",
      "2022: min=0.00, max=2.10, mean=1.10\n"
     ]
    }
   ],
   "source": [
    "import numpy as np\n",
    "import pandas as pd\n",
    "\n",
    "# --- 1. Converter log → linear para 2020 e 2021 ---\n",
    "for df in [ano_2020, ano_2021]:\n",
    "    df[\"Economy (GDP per Capita)\"] = np.exp(df[\"Logged GDP per capita\"])\n",
    "\n",
    "# --- 2. Criar mapa Explained → Logged usando 2020+2021 ---\n",
    "df_map = pd.concat([\n",
    "    ano_2020[[\"Logged GDP per capita\", \"Explained by: Log GDP per capita\"]],\n",
    "    ano_2021[[\"Logged GDP per capita\", \"Explained by: Log GDP per capita\"]]\n",
    "])\n",
    "\n",
    "# Garantir tipo float\n",
    "gdp_map_keys = np.array(df_map[\"Explained by: Log GDP per capita\"], dtype=float)\n",
    "gdp_map_values = np.array(df_map[\"Logged GDP per capita\"], dtype=float)\n",
    "\n",
    "# Função para buscar o valor mais próximo, segura para NaN\n",
    "def nearest_logged_safe(val, keys, values):\n",
    "    if pd.isna(val):\n",
    "        return np.nan\n",
    "    idx = (np.abs(keys - val)).argmin()\n",
    "    return values[idx]\n",
    "\n",
    "# --- 3. Aplicar 2022 de forma segura ---\n",
    "# Se houver dados em 'Explained by: GDP per capita', usamos eles; senão usamos 'Logged GDP per Capita'\n",
    "if ano_2022[\"Explained by: GDP per capita\"].notna().sum() > 0:\n",
    "    # Garantir numérico\n",
    "    ano_2022[\"Explained by: GDP per capita\"] = pd.to_numeric(\n",
    "        ano_2022[\"Explained by: GDP per capita\"], errors='coerce'\n",
    "    )\n",
    "    ano_2022[\"Logged GDP per Capita\"] = ano_2022[\"Explained by: GDP per capita\"].apply(\n",
    "        lambda x: nearest_logged_safe(x, gdp_map_keys, gdp_map_values)\n",
    "    )\n",
    "else:\n",
    "    # Fallback: usar Logged GDP per Capita já presente\n",
    "    ano_2022[\"Logged GDP per Capita\"] = ano_2022[\"Logged GDP per Capita\"]\n",
    "\n",
    "# Calcular Economy (GDP per Capita) de forma segura\n",
    "ano_2022[\"Economy (GDP per Capita)\"] = np.exp(ano_2022[\"Logged GDP per Capita\"])\n",
    "\n",
    "# --- 4. Padronizar nomes das colunas nos outros anos ---\n",
    "ano_2015.rename(columns={\"Economy (GDP per Capita)\": \"Economy (GDP per Capita)\"}, inplace=True)\n",
    "ano_2016.rename(columns={\"Economy (GDP per Capita)\": \"Economy (GDP per Capita)\"}, inplace=True)\n",
    "ano_2017.rename(columns={\"Economy..GDP.per.Capita.\": \"Economy (GDP per Capita)\"}, inplace=True)\n",
    "ano_2018.rename(columns={\"GDP per capita\": \"Economy (GDP per Capita)\"}, inplace=True)\n",
    "ano_2019.rename(columns={\"GDP per capita\": \"Economy (GDP per Capita)\"}, inplace=True)\n",
    "\n",
    "# --- 5. Normalizar anos 2020-2022 para a escala de 2015-2019 ---\n",
    "min_2015_2019 = min(\n",
    "    ano_2015['Economy (GDP per Capita)'].min(),\n",
    "    ano_2016['Economy (GDP per Capita)'].min(),\n",
    "    ano_2017['Economy (GDP per Capita)'].min(),\n",
    "    ano_2018['Economy (GDP per Capita)'].min(),\n",
    "    ano_2019['Economy (GDP per Capita)'].min()\n",
    ")\n",
    "\n",
    "max_2015_2019 = max(\n",
    "    ano_2015['Economy (GDP per Capita)'].max(),\n",
    "    ano_2016['Economy (GDP per Capita)'].max(),\n",
    "    ano_2017['Economy (GDP per Capita)'].max(),\n",
    "    ano_2018['Economy (GDP per Capita)'].max(),\n",
    "    ano_2019['Economy (GDP per Capita)'].max()\n",
    ")\n",
    "\n",
    "def rescale_to_2015_2019(gdp_series, min_val, max_val):\n",
    "    series_min = gdp_series.min()\n",
    "    series_max = gdp_series.max()\n",
    "    if series_max - series_min == 0:\n",
    "        return pd.Series([min_val] * len(gdp_series), index=gdp_series.index)\n",
    "    return (gdp_series - series_min) / (series_max - series_min) * (max_val - min_val) + min_val\n",
    "\n",
    "for df in [ano_2020, ano_2021, ano_2022]:\n",
    "    df['Economy (GDP per Capita)'] = rescale_to_2015_2019(df['Economy (GDP per Capita)'], min_2015_2019, max_2015_2019)\n",
    "\n",
    "# --- 6. Verificar min/max de todos os anos ---\n",
    "for year, df in zip(\n",
    "    range(2015, 2023),\n",
    "    [ano_2015, ano_2016, ano_2017, ano_2018, ano_2019, ano_2020, ano_2021, ano_2022]\n",
    "):\n",
    "    print(f\"{year}: min={df['Economy (GDP per Capita)'].min():.2f}, max={df['Economy (GDP per Capita)'].max():.2f}, mean={df['Economy (GDP per Capita)'].mean():.2f}\")\n"
   ]
  },
  {
   "cell_type": "markdown",
   "id": "d86b0a71",
   "metadata": {},
   "source": [
    "### Social support"
   ]
  },
  {
   "cell_type": "code",
   "execution_count": 17,
   "id": "c2aad849",
   "metadata": {},
   "outputs": [
    {
     "name": "stdout",
     "output_type": "stream",
     "text": [
      "  Explained by: Social support\n",
      "0                        1,258\n",
      "1                        1,243\n",
      "2                        1,320\n",
      "3                        1,226\n",
      "4                        1,206\n",
      "5                        1,155\n",
      "6                        1,204\n",
      "7                        1,239\n",
      "8                        1,221\n",
      "9                        1,235\n",
      "object\n",
      "1\n",
      "count       146\n",
      "unique      133\n",
      "top       0,865\n",
      "freq          3\n",
      "Name: Explained by: Social support, dtype: object\n"
     ]
    }
   ],
   "source": [
    "# Verificar os primeiros valores\n",
    "print(ano_2022[[\"Explained by: Social support\"]].head(10))\n",
    "\n",
    "# Verificar tipo e quantidade de valores faltantes\n",
    "print(ano_2022[\"Explained by: Social support\"].dtype)\n",
    "print(ano_2022[\"Explained by: Social support\"].isna().sum())\n",
    "\n",
    "# Estatísticas básicas (ignora NaN)\n",
    "print(ano_2022[\"Explained by: Social support\"].describe())\n"
   ]
  },
  {
   "cell_type": "code",
   "execution_count": 18,
   "id": "150f2763",
   "metadata": {},
   "outputs": [
    {
     "name": "stdout",
     "output_type": "stream",
     "text": [
      "   Explained by: Social support\n",
      "0                         1.258\n",
      "1                         1.243\n",
      "2                         1.320\n",
      "3                         1.226\n",
      "4                         1.206\n",
      "5                         1.155\n",
      "6                         1.204\n",
      "7                         1.239\n",
      "8                         1.221\n",
      "9                         1.235\n",
      "float64\n"
     ]
    }
   ],
   "source": [
    "# Converter tudo para string, substituir vírgula por ponto e depois converter para float\n",
    "ano_2022[\"Explained by: Social support\"] = pd.to_numeric(\n",
    "    ano_2022[\"Explained by: Social support\"].astype(str).str.replace(\",\", \".\"), \n",
    "    errors=\"coerce\"\n",
    ")\n",
    "\n",
    "# Conferir os primeiros valores\n",
    "print(ano_2022[[\"Explained by: Social support\"]].head(10))\n",
    "print(ano_2022[\"Explained by: Social support\"].dtype)\n"
   ]
  },
  {
   "cell_type": "code",
   "execution_count": 19,
   "id": "3fad215f",
   "metadata": {},
   "outputs": [
    {
     "name": "stdout",
     "output_type": "stream",
     "text": [
      "2015: min=0.00, max=1.40, mean=0.99\n",
      "2016: min=0.00, max=1.18, mean=0.79\n",
      "2017: min=0.00, max=1.61, mean=1.19\n",
      "2018: min=0.00, max=1.64, mean=1.21\n",
      "2019: min=0.00, max=1.62, mean=1.21\n",
      "2020: min=0.32, max=0.97, mean=0.81\n",
      "2021: min=0.46, max=0.98, mean=0.81\n",
      "2022: min=0.00, max=1.61, mean=1.21\n"
     ]
    }
   ],
   "source": [
    "# Função de normalização\n",
    "def rescale_to_2015_2017(ss_series, min_val, max_val):\n",
    "    series_min = ss_series.min()\n",
    "    series_max = ss_series.max()\n",
    "    if series_max - series_min == 0:\n",
    "        return pd.Series([min_val] * len(ss_series), index=ss_series.index)\n",
    "    return (ss_series - series_min) / (series_max - series_min) * (max_val - min_val) + min_val\n",
    "\n",
    "# Padronizar nomes de colunas 2015–2021\n",
    "ano_2015.rename(columns={\"Family\": \"Social Support\"}, inplace=True)\n",
    "ano_2016.rename(columns={\"Family\": \"Social Support\"}, inplace=True)\n",
    "ano_2017.rename(columns={\"Family\": \"Social Support\"}, inplace=True)\n",
    "ano_2018.rename(columns={\"Social support\": \"Social Support\"}, inplace=True)\n",
    "ano_2019.rename(columns={\"Social support\": \"Social Support\"}, inplace=True)\n",
    "ano_2020.rename(columns={\"Social support\": \"Social Support\"}, inplace=True)\n",
    "ano_2021.rename(columns={\"Social support\": \"Social Support\"}, inplace=True)\n",
    "# 2022 ainda não tem a coluna final, será criada abaixo\n",
    "\n",
    "# Criar dicionário usando as colunas \"explained\" reais\n",
    "df_map = pd.concat([\n",
    "    ano_2020[[\"Social Support\", \"Explained by: Social support\"]],\n",
    "    ano_2021[[\"Social Support\", \"Explained by: Social support\"]]\n",
    "])\n",
    "keys = pd.to_numeric(df_map[\"Explained by: Social support\"].astype(str).str.replace(\",\", \".\"), errors=\"coerce\").values\n",
    "values = df_map[\"Social Support\"].values\n",
    "\n",
    "def nearest_value(val, keys, values):\n",
    "    idx = (np.abs(keys - val)).argmin()\n",
    "    return values[idx]\n",
    "\n",
    "# Criar a coluna final Social Support em 2022\n",
    "expl_2022 = pd.to_numeric(ano_2022[\"Explained by: Social support\"].astype(str).str.replace(\",\", \".\"), errors=\"coerce\")\n",
    "ano_2022['Social Support'] = expl_2022.apply(lambda x: nearest_value(x, keys, values))\n",
    "\n",
    "# Normalizar para a escala 2015–2017\n",
    "min_2015_2017 = min(ano_2015['Social Support'].min(),\n",
    "                     ano_2016['Social Support'].min(),\n",
    "                     ano_2017['Social Support'].min())\n",
    "max_2015_2017 = max(ano_2015['Social Support'].max(),\n",
    "                     ano_2016['Social Support'].max(),\n",
    "                     ano_2017['Social Support'].max())\n",
    "\n",
    "ano_2022['Social Support'] = rescale_to_2015_2017(ano_2022['Social Support'], min_2015_2017, max_2015_2017)\n",
    "\n",
    "# Conferir min/max/mean de todos os anos\n",
    "for year, df in zip(range(2015, 2023),\n",
    "                    [ano_2015, ano_2016, ano_2017, ano_2018, ano_2019, ano_2020, ano_2021, ano_2022]):\n",
    "    print(f\"{year}: min={df['Social Support'].min():.2f}, max={df['Social Support'].max():.2f}, mean={df['Social Support'].mean():.2f}\")\n"
   ]
  },
  {
   "cell_type": "markdown",
   "id": "8df11c2a",
   "metadata": {},
   "source": [
    "### Healthy life expectancy"
   ]
  },
  {
   "cell_type": "code",
   "execution_count": 20,
   "id": "3f202654",
   "metadata": {},
   "outputs": [
    {
     "name": "stdout",
     "output_type": "stream",
     "text": [
      "   Explained by: Healthy life expectancy\n",
      "0                                  0.775\n",
      "1                                  0.777\n",
      "2                                  0.803\n",
      "3                                  0.822\n",
      "4                                  0.787\n",
      "5                                  0.790\n",
      "6                                  0.803\n",
      "7                                  0.786\n",
      "8                                  0.818\n",
      "9                                  0.752\n",
      "float64\n"
     ]
    }
   ],
   "source": [
    "# Converter tudo para string, substituir vírgula por ponto e depois converter para float\n",
    "ano_2022[\"Explained by: Healthy life expectancy\"] = pd.to_numeric(\n",
    "    ano_2022[\"Explained by: Healthy life expectancy\"].astype(str).str.replace(\",\", \".\"), \n",
    "    errors=\"coerce\"\n",
    ")\n",
    "\n",
    "# Conferir os primeiros valores\n",
    "print(ano_2022[[\"Explained by: Healthy life expectancy\"]].head(10))\n",
    "print(ano_2022[\"Explained by: Healthy life expectancy\"].dtype)\n"
   ]
  },
  {
   "cell_type": "code",
   "execution_count": 21,
   "id": "447d4b14",
   "metadata": {},
   "outputs": [
    {
     "name": "stdout",
     "output_type": "stream",
     "text": [
      "2015: min=0.00, max=1.03, mean=0.63\n",
      "2016: min=0.00, max=0.95, mean=0.56\n",
      "2017: min=0.00, max=0.95, mean=0.55\n",
      "2018: min=0.00, max=1.03, mean=0.60\n",
      "2019: min=0.00, max=1.14, mean=0.73\n",
      "2020: min=45.20, max=76.80, mean=64.45\n",
      "2021: min=48.48, max=76.95, mean=64.99\n",
      "2022: min=0.00, max=1.14, mean=0.75\n"
     ]
    }
   ],
   "source": [
    "# Função de normalização para escala 2015–2019\n",
    "def rescale_to_2015_2019(series, min_val, max_val):\n",
    "    series_min = series.min()\n",
    "    series_max = series.max()\n",
    "    if series_max - series_min == 0:\n",
    "        return pd.Series([min_val] * len(series), index=series.index)\n",
    "    return (series - series_min) / (series_max - series_min) * (max_val - min_val) + min_val\n",
    "\n",
    "# Padronizar nomes de colunas 2015–2021\n",
    "ano_2015.rename(columns={\"Health (Life Expectancy)\": \"Healthy Life Expectancy\"}, inplace=True)\n",
    "ano_2016.rename(columns={\"Health (Life Expectancy)\": \"Healthy Life Expectancy\"}, inplace=True)\n",
    "ano_2017.rename(columns={\"Health..Life.Expectancy.\": \"Healthy Life Expectancy\"}, inplace=True)\n",
    "ano_2018.rename(columns={\"Healthy life expectancy\": \"Healthy Life Expectancy\"}, inplace=True)\n",
    "ano_2019.rename(columns={\"Healthy life expectancy\": \"Healthy Life Expectancy\"}, inplace=True)\n",
    "ano_2020.rename(columns={\"Healthy life expectancy\": \"Healthy Life Expectancy\"}, inplace=True)\n",
    "ano_2021.rename(columns={\"Healthy life expectancy\": \"Healthy Life Expectancy\"}, inplace=True)\n",
    "# 2022 ainda não tem a coluna final, será criada abaixo\n",
    "\n",
    "# Criar dicionário usando 2020 + 2021\n",
    "df_map = pd.concat([\n",
    "    ano_2020[[\"Healthy Life Expectancy\", \"Explained by: Healthy life expectancy\"]],\n",
    "    ano_2021[[\"Healthy Life Expectancy\", \"Explained by: Healthy life expectancy\"]]\n",
    "])\n",
    "keys = pd.to_numeric(df_map[\"Explained by: Healthy life expectancy\"].astype(str).str.replace(\",\", \".\"), errors=\"coerce\").values\n",
    "values = df_map[\"Healthy Life Expectancy\"].values\n",
    "\n",
    "# Função para pegar o valor mais próximo do dicionário\n",
    "def nearest_value(val, keys, values):\n",
    "    idx = (np.abs(keys - val)).argmin()\n",
    "    return values[idx]\n",
    "\n",
    "# Criar a coluna final Healthy Life Expectancy em 2022\n",
    "expl_2022 = pd.to_numeric(ano_2022[\"Explained by: Healthy life expectancy\"].astype(str).str.replace(\",\", \".\"), errors=\"coerce\")\n",
    "ano_2022['Healthy Life Expectancy'] = expl_2022.apply(lambda x: nearest_value(x, keys, values))\n",
    "\n",
    "# Normalizar para a escala 2015–2019\n",
    "min_2015_2019 = min(\n",
    "    ano_2015['Healthy Life Expectancy'].min(),\n",
    "    ano_2016['Healthy Life Expectancy'].min(),\n",
    "    ano_2017['Healthy Life Expectancy'].min(),\n",
    "    ano_2018['Healthy Life Expectancy'].min(),\n",
    "    ano_2019['Healthy Life Expectancy'].min()\n",
    ")\n",
    "max_2015_2019 = max(\n",
    "    ano_2015['Healthy Life Expectancy'].max(),\n",
    "    ano_2016['Healthy Life Expectancy'].max(),\n",
    "    ano_2017['Healthy Life Expectancy'].max(),\n",
    "    ano_2018['Healthy Life Expectancy'].max(),\n",
    "    ano_2019['Healthy Life Expectancy'].max()\n",
    ")\n",
    "ano_2022['Healthy Life Expectancy'] = rescale_to_2015_2019(ano_2022['Healthy Life Expectancy'], min_2015_2019, max_2015_2019)\n",
    "\n",
    "# Conferir min/max/mean de todos os anos\n",
    "for year, df in zip(\n",
    "    range(2015, 2023),\n",
    "    [ano_2015, ano_2016, ano_2017, ano_2018, ano_2019, ano_2020, ano_2021, ano_2022]\n",
    "):\n",
    "    print(f\"{year}: min={df['Healthy Life Expectancy'].min():.2f}, max={df['Healthy Life Expectancy'].max():.2f}, mean={df['Healthy Life Expectancy'].mean():.2f}\")\n"
   ]
  },
  {
   "cell_type": "markdown",
   "id": "a870405e",
   "metadata": {},
   "source": [
    "### Freedom"
   ]
  },
  {
   "cell_type": "code",
   "execution_count": 22,
   "id": "45c05850",
   "metadata": {},
   "outputs": [
    {
     "name": "stdout",
     "output_type": "stream",
     "text": [
      "   Explained by: Freedom to make life choices\n",
      "0                                       0.736\n",
      "1                                       0.719\n",
      "2                                       0.718\n",
      "3                                       0.677\n",
      "4                                       0.651\n",
      "5                                       0.700\n",
      "6                                       0.724\n",
      "7                                       0.728\n",
      "8                                       0.568\n",
      "9                                       0.680\n",
      "float64\n"
     ]
    }
   ],
   "source": [
    "# Converter tudo para string, substituir vírgula por ponto e depois converter para float\n",
    "ano_2022[\"Explained by: Freedom to make life choices\"] = pd.to_numeric(\n",
    "    ano_2022[\"Explained by: Freedom to make life choices\"].astype(str).str.replace(\",\", \".\"), \n",
    "    errors=\"coerce\"\n",
    ")\n",
    "\n",
    "# Conferir os primeiros valores\n",
    "print(ano_2022[[\"Explained by: Freedom to make life choices\"]].head(10))\n",
    "print(ano_2022[\"Explained by: Freedom to make life choices\"].dtype)\n"
   ]
  },
  {
   "cell_type": "code",
   "execution_count": 23,
   "id": "41657b43",
   "metadata": {},
   "outputs": [
    {
     "name": "stdout",
     "output_type": "stream",
     "text": [
      "2015: min=0.000, max=0.670, mean=0.429\n",
      "2016: min=0.000, max=0.608, mean=0.371\n",
      "2017: min=0.000, max=0.658, mean=0.409\n",
      "2018: min=0.000, max=0.724, mean=0.455\n",
      "2019: min=0.000, max=0.631, mean=0.393\n",
      "2020: min=0.397, max=0.975, mean=0.783\n",
      "2021: min=0.382, max=0.970, mean=0.792\n",
      "2022: min=0.000, max=0.975, mean=0.417\n"
     ]
    }
   ],
   "source": [
    "# Renomear colunas para padronizar todos os anos\n",
    "ano_2015.rename(columns={\"Freedom\": \"Freedom\"}, inplace=True)\n",
    "ano_2016.rename(columns={\"Freedom\": \"Freedom\"}, inplace=True)\n",
    "ano_2017.rename(columns={\"Freedom\": \"Freedom\"}, inplace=True)\n",
    "ano_2018.rename(columns={\"Freedom to make life choices\": \"Freedom\"}, inplace=True)\n",
    "ano_2019.rename(columns={\"Freedom to make life choices\": \"Freedom\"}, inplace=True)\n",
    "ano_2020.rename(columns={\"Freedom to make life choices\": \"Freedom\"}, inplace=True)\n",
    "ano_2021.rename(columns={\"Freedom to make life choices\": \"Freedom\"}, inplace=True)\n",
    "# 2022 será criada abaixo, não renomeia\n",
    "\n",
    "# Criar dicionário usando 2020 + 2021\n",
    "df_map = pd.concat([\n",
    "    ano_2020[[\"Freedom\"]].rename(columns={\"Freedom\": \"Value\"}),\n",
    "    ano_2021[[\"Freedom\"]].rename(columns={\"Freedom\": \"Value\"})\n",
    "])\n",
    "keys = df_map[\"Value\"].values  # valores do dicionário\n",
    "values = df_map[\"Value\"].values\n",
    "\n",
    "# Função para pegar o valor mais próximo\n",
    "def nearest_value(val, keys, values):\n",
    "    if np.isnan(val):\n",
    "        return np.nan\n",
    "    idx = (np.abs(keys - val)).argmin()\n",
    "    return values[idx]\n",
    "\n",
    "# Criar coluna final Freedom em 2022\n",
    "ano_2022[\"Freedom\"] = ano_2022[\"Explained by: Freedom to make life choices\"].apply(\n",
    "    lambda x: nearest_value(x, keys, values)\n",
    ")\n",
    "\n",
    "# Normalizar para a escala 2015–2021\n",
    "min_2015_2021 = min([df['Freedom'].min() for df in [ano_2015, ano_2016, ano_2017, ano_2018, ano_2019, ano_2020, ano_2021]])\n",
    "max_2015_2021 = max([df['Freedom'].max() for df in [ano_2015, ano_2016, ano_2017, ano_2018, ano_2019, ano_2020, ano_2021]])\n",
    "\n",
    "def rescale_to_2015_2021(series, min_val, max_val):\n",
    "    series_min = series.min()\n",
    "    series_max = series.max()\n",
    "    if series_max - series_min == 0:\n",
    "        return pd.Series([min_val] * len(series), index=series.index)\n",
    "    return (series - series_min) / (series_max - series_min) * (max_val - min_val) + min_val\n",
    "\n",
    "ano_2022[\"Freedom\"] = rescale_to_2015_2021(ano_2022[\"Freedom\"], min_2015_2021, max_2015_2021)\n",
    "\n",
    "# Conferir min/max de todos os anos\n",
    "for year, df in zip(range(2015, 2023), [ano_2015, ano_2016, ano_2017, ano_2018, ano_2019, ano_2020, ano_2021, ano_2022]):\n",
    "    print(f\"{year}: min={df['Freedom'].min():.3f}, max={df['Freedom'].max():.3f}, mean={df['Freedom'].mean():.3f}\")\n"
   ]
  },
  {
   "cell_type": "markdown",
   "id": "6ab15f7e",
   "metadata": {},
   "source": [
    "### Corruption"
   ]
  },
  {
   "cell_type": "code",
   "execution_count": 24,
   "id": "76c9b597",
   "metadata": {},
   "outputs": [
    {
     "name": "stdout",
     "output_type": "stream",
     "text": [
      "   Explained by: Perceptions of corruption\n",
      "0                                    0.534\n",
      "1                                    0.532\n",
      "2                                    0.191\n",
      "3                                    0.461\n",
      "4                                    0.419\n",
      "5                                    0.388\n",
      "6                                    0.512\n",
      "7                                    0.474\n",
      "8                                    0.143\n",
      "9                                    0.483\n",
      "float64\n"
     ]
    }
   ],
   "source": [
    "# Converter tudo para string, substituir vírgula por ponto e depois converter para float\n",
    "ano_2022[\"Explained by: Perceptions of corruption\"] = pd.to_numeric(\n",
    "    ano_2022[\"Explained by: Perceptions of corruption\"].astype(str).str.replace(\",\", \".\"), \n",
    "    errors=\"coerce\"\n",
    ")\n",
    "\n",
    "# Conferir os primeiros valores\n",
    "print(ano_2022[[\"Explained by: Perceptions of corruption\"]].head(10))\n",
    "print(ano_2022[\"Explained by: Perceptions of corruption\"].dtype)\n"
   ]
  },
  {
   "cell_type": "code",
   "execution_count": 25,
   "id": "719a1964",
   "metadata": {},
   "outputs": [
    {
     "name": "stdout",
     "output_type": "stream",
     "text": [
      "2015: min=0.000, max=0.552, mean=0.143\n",
      "2016: min=0.000, max=0.505, mean=0.138\n",
      "2017: min=0.000, max=0.464, mean=0.123\n",
      "2018: min=0.000, max=0.457, mean=0.112\n",
      "2019: min=0.000, max=0.453, mean=0.111\n",
      "2020: min=0.110, max=0.936, mean=0.733\n",
      "2021: min=0.082, max=0.939, mean=0.727\n",
      "2022: min=0.000, max=0.939, mean=0.158\n"
     ]
    }
   ],
   "source": [
    "# Renomear colunas para padronizar\n",
    "ano_2015.rename(columns={\"Trust (Government Corruption)\": \"Corruption\"}, inplace=True)\n",
    "ano_2016.rename(columns={\"Trust (Government Corruption)\": \"Corruption\"}, inplace=True)\n",
    "ano_2017.rename(columns={\"Trust..Government.Corruption.\": \"Corruption\"}, inplace=True)\n",
    "ano_2018.rename(columns={\"Perceptions of corruption\": \"Corruption\"}, inplace=True)\n",
    "ano_2019.rename(columns={\"Perceptions of corruption\": \"Corruption\"}, inplace=True)\n",
    "ano_2020.rename(columns={\"Perceptions of corruption\": \"Corruption\"}, inplace=True)\n",
    "ano_2021.rename(columns={\"Perceptions of corruption\": \"Corruption\"}, inplace=True)\n",
    "# 2022 será criada abaixo\n",
    "\n",
    "# Criar dicionário usando 2020 + 2021\n",
    "df_map_corr = pd.concat([\n",
    "    ano_2020[[\"Corruption\"]].rename(columns={\"Corruption\": \"Value\"}),\n",
    "    ano_2021[[\"Corruption\"]].rename(columns={\"Corruption\": \"Value\"})\n",
    "])\n",
    "keys = df_map_corr[\"Value\"].values  # valores a buscar\n",
    "values = df_map_corr[\"Value\"].values\n",
    "\n",
    "def nearest_value(val, keys, values):\n",
    "    idx = (np.abs(keys - val)).argmin()\n",
    "    return values[idx]\n",
    "\n",
    "\n",
    "# Criar coluna final Corruption em 2022\n",
    "\n",
    "corr_2022 = pd.to_numeric(ano_2022[\"Explained by: Perceptions of corruption\"].astype(str).str.replace(\",\", \".\"), errors=\"coerce\")\n",
    "ano_2022['Corruption'] = corr_2022.apply(lambda x: nearest_value(x, keys, values))\n",
    "\n",
    "# Normalizar para a escala 2015–2021\n",
    "min_2015_2021_corr = min([df['Corruption'].min() for df in [ano_2015, ano_2016, ano_2017, ano_2018, ano_2019, ano_2020, ano_2021]])\n",
    "max_2015_2021_corr = max([df['Corruption'].max() for df in [ano_2015, ano_2016, ano_2017, ano_2018, ano_2019, ano_2020, ano_2021]])\n",
    "\n",
    "def rescale_to_2015_2021(series, min_val, max_val):\n",
    "    series_min = series.min()\n",
    "    series_max = series.max()\n",
    "    if series_max - series_min == 0:\n",
    "        return pd.Series([min_val] * len(series), index=series.index)\n",
    "    return (series - series_min) / (series_max - series_min) * (max_val - min_val) + min_val\n",
    "\n",
    "ano_2022[\"Corruption\"] = rescale_to_2015_2021(ano_2022[\"Corruption\"], min_2015_2021_corr, max_2015_2021_corr)\n",
    "\n",
    "# Conferir min/max de todos os anos\n",
    "for year, df in zip(range(2015, 2023), [ano_2015, ano_2016, ano_2017, ano_2018, ano_2019, ano_2020, ano_2021, ano_2022]):\n",
    "    print(f\"{year}: min={df['Corruption'].min():.3f}, max={df['Corruption'].max():.3f}, mean={df['Corruption'].mean():.3f}\")\n"
   ]
  },
  {
   "cell_type": "markdown",
   "id": "48719d3d",
   "metadata": {},
   "source": [
    "### Generosity"
   ]
  },
  {
   "cell_type": "code",
   "execution_count": 26,
   "id": "db1a8a3a",
   "metadata": {},
   "outputs": [
    {
     "name": "stdout",
     "output_type": "stream",
     "text": [
      "0    0.109\n",
      "1    0.188\n",
      "2    0.270\n",
      "3    0.147\n",
      "4    0.271\n",
      "5    0.120\n",
      "6    0.218\n",
      "7    0.217\n",
      "8    0.155\n",
      "9    0.245\n",
      "Name: Explained by: Generosity, dtype: float64\n",
      "float64\n"
     ]
    }
   ],
   "source": [
    "ano_2022[\"Explained by: Generosity\"] = (\n",
    "    ano_2022[\"Explained by: Generosity\"]\n",
    "    .astype(str)                       # garantir que é string\n",
    "    .str.replace(\",\", \".\", regex=False)  # substituir vírgula por ponto\n",
    "    .str.strip()                        # remover espaços extras\n",
    ")\n",
    "ano_2022[\"Explained by: Generosity\"] = pd.to_numeric(\n",
    "    ano_2022[\"Explained by: Generosity\"], errors=\"coerce\"\n",
    ")\n",
    "\n",
    "\n",
    "print(ano_2022[\"Explained by: Generosity\"].head(10))\n",
    "print(ano_2022[\"Explained by: Generosity\"].dtype)  # deve ser float64\n"
   ]
  },
  {
   "cell_type": "code",
   "execution_count": 27,
   "id": "9e328a1b",
   "metadata": {},
   "outputs": [
    {
     "name": "stdout",
     "output_type": "stream",
     "text": [
      "Generosity\n",
      "<class 'float'>    153\n",
      "Name: count, dtype: int64\n",
      "0    -0.059482\n",
      "1     0.066202\n",
      "2     0.105911\n",
      "3     0.246944\n",
      "4     0.134533\n",
      "5     0.207612\n",
      "6     0.111615\n",
      "7     0.191598\n",
      "8     0.085429\n",
      "9    -0.004621\n",
      "10    0.124771\n",
      "11    0.190460\n",
      "12    0.263732\n",
      "13    0.102594\n",
      "14   -0.102430\n",
      "15    0.145785\n",
      "16    0.080179\n",
      "17    0.149892\n",
      "18   -0.230862\n",
      "19   -0.078691\n",
      "Name: Generosity, dtype: float64\n",
      "0\n"
     ]
    }
   ],
   "source": [
    "print(ano_2020[\"Generosity\"].apply(type).value_counts())\n",
    "print(ano_2020[\"Generosity\"].head(20))\n",
    "print(ano_2020[\"Generosity\"].isna().sum())\n"
   ]
  },
  {
   "cell_type": "code",
   "execution_count": 28,
   "id": "1b10adf1",
   "metadata": {},
   "outputs": [
    {
     "name": "stdout",
     "output_type": "stream",
     "text": [
      "Min 2015-2021: -0.301\n",
      "Max 2015-2021: 0.838\n",
      "2015: min=0.000, max=0.796, mean=0.237\n",
      "2016: min=0.000, max=0.820, mean=0.243\n",
      "2017: min=0.000, max=0.838, mean=0.247\n",
      "2018: min=0.000, max=0.598, mean=0.181\n",
      "2019: min=0.000, max=0.566, mean=0.185\n",
      "2020: min=-0.301, max=0.561, mean=-0.015\n",
      "2021: min=-0.288, max=0.542, mean=-0.015\n",
      "2022: min=-0.301, max=0.838, mean=0.111\n"
     ]
    }
   ],
   "source": [
    "\n",
    "# Criar dicionário usando 2020 + 2021\n",
    "df_map_gen = pd.concat([\n",
    "    ano_2020[[\"Generosity\"]].rename(columns={\"Generosity\": \"Value\"}),\n",
    "    ano_2021[[\"Generosity\"]].rename(columns={\"Generosity\": \"Value\"})\n",
    "])\n",
    "\n",
    "# Converter para float de forma segura\n",
    "keys_gen = pd.to_numeric(df_map_gen[\"Value\"], errors='coerce').dropna().values\n",
    "values_gen = keys_gen.copy()\n",
    "\n",
    "# Função para pegar valor mais próximo\n",
    "def nearest_value_safe(val, keys, values):\n",
    "    if pd.isna(val):\n",
    "        return np.nan\n",
    "    idx = np.argmin(np.abs(keys - float(val)))\n",
    "    return values[idx]\n",
    "\n",
    "\n",
    "# Aplicar no DataFrame 2022\n",
    "gen_2022 = pd.to_numeric(ano_2022[\"Explained by: Generosity\"].astype(str).str.replace(\",\", \".\"), errors='coerce')\n",
    "ano_2022['Generosity'] = gen_2022.apply(lambda x: nearest_value(x, keys_gen, values_gen))\n",
    "\n",
    "\n",
    "# Garantir que a coluna é numérica\n",
    "ano_2022[\"Generosity\"] = pd.to_numeric(ano_2022[\"Generosity\"], errors='coerce')\n",
    "# ABORDAGEM ALTERNATIVA - Mais robusta para calcular min/max\n",
    "all_generosity_values = []\n",
    "\n",
    "# Renomear colunas para padronizar\n",
    "ano_2015.rename(columns={\"Generosity\": \"Generosity\"}, inplace=True)\n",
    "ano_2016.rename(columns={\"Generosity\": \"Generosity\"}, inplace=True)\n",
    "ano_2017.rename(columns={\"Generosity\": \"Generosity\"}, inplace=True)\n",
    "ano_2018.rename(columns={\"Generosity\": \"Generosity\"}, inplace=True)\n",
    "ano_2019.rename(columns={\"Generosity\": \"Generosity\"}, inplace=True)\n",
    "ano_2020.rename(columns={\"Generosity\": \"Generosity\"}, inplace=True)\n",
    "ano_2021.rename(columns={\"Generosity\": \"Generosity\"}, inplace=True)\n",
    "\n",
    "\n",
    "# Coletar todos os valores de Generosity de 2015-2021\n",
    "for df in [ano_2015, ano_2016, ano_2017, ano_2018, ano_2019, ano_2020, ano_2021]:\n",
    "    if 'Generosity' in df.columns:\n",
    "        values = df['Generosity']\n",
    "        \n",
    "        # Se for DataFrame, converter para Series\n",
    "        if isinstance(values, pd.DataFrame):\n",
    "            values = values.iloc[:, 0]\n",
    "        \n",
    "        # Adicionar valores à lista\n",
    "        all_generosity_values.extend(values.dropna().tolist())\n",
    "\n",
    "# Calcular min e max globais\n",
    "if all_generosity_values:\n",
    "    min_2015_2021_gen = np.min(all_generosity_values)\n",
    "    max_2015_2021_gen = np.max(all_generosity_values)\n",
    "else:\n",
    "    # Valores padrão se não houver dados\n",
    "    min_2015_2021_gen = 0\n",
    "    max_2015_2021_gen = 1\n",
    "    print(\"Aviso: Usando valores padrão para normalização\")\n",
    "\n",
    "print(f\"Min 2015-2021: {min_2015_2021_gen:.3f}\")\n",
    "print(f\"Max 2015-2021: {max_2015_2021_gen:.3f}\")\n",
    "\n",
    "def rescale_to_2015_2021(series, min_val, max_val):\n",
    "    series_min = series.min()\n",
    "    series_max = series.max()\n",
    "    if series_max - series_min == 0:\n",
    "        return pd.Series([min_val] * len(series), index=series.index)\n",
    "    return (series - series_min) / (series_max - series_min) * (max_val - min_val) + min_val\n",
    "\n",
    "ano_2022[\"Generosity\"] = rescale_to_2015_2021(\n",
    "    ano_2022[\"Generosity\"], min_2015_2021_gen, max_2015_2021_gen\n",
    ")\n",
    "\n",
    "# Conferir min/max de todos os anos\n",
    "for year, df in zip(range(2015, 2023), [ano_2015, ano_2016, ano_2017, ano_2018, ano_2019, ano_2020, ano_2021, ano_2022]):\n",
    "    print(f\"{year}: min={df['Generosity'].min():.3f}, max={df['Generosity'].max():.3f}, mean={df['Generosity'].mean():.3f}\")\n"
   ]
  },
  {
   "cell_type": "markdown",
   "id": "34c866ed",
   "metadata": {},
   "source": [
    "### Happines score"
   ]
  },
  {
   "cell_type": "code",
   "execution_count": 35,
   "id": "821d53ef",
   "metadata": {},
   "outputs": [],
   "source": [
    "ano_2015.rename(columns={\"Happiness Score\": \"Score\"}, inplace=True)\n",
    "ano_2016.rename(columns={\"Happiness Score\": \"Score\"}, inplace=True)\n",
    "ano_2017.rename(columns={\"Happiness.Score\": \"Score\"}, inplace=True)\n",
    "ano_2018.rename(columns={\"Score\": \"Score\"}, inplace=True)\n",
    "ano_2019.rename(columns={\"Score\": \"Score\"}, inplace=True)\n",
    "ano_2020.rename(columns={\"Ladder score\": \"Score\"}, inplace=True)\n",
    "ano_2021.rename(columns={\"Ladder score\": \"Score\"}, inplace=True)\n",
    "ano_2022.rename(columns={\"Happiness score\": \"Score\"}, inplace=True)"
   ]
  },
  {
   "cell_type": "markdown",
   "id": "a2bdb56f",
   "metadata": {},
   "source": [
    "### Hapiness Rank"
   ]
  },
  {
   "cell_type": "code",
   "execution_count": 36,
   "id": "e1e8e4ea",
   "metadata": {},
   "outputs": [],
   "source": [
    "#1. mudar tudo para o mesmo nome\n",
    "ano_2015.rename(columns={\"Happiness Rank\": \"Rank\"}, inplace=True)\n",
    "ano_2016.rename(columns={\"Happiness Rank\": \"Rank\"}, inplace=True)\n",
    "ano_2017.rename(columns={\"Happiness.Rank\": \"Rank\"}, inplace=True)\n",
    "ano_2018.rename(columns={\"Overall rank\": \"Rank\"}, inplace=True)\n",
    "ano_2019.rename(columns={\"Overall rank\": \"Rank\"}, inplace=True)\n",
    "ano_2022.rename(columns={\"RANK\": \"Rank\"}, inplace=True)\n",
    "\n",
    "\n",
    "#tratar dos anos que não têm rank\n",
    "#1. criar a coluna Rank para 20200 e 2021\n",
    "#2. ir ao Score desses anos e ordenar as linhas por ordem decrescentente\n",
    "#3. Atribua rank = 1 ao maior score, rank = 2 ao segundo maior, etc.\n",
    "#4. em caso de empate, ir aos outros atributos e ver quais os melhores\n",
    "import pandas as pd\n",
    "\n",
    "# Supondo que seu dataframe já tenha a coluna Score\n",
    "# Exemplo para ano_2020\n",
    "\n",
    "# Colunas para desempate em ordem de prioridade\n",
    "tiebreak_cols = [\"Economy (GDP per Capita)\", \n",
    "                 \"Social support\", \n",
    "                 \"Healthy life expectancy\", \n",
    "                 \"Freedom\", \n",
    "                 \"Generosity\", \n",
    "                 \"Corruption\"] \n",
    "\n",
    "# Ordena pelo Score decrescente\n",
    "df = ano_2020.sort_values(by=\"Score\", ascending=False).reset_index(drop=True)\n",
    "\n",
    "# Inicializa rank\n",
    "rank = 1\n",
    "ranks = []\n",
    "\n",
    "for i in range(len(df)):\n",
    "    if i == 0:\n",
    "        # Primeira linha sempre rank 1\n",
    "        ranks.append(rank)\n",
    "    else:\n",
    "        # Se Score diferente da linha anterior, incrementa rank\n",
    "        if df.loc[i, \"Score\"] != df.loc[i-1, \"Score\"]:\n",
    "            rank += 1\n",
    "            ranks.append(rank)\n",
    "        else:\n",
    "            # Empate no Score → desempate usando tiebreak_cols\n",
    "            # Compara linha atual com linha anterior\n",
    "            tie_broken = False\n",
    "            for col in tiebreak_cols:\n",
    "                if df.loc[i, col] > df.loc[i-1, col]:\n",
    "                    # Linha atual vence desempate → rank continua o mesmo\n",
    "                    ranks.append(rank)\n",
    "                    tie_broken = True\n",
    "                    break\n",
    "                elif df.loc[i, col] < df.loc[i-1, col]:\n",
    "                    # Linha anterior vence → rank atual = rank anterior +1\n",
    "                    rank += 1\n",
    "                    ranks.append(rank)\n",
    "                    tie_broken = True\n",
    "                    break\n",
    "            if not tie_broken:\n",
    "                # Empate total em todos os critérios → rank igual\n",
    "                ranks.append(rank)\n",
    "\n",
    "# Atribui a coluna Rank\n",
    "df[\"Rank\"] = ranks\n",
    "\n",
    "# Atualiza o dataframe original\n",
    "ano_2020 = df\n"
   ]
  },
  {
   "cell_type": "code",
   "execution_count": null,
   "id": "eeb190a5",
   "metadata": {},
   "outputs": [
    {
     "name": "stdout",
     "output_type": "stream",
     "text": [
      "       Country   Score  Rank\n",
      "0      Finland  7.8087     1\n",
      "1      Denmark  7.6456     2\n",
      "2  Switzerland  7.5599     3\n",
      "3      Iceland  7.5045     4\n",
      "4       Norway  7.4880     5\n",
      "5  Netherlands  7.4489     6\n",
      "6       Sweden  7.3535     7\n",
      "7  New Zealand  7.2996     8\n",
      "8      Austria  7.2942     9\n",
      "9   Luxembourg  7.2375    10\n"
     ]
    }
   ],
   "source": [
    "print(ano_2020[[\"Country\", \"Score\", \"Rank\"]].head(10))\n"
   ]
  },
  {
   "cell_type": "markdown",
   "id": "766a8720",
   "metadata": {},
   "source": [
    "### Dystopia Residual"
   ]
  },
  {
   "cell_type": "code",
   "execution_count": null,
   "id": "ad2007bd",
   "metadata": {},
   "outputs": [],
   "source": [
    "ano_2022[\"Dystopia (1.83) + residual\"] = (\n",
    "    ano_2022[\"Dystopia (1.83) + residual\"]\n",
    "    .astype(str)                       # garantir que é string\n",
    "    .str.replace(\",\", \".\", regex=False)  # substituir vírgula por ponto\n",
    "    .str.strip()                        # remover espaços extras\n",
    ")\n",
    "ano_2022[\"Dystopia (1.83) + residual\"] = pd.to_numeric(\n",
    "    ano_2022[\"Dystopia (1.83) + residual\"], errors=\"coerce\"\n",
    ")\n",
    "\n",
    "\n",
    "print(ano_2022[\"Dystopia (1.83) + residual\"].head(10))\n",
    "print(ano_2022[\"Dystopia (1.83) + residual\"].dtype)  # deve ser float64\n"
   ]
  },
  {
   "cell_type": "markdown",
   "id": "44838753",
   "metadata": {},
   "source": [
    "- basicamente o metodo para o ano de 2022 é igual aos outros, ou entao nao, tenho de ver melhor pq 2022 é como se fosse explained by so q nao ha outro ano com isso entao pronto\n",
    "- os anos de 2018 e 2019 vamos usar uma combinação de atributos que caracterizam cada país — basicamente um “vetor de características” para medir proximidade."
   ]
  },
  {
   "cell_type": "code",
   "execution_count": null,
   "id": "9b9f6da4",
   "metadata": {},
   "outputs": [],
   "source": [
    "### CODIGO P 2018 E 2019 DE ACORDO COM O CHAT, AINDA NAO CORRI-------\n",
    "import numpy as np\n",
    "import pandas as pd\n",
    "from sklearn.preprocessing import MinMaxScaler, OneHotEncoder\n",
    "from sklearn.metrics import pairwise_distances\n",
    "\n",
    "# --- 1. Selecionar os atributos para proximidade ---\n",
    "numeric_attrs = [\n",
    "    \"Economy (GDP per Capita)\",\n",
    "    \"Social support\",\n",
    "    \"Healthy life expectancy\",\n",
    "    \"Freedom\",\n",
    "    \"Corruption\",\n",
    "    \"Generosity\"\n",
    "]\n",
    "\n",
    "categorical_attrs = [\n",
    "    \"Country\",\n",
    "    \"Region\"\n",
    "]\n",
    "\n",
    "# --- 2. Criar matriz de referência usando anos que têm Dystopia_Residual ---\n",
    "# Vamos usar 2015–2017 e 2020–2021\n",
    "years_with_dystopia = [ano_2015, ano_2016, ano_2017, ano_2020, ano_2021]\n",
    "ref_df = pd.concat(years_with_dystopia, ignore_index=True)\n",
    "\n",
    "# Preencher NaN em atributos numéricos com média\n",
    "for col in numeric_attrs:\n",
    "    ref_df[col] = pd.to_numeric(ref_df[col], errors='coerce')\n",
    "    ref_df[col].fillna(ref_df[col].mean(), inplace=True)\n",
    "\n",
    "# --- 3. Normalizar atributos numéricos ---\n",
    "scaler = MinMaxScaler()\n",
    "ref_numeric_scaled = scaler.fit_transform(ref_df[numeric_attrs])\n",
    "\n",
    "# --- 4. One-hot encode atributos categóricos ---\n",
    "ohe = OneHotEncoder(sparse=False, handle_unknown=\"ignore\")\n",
    "ref_categorical_encoded = ohe.fit_transform(ref_df[categorical_attrs])\n",
    "\n",
    "# --- 5. Combinar numéricos + categóricos ---\n",
    "ref_features = np.hstack([ref_numeric_scaled, ref_categorical_encoded])\n",
    "ref_values = ref_df[\"Dystopia_Residual\"].values\n",
    "\n",
    "# --- 6. Função para preencher um DataFrame de alvo ---\n",
    "def fill_dystopia_residual(target_df):\n",
    "    # Preparar atributos\n",
    "    df = target_df.copy()\n",
    "    \n",
    "    # Preencher NaNs numéricos com média\n",
    "    for col in numeric_attrs:\n",
    "        df[col] = pd.to_numeric(df[col], errors='coerce')\n",
    "        df[col].fillna(ref_df[col].mean(), inplace=True)\n",
    "    \n",
    "    # Normalizar numericos\n",
    "    numeric_scaled = scaler.transform(df[numeric_attrs])\n",
    "    \n",
    "    # One-hot encode categoricos\n",
    "    categorical_encoded = ohe.transform(df[categorical_attrs])\n",
    "    \n",
    "    # Combinar\n",
    "    features = np.hstack([numeric_scaled, categorical_encoded])\n",
    "    \n",
    "    # Calcular distância para todos os pontos de referência\n",
    "    distances = pairwise_distances(features, ref_features, metric=\"euclidean\")\n",
    "    \n",
    "    # Para cada país, pegar o Dystopia_Residual do ponto mais próximo\n",
    "    nearest_indices = distances.argmin(axis=1)\n",
    "    df[\"Dystopia_Residual\"] = ref_values[nearest_indices]\n",
    "    \n",
    "    return df\n",
    "\n",
    "# --- 7. Aplicar para anos 2018 e 2019 ---\n",
    "ano_2018 = fill_dystopia_residual(ano_2018)\n",
    "ano_2019 = fill_dystopia_residual(ano_2019)\n",
    "\n",
    "# --- 8. Verificar ---\n",
    "for year, df in zip(range(2015, 2022+1),\n",
    "                    [ano_2015, ano_2016, ano_2017, ano_2018, ano_2019, ano_2020, ano_2021, ano_2022]):\n",
    "    if \"Dystopia_Residual\" in df.columns:\n",
    "        print(f\"{year}: min={df['Dystopia_Residual'].min():.3f}, max={df['Dystopia_Residual'].max():.3f}, mean={df['Dystopia_Residual'].mean():.3f}\")\n",
    "    else:\n",
    "        print(f\"{year}: Dystopia_Residual not available\")\n"
   ]
  },
  {
   "cell_type": "markdown",
   "id": "e45d6c0b",
   "metadata": {},
   "source": [
    "-------------------------------------------------------------------------------"
   ]
  },
  {
   "cell_type": "markdown",
   "id": "0a2c8891",
   "metadata": {},
   "source": [
    "nao sei se queres apagar colunas "
   ]
  },
  {
   "cell_type": "markdown",
   "id": "cfcb8db1",
   "metadata": {},
   "source": [
    "### Juntar os anos todos já com as colunas arranjadas e assim"
   ]
  },
  {
   "cell_type": "markdown",
   "id": "46c338c2",
   "metadata": {},
   "source": [
    "### Valores em falta"
   ]
  },
  {
   "cell_type": "markdown",
   "id": "3d9e49dd",
   "metadata": {},
   "source": [
    "### Dados duplicados"
   ]
  },
  {
   "cell_type": "markdown",
   "id": "62c355e9",
   "metadata": {},
   "source": [
    "### Verificar tipo de dados"
   ]
  },
  {
   "cell_type": "markdown",
   "id": "fc1dcddd",
   "metadata": {},
   "source": [
    "### Normalização"
   ]
  },
  {
   "cell_type": "markdown",
   "id": "dc13b31f",
   "metadata": {},
   "source": [
    "### Outliers"
   ]
  },
  {
   "cell_type": "markdown",
   "id": "13f401ce",
   "metadata": {},
   "source": [
    "### Verificar consistência ao longo dos anos"
   ]
  },
  {
   "cell_type": "markdown",
   "id": "89985331",
   "metadata": {},
   "source": [
    "### Resumo estatístico anual"
   ]
  },
  {
   "cell_type": "markdown",
   "id": "ba1a8f5f",
   "metadata": {},
   "source": [
    "### Histogramas e distribuições"
   ]
  },
  {
   "cell_type": "markdown",
   "id": "9556380e",
   "metadata": {},
   "source": [
    "### Balanceamento"
   ]
  },
  {
   "cell_type": "markdown",
   "id": "92c82cec",
   "metadata": {},
   "source": [
    "### Matriz de correlação"
   ]
  },
  {
   "cell_type": "markdown",
   "id": "0e143284",
   "metadata": {},
   "source": [
    "-------------------------------------------------------------------------------"
   ]
  },
  {
   "cell_type": "markdown",
   "id": "158801c8",
   "metadata": {},
   "source": [
    "### **Pergunta geral**: \n",
    "Como evoluíram os fatores que influenciam a felicidade global entre 2015 e 2022, e que padrões regionais ou estruturais explicam essas mudanças?"
   ]
  },
  {
   "cell_type": "markdown",
   "id": "2799a7f4",
   "metadata": {},
   "source": [
    "### Primeira visualização\n",
    "A felicidade mundial está a convergir ou a divergir ao longo do tempo?"
   ]
  },
  {
   "cell_type": "markdown",
   "id": "e0e8faf3",
   "metadata": {},
   "source": [
    "### Segunda visualização\n",
    "A pandemia de 2020 alterou os fatores que mais pesam na felicidade?"
   ]
  },
  {
   "cell_type": "markdown",
   "id": "fcb67a34",
   "metadata": {},
   "source": [
    "### Terceira visualização\n",
    "A economia continua a ser o fator mais determinante da felicidade com o passar dos anos?"
   ]
  },
  {
   "cell_type": "markdown",
   "id": "4d9bbf3b",
   "metadata": {},
   "source": [
    "### Quarta visualização\n",
    "Os países mais generosos tornaram-se mais ou menos felizes ao longo do tempo?"
   ]
  },
  {
   "cell_type": "markdown",
   "id": "b6051bf2",
   "metadata": {},
   "source": [
    "### Quinta visualização\n",
    "Quais países mudaram mais o seu ranking de felicidade — e porquê?"
   ]
  }
 ],
 "metadata": {
  "kernelspec": {
   "display_name": "clean_env",
   "language": "python",
   "name": "python3"
  },
  "language_info": {
   "codemirror_mode": {
    "name": "ipython",
    "version": 3
   },
   "file_extension": ".py",
   "mimetype": "text/x-python",
   "name": "python",
   "nbconvert_exporter": "python",
   "pygments_lexer": "ipython3",
   "version": "3.11.14"
  }
 },
 "nbformat": 4,
 "nbformat_minor": 5
}
