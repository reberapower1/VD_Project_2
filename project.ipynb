{
 "cells": [
  {
   "cell_type": "code",
   "execution_count": 7,
   "id": "4d6a11b0",
   "metadata": {},
   "outputs": [
    {
     "ename": "AttributeError",
     "evalue": "module 'pyarrow' has no attribute '__version__'",
     "output_type": "error",
     "traceback": [
      "\u001b[1;31m---------------------------------------------------------------------------\u001b[0m",
      "\u001b[1;31mAttributeError\u001b[0m                            Traceback (most recent call last)",
      "Cell \u001b[1;32mIn[7], line 1\u001b[0m\n\u001b[1;32m----> 1\u001b[0m \u001b[38;5;28;01mimport\u001b[39;00m\u001b[38;5;250m \u001b[39m\u001b[38;5;21;01mpandas\u001b[39;00m\u001b[38;5;250m \u001b[39m\u001b[38;5;28;01mas\u001b[39;00m\u001b[38;5;250m \u001b[39m\u001b[38;5;21;01mpd\u001b[39;00m\n",
      "File \u001b[1;32mc:\\Users\\HP\\anaconda3\\Lib\\site-packages\\pandas\\__init__.py:26\u001b[0m\n\u001b[0;32m     22\u001b[0m \u001b[38;5;28;01mdel\u001b[39;00m _hard_dependencies, _dependency, _missing_dependencies\n\u001b[0;32m     24\u001b[0m \u001b[38;5;28;01mtry\u001b[39;00m:\n\u001b[0;32m     25\u001b[0m     \u001b[38;5;66;03m# numpy compat\u001b[39;00m\n\u001b[1;32m---> 26\u001b[0m     \u001b[38;5;28;01mfrom\u001b[39;00m\u001b[38;5;250m \u001b[39m\u001b[38;5;21;01mpandas\u001b[39;00m\u001b[38;5;21;01m.\u001b[39;00m\u001b[38;5;21;01mcompat\u001b[39;00m\u001b[38;5;250m \u001b[39m\u001b[38;5;28;01mimport\u001b[39;00m (\n\u001b[0;32m     27\u001b[0m         is_numpy_dev \u001b[38;5;28;01mas\u001b[39;00m _is_numpy_dev,  \u001b[38;5;66;03m# pyright: ignore[reportUnusedImport] # noqa: F401\u001b[39;00m\n\u001b[0;32m     28\u001b[0m     )\n\u001b[0;32m     29\u001b[0m \u001b[38;5;28;01mexcept\u001b[39;00m \u001b[38;5;167;01mImportError\u001b[39;00m \u001b[38;5;28;01mas\u001b[39;00m _err:  \u001b[38;5;66;03m# pragma: no cover\u001b[39;00m\n\u001b[0;32m     30\u001b[0m     _module \u001b[38;5;241m=\u001b[39m _err\u001b[38;5;241m.\u001b[39mname\n",
      "File \u001b[1;32mc:\\Users\\HP\\anaconda3\\Lib\\site-packages\\pandas\\compat\\__init__.py:29\u001b[0m\n\u001b[0;32m     27\u001b[0m \u001b[38;5;28;01mimport\u001b[39;00m\u001b[38;5;250m \u001b[39m\u001b[38;5;21;01mpandas\u001b[39;00m\u001b[38;5;21;01m.\u001b[39;00m\u001b[38;5;21;01mcompat\u001b[39;00m\u001b[38;5;21;01m.\u001b[39;00m\u001b[38;5;21;01mcompressors\u001b[39;00m\n\u001b[0;32m     28\u001b[0m \u001b[38;5;28;01mfrom\u001b[39;00m\u001b[38;5;250m \u001b[39m\u001b[38;5;21;01mpandas\u001b[39;00m\u001b[38;5;21;01m.\u001b[39;00m\u001b[38;5;21;01mcompat\u001b[39;00m\u001b[38;5;21;01m.\u001b[39;00m\u001b[38;5;21;01mnumpy\u001b[39;00m\u001b[38;5;250m \u001b[39m\u001b[38;5;28;01mimport\u001b[39;00m is_numpy_dev\n\u001b[1;32m---> 29\u001b[0m \u001b[38;5;28;01mfrom\u001b[39;00m\u001b[38;5;250m \u001b[39m\u001b[38;5;21;01mpandas\u001b[39;00m\u001b[38;5;21;01m.\u001b[39;00m\u001b[38;5;21;01mcompat\u001b[39;00m\u001b[38;5;21;01m.\u001b[39;00m\u001b[38;5;21;01mpyarrow\u001b[39;00m\u001b[38;5;250m \u001b[39m\u001b[38;5;28;01mimport\u001b[39;00m (\n\u001b[0;32m     30\u001b[0m     HAS_PYARROW,\n\u001b[0;32m     31\u001b[0m     pa_version_under10p1,\n\u001b[0;32m     32\u001b[0m     pa_version_under11p0,\n\u001b[0;32m     33\u001b[0m     pa_version_under13p0,\n\u001b[0;32m     34\u001b[0m     pa_version_under14p0,\n\u001b[0;32m     35\u001b[0m     pa_version_under14p1,\n\u001b[0;32m     36\u001b[0m     pa_version_under16p0,\n\u001b[0;32m     37\u001b[0m     pa_version_under17p0,\n\u001b[0;32m     38\u001b[0m     pa_version_under18p0,\n\u001b[0;32m     39\u001b[0m     pa_version_under19p0,\n\u001b[0;32m     40\u001b[0m     pa_version_under20p0,\n\u001b[0;32m     41\u001b[0m     pa_version_under21p0,\n\u001b[0;32m     42\u001b[0m )\n\u001b[0;32m     44\u001b[0m \u001b[38;5;28;01mif\u001b[39;00m TYPE_CHECKING:\n\u001b[0;32m     45\u001b[0m     \u001b[38;5;28;01mfrom\u001b[39;00m\u001b[38;5;250m \u001b[39m\u001b[38;5;21;01mpandas\u001b[39;00m\u001b[38;5;21;01m.\u001b[39;00m\u001b[38;5;21;01m_typing\u001b[39;00m\u001b[38;5;250m \u001b[39m\u001b[38;5;28;01mimport\u001b[39;00m F\n",
      "File \u001b[1;32mc:\\Users\\HP\\anaconda3\\Lib\\site-packages\\pandas\\compat\\pyarrow.py:10\u001b[0m\n\u001b[0;32m      7\u001b[0m \u001b[38;5;28;01mtry\u001b[39;00m:\n\u001b[0;32m      8\u001b[0m     \u001b[38;5;28;01mimport\u001b[39;00m\u001b[38;5;250m \u001b[39m\u001b[38;5;21;01mpyarrow\u001b[39;00m\u001b[38;5;250m \u001b[39m\u001b[38;5;28;01mas\u001b[39;00m\u001b[38;5;250m \u001b[39m\u001b[38;5;21;01mpa\u001b[39;00m\n\u001b[1;32m---> 10\u001b[0m     _palv \u001b[38;5;241m=\u001b[39m Version(Version(\u001b[43mpa\u001b[49m\u001b[38;5;241;43m.\u001b[39;49m\u001b[43m__version__\u001b[49m)\u001b[38;5;241m.\u001b[39mbase_version)\n\u001b[0;32m     11\u001b[0m     pa_version_under10p1 \u001b[38;5;241m=\u001b[39m _palv \u001b[38;5;241m<\u001b[39m Version(\u001b[38;5;124m\"\u001b[39m\u001b[38;5;124m10.0.1\u001b[39m\u001b[38;5;124m\"\u001b[39m)\n\u001b[0;32m     12\u001b[0m     pa_version_under11p0 \u001b[38;5;241m=\u001b[39m _palv \u001b[38;5;241m<\u001b[39m Version(\u001b[38;5;124m\"\u001b[39m\u001b[38;5;124m11.0.0\u001b[39m\u001b[38;5;124m\"\u001b[39m)\n",
      "\u001b[1;31mAttributeError\u001b[0m: module 'pyarrow' has no attribute '__version__'"
     ]
    }
   ],
   "source": [
    "import pandas as pd\n",
    "\n"
   ]
  },
  {
   "cell_type": "code",
   "execution_count": null,
   "id": "36179ea2",
   "metadata": {},
   "outputs": [],
   "source": [
    "import numpy as np"
   ]
  },
  {
   "cell_type": "markdown",
   "id": "6c5674b8",
   "metadata": {},
   "source": [
    "# Pré-processamento"
   ]
  },
  {
   "cell_type": "markdown",
   "id": "a5728248",
   "metadata": {},
   "source": [
    "### Ver informações para cada ano diferente"
   ]
  },
  {
   "cell_type": "markdown",
   "id": "03fb6c26",
   "metadata": {},
   "source": [
    "## 2015"
   ]
  },
  {
   "cell_type": "code",
   "execution_count": null,
   "id": "500117dc",
   "metadata": {},
   "outputs": [
    {
     "name": "stdout",
     "output_type": "stream",
     "text": [
      "<class 'pandas.core.frame.DataFrame'>\n",
      "RangeIndex: 158 entries, 0 to 157\n",
      "Data columns (total 12 columns):\n",
      " #   Column                         Non-Null Count  Dtype  \n",
      "---  ------                         --------------  -----  \n",
      " 0   Country                        158 non-null    object \n",
      " 1   Region                         158 non-null    object \n",
      " 2   Happiness Rank                 158 non-null    int64  \n",
      " 3   Happiness Score                158 non-null    float64\n",
      " 4   Standard Error                 158 non-null    float64\n",
      " 5   Economy (GDP per Capita)       158 non-null    float64\n",
      " 6   Family                         158 non-null    float64\n",
      " 7   Health (Life Expectancy)       158 non-null    float64\n",
      " 8   Freedom                        158 non-null    float64\n",
      " 9   Trust (Government Corruption)  158 non-null    float64\n",
      " 10  Generosity                     158 non-null    float64\n",
      " 11  Dystopia Residual              158 non-null    float64\n",
      "dtypes: float64(9), int64(1), object(2)\n",
      "memory usage: 14.9+ KB\n",
      "None\n",
      "Country                          0\n",
      "Region                           0\n",
      "Happiness Rank                   0\n",
      "Happiness Score                  0\n",
      "Standard Error                   0\n",
      "Economy (GDP per Capita)         0\n",
      "Family                           0\n",
      "Health (Life Expectancy)         0\n",
      "Freedom                          0\n",
      "Trust (Government Corruption)    0\n",
      "Generosity                       0\n",
      "Dystopia Residual                0\n",
      "dtype: int64\n"
     ]
    }
   ],
   "source": [
    "ano_2015=pd.read_csv(\"2015.csv\")\n",
    "print(ano_2015.info())\n",
    "\n",
    "print(ano_2015[['Country', 'Region', 'Happiness Rank', 'Happiness Score', 'Standard Error', 'Economy (GDP per Capita)', 'Family', 'Health (Life Expectancy)', 'Freedom', 'Trust (Government Corruption)', 'Generosity', 'Dystopia Residual']].isnull().sum())\n"
   ]
  },
  {
   "cell_type": "markdown",
   "id": "85ec3383",
   "metadata": {},
   "source": [
    "## 2016"
   ]
  },
  {
   "cell_type": "code",
   "execution_count": null,
   "id": "0db48e36",
   "metadata": {},
   "outputs": [
    {
     "name": "stdout",
     "output_type": "stream",
     "text": [
      "<class 'pandas.core.frame.DataFrame'>\n",
      "RangeIndex: 157 entries, 0 to 156\n",
      "Data columns (total 13 columns):\n",
      " #   Column                         Non-Null Count  Dtype  \n",
      "---  ------                         --------------  -----  \n",
      " 0   Country                        157 non-null    object \n",
      " 1   Region                         157 non-null    object \n",
      " 2   Happiness Rank                 157 non-null    int64  \n",
      " 3   Happiness Score                157 non-null    float64\n",
      " 4   Lower Confidence Interval      157 non-null    float64\n",
      " 5   Upper Confidence Interval      157 non-null    float64\n",
      " 6   Economy (GDP per Capita)       157 non-null    float64\n",
      " 7   Family                         157 non-null    float64\n",
      " 8   Health (Life Expectancy)       157 non-null    float64\n",
      " 9   Freedom                        157 non-null    float64\n",
      " 10  Trust (Government Corruption)  157 non-null    float64\n",
      " 11  Generosity                     157 non-null    float64\n",
      " 12  Dystopia Residual              157 non-null    float64\n",
      "dtypes: float64(10), int64(1), object(2)\n",
      "memory usage: 16.1+ KB\n",
      "None\n",
      "Country                          0\n",
      "Region                           0\n",
      "Happiness Rank                   0\n",
      "Happiness Score                  0\n",
      "Lower Confidence Interval        0\n",
      "Upper Confidence Interval        0\n",
      "Economy (GDP per Capita)         0\n",
      "Family                           0\n",
      "Health (Life Expectancy)         0\n",
      "Freedom                          0\n",
      "Trust (Government Corruption)    0\n",
      "Generosity                       0\n",
      "Dystopia Residual                0\n",
      "dtype: int64\n"
     ]
    }
   ],
   "source": [
    "ano_2016=pd.read_csv(\"2016.csv\")\n",
    "print(ano_2016.info())\n",
    "\n",
    "\n",
    "print(ano_2016[['Country', 'Region', 'Happiness Rank', 'Happiness Score', 'Lower Confidence Interval','Upper Confidence Interval', 'Economy (GDP per Capita)', 'Family', 'Health (Life Expectancy)', 'Freedom', 'Trust (Government Corruption)', 'Generosity', 'Dystopia Residual']].isnull().sum())"
   ]
  },
  {
   "cell_type": "markdown",
   "id": "22d318b4",
   "metadata": {},
   "source": [
    "## 2017"
   ]
  },
  {
   "cell_type": "code",
   "execution_count": null,
   "id": "943f75be",
   "metadata": {},
   "outputs": [
    {
     "name": "stdout",
     "output_type": "stream",
     "text": [
      "<class 'pandas.core.frame.DataFrame'>\n",
      "RangeIndex: 155 entries, 0 to 154\n",
      "Data columns (total 12 columns):\n",
      " #   Column                         Non-Null Count  Dtype  \n",
      "---  ------                         --------------  -----  \n",
      " 0   Country                        155 non-null    object \n",
      " 1   Happiness.Rank                 155 non-null    int64  \n",
      " 2   Happiness.Score                155 non-null    float64\n",
      " 3   Whisker.high                   155 non-null    float64\n",
      " 4   Whisker.low                    155 non-null    float64\n",
      " 5   Economy..GDP.per.Capita.       155 non-null    float64\n",
      " 6   Family                         155 non-null    float64\n",
      " 7   Health..Life.Expectancy.       155 non-null    float64\n",
      " 8   Freedom                        155 non-null    float64\n",
      " 9   Generosity                     155 non-null    float64\n",
      " 10  Trust..Government.Corruption.  155 non-null    float64\n",
      " 11  Dystopia.Residual              155 non-null    float64\n",
      "dtypes: float64(10), int64(1), object(1)\n",
      "memory usage: 14.7+ KB\n",
      "None\n",
      "Country                          0\n",
      "Happiness.Rank                   0\n",
      "Happiness.Score                  0\n",
      "Whisker.high                     0\n",
      "Whisker.low                      0\n",
      "Economy..GDP.per.Capita.         0\n",
      "Family                           0\n",
      "Health..Life.Expectancy.         0\n",
      "Freedom                          0\n",
      "Trust..Government.Corruption.    0\n",
      "Generosity                       0\n",
      "Dystopia.Residual                0\n",
      "dtype: int64\n"
     ]
    }
   ],
   "source": [
    "ano_2017=pd.read_csv(\"2017.csv\")\n",
    "print(ano_2017.info())\n",
    "\n",
    "\n",
    "print(ano_2017[['Country', 'Happiness.Rank', 'Happiness.Score', 'Whisker.high', 'Whisker.low', 'Economy..GDP.per.Capita.', 'Family', 'Health..Life.Expectancy.', 'Freedom', 'Trust..Government.Corruption.', 'Generosity', 'Dystopia.Residual']].isnull().sum())"
   ]
  },
  {
   "cell_type": "markdown",
   "id": "75c2ff9f",
   "metadata": {},
   "source": [
    "## 2018"
   ]
  },
  {
   "cell_type": "code",
   "execution_count": null,
   "id": "f8150778",
   "metadata": {},
   "outputs": [
    {
     "name": "stdout",
     "output_type": "stream",
     "text": [
      "<class 'pandas.core.frame.DataFrame'>\n",
      "RangeIndex: 156 entries, 0 to 155\n",
      "Data columns (total 9 columns):\n",
      " #   Column                        Non-Null Count  Dtype  \n",
      "---  ------                        --------------  -----  \n",
      " 0   Overall rank                  156 non-null    int64  \n",
      " 1   Country or region             156 non-null    object \n",
      " 2   Score                         156 non-null    float64\n",
      " 3   GDP per capita                156 non-null    float64\n",
      " 4   Social support                156 non-null    float64\n",
      " 5   Healthy life expectancy       156 non-null    float64\n",
      " 6   Freedom to make life choices  156 non-null    float64\n",
      " 7   Generosity                    156 non-null    float64\n",
      " 8   Perceptions of corruption     155 non-null    float64\n",
      "dtypes: float64(7), int64(1), object(1)\n",
      "memory usage: 11.1+ KB\n",
      "None\n",
      "Country or region               0\n",
      "Overall rank                    0\n",
      "Score                           0\n",
      "GDP per capita                  0\n",
      "Social support                  0\n",
      "Healthy life expectancy         0\n",
      "Freedom to make life choices    0\n",
      "Perceptions of corruption       1\n",
      "dtype: int64\n"
     ]
    }
   ],
   "source": [
    "ano_2018=pd.read_csv(\"2018.csv\")\n",
    "print(ano_2018.info())\n",
    "\n",
    "\n",
    "print(ano_2018[['Country or region', 'Overall rank', 'Score', 'GDP per capita', 'Social support', 'Healthy life expectancy', 'Freedom to make life choices', 'Perceptions of corruption']].isnull().sum())"
   ]
  },
  {
   "cell_type": "markdown",
   "id": "74748622",
   "metadata": {},
   "source": [
    "## 2019"
   ]
  },
  {
   "cell_type": "code",
   "execution_count": null,
   "id": "0a0e5d20",
   "metadata": {},
   "outputs": [
    {
     "name": "stdout",
     "output_type": "stream",
     "text": [
      "<class 'pandas.core.frame.DataFrame'>\n",
      "RangeIndex: 156 entries, 0 to 155\n",
      "Data columns (total 9 columns):\n",
      " #   Column                        Non-Null Count  Dtype  \n",
      "---  ------                        --------------  -----  \n",
      " 0   Overall rank                  156 non-null    int64  \n",
      " 1   Country or region             156 non-null    object \n",
      " 2   Score                         156 non-null    float64\n",
      " 3   GDP per capita                156 non-null    float64\n",
      " 4   Social support                156 non-null    float64\n",
      " 5   Healthy life expectancy       156 non-null    float64\n",
      " 6   Freedom to make life choices  156 non-null    float64\n",
      " 7   Generosity                    156 non-null    float64\n",
      " 8   Perceptions of corruption     156 non-null    float64\n",
      "dtypes: float64(7), int64(1), object(1)\n",
      "memory usage: 11.1+ KB\n",
      "None\n",
      "Country or region               0\n",
      "Overall rank                    0\n",
      "Score                           0\n",
      "GDP per capita                  0\n",
      "Social support                  0\n",
      "Healthy life expectancy         0\n",
      "Freedom to make life choices    0\n",
      "Perceptions of corruption       0\n",
      "dtype: int64\n"
     ]
    }
   ],
   "source": [
    "ano_2019=pd.read_csv(\"2019.csv\")\n",
    "print(ano_2019.info())\n",
    "\n",
    "\n",
    "print(ano_2019[['Country or region', 'Overall rank', 'Score', 'GDP per capita', 'Social support', 'Healthy life expectancy', 'Freedom to make life choices', 'Perceptions of corruption']].isnull().sum())"
   ]
  },
  {
   "cell_type": "markdown",
   "id": "e88bbd85",
   "metadata": {},
   "source": [
    "## 2020"
   ]
  },
  {
   "cell_type": "code",
   "execution_count": null,
   "id": "1f0ae1dc",
   "metadata": {},
   "outputs": [
    {
     "name": "stdout",
     "output_type": "stream",
     "text": [
      "<class 'pandas.core.frame.DataFrame'>\n",
      "RangeIndex: 153 entries, 0 to 152\n",
      "Data columns (total 20 columns):\n",
      " #   Column                                      Non-Null Count  Dtype  \n",
      "---  ------                                      --------------  -----  \n",
      " 0   Country name                                153 non-null    object \n",
      " 1   Regional indicator                          153 non-null    object \n",
      " 2   Ladder score                                153 non-null    float64\n",
      " 3   Standard error of ladder score              153 non-null    float64\n",
      " 4   upperwhisker                                153 non-null    float64\n",
      " 5   lowerwhisker                                153 non-null    float64\n",
      " 6   Logged GDP per capita                       153 non-null    float64\n",
      " 7   Social support                              153 non-null    float64\n",
      " 8   Healthy life expectancy                     153 non-null    float64\n",
      " 9   Freedom to make life choices                153 non-null    float64\n",
      " 10  Generosity                                  153 non-null    float64\n",
      " 11  Perceptions of corruption                   153 non-null    float64\n",
      " 12  Ladder score in Dystopia                    153 non-null    float64\n",
      " 13  Explained by: Log GDP per capita            153 non-null    float64\n",
      " 14  Explained by: Social support                153 non-null    float64\n",
      " 15  Explained by: Healthy life expectancy       153 non-null    float64\n",
      " 16  Explained by: Freedom to make life choices  153 non-null    float64\n",
      " 17  Explained by: Generosity                    153 non-null    float64\n",
      " 18  Explained by: Perceptions of corruption     153 non-null    float64\n",
      " 19  Dystopia + residual                         153 non-null    float64\n",
      "dtypes: float64(18), object(2)\n",
      "memory usage: 24.0+ KB\n",
      "None\n",
      "Country name                                  0\n",
      "Regional indicator                            0\n",
      "Ladder score                                  0\n",
      "Standard error of ladder score                0\n",
      "upperwhisker                                  0\n",
      "lowerwhisker                                  0\n",
      "Logged GDP per capita                         0\n",
      "Social support                                0\n",
      "Healthy life expectancy                       0\n",
      "Freedom to make life choices                  0\n",
      "Generosity                                    0\n",
      "Perceptions of corruption                     0\n",
      "Ladder score in Dystopia                      0\n",
      "Explained by: Log GDP per capita              0\n",
      "Explained by: Social support                  0\n",
      "Explained by: Healthy life expectancy         0\n",
      "Explained by: Freedom to make life choices    0\n",
      "Explained by: Generosity                      0\n",
      "Explained by: Perceptions of corruption       0\n",
      "Dystopia + residual                           0\n",
      "dtype: int64\n"
     ]
    }
   ],
   "source": [
    "ano_2020=pd.read_csv(\"2020.csv\")\n",
    "print(ano_2020.info())\n",
    "\n",
    "\n",
    "print(ano_2020[['Country name', 'Regional indicator', 'Ladder score', 'Standard error of ladder score','upperwhisker','lowerwhisker','Logged GDP per capita', 'Social support', 'Healthy life expectancy', 'Freedom to make life choices', 'Generosity','Perceptions of corruption', 'Ladder score in Dystopia', 'Explained by: Log GDP per capita', 'Explained by: Social support', 'Explained by: Healthy life expectancy', 'Explained by: Freedom to make life choices', 'Explained by: Generosity', 'Explained by: Perceptions of corruption', 'Dystopia + residual']].isnull().sum())"
   ]
  },
  {
   "cell_type": "markdown",
   "id": "52c01fed",
   "metadata": {},
   "source": [
    "## 2021"
   ]
  },
  {
   "cell_type": "code",
   "execution_count": null,
   "id": "aa9dd73e",
   "metadata": {},
   "outputs": [
    {
     "name": "stdout",
     "output_type": "stream",
     "text": [
      "<class 'pandas.core.frame.DataFrame'>\n",
      "RangeIndex: 149 entries, 0 to 148\n",
      "Data columns (total 20 columns):\n",
      " #   Column                                      Non-Null Count  Dtype  \n",
      "---  ------                                      --------------  -----  \n",
      " 0   Country name                                149 non-null    object \n",
      " 1   Regional indicator                          149 non-null    object \n",
      " 2   Ladder score                                149 non-null    float64\n",
      " 3   Standard error of ladder score              149 non-null    float64\n",
      " 4   upperwhisker                                149 non-null    float64\n",
      " 5   lowerwhisker                                149 non-null    float64\n",
      " 6   Logged GDP per capita                       149 non-null    float64\n",
      " 7   Social support                              149 non-null    float64\n",
      " 8   Healthy life expectancy                     149 non-null    float64\n",
      " 9   Freedom to make life choices                149 non-null    float64\n",
      " 10  Generosity                                  149 non-null    float64\n",
      " 11  Perceptions of corruption                   149 non-null    float64\n",
      " 12  Ladder score in Dystopia                    149 non-null    float64\n",
      " 13  Explained by: Log GDP per capita            149 non-null    float64\n",
      " 14  Explained by: Social support                149 non-null    float64\n",
      " 15  Explained by: Healthy life expectancy       149 non-null    float64\n",
      " 16  Explained by: Freedom to make life choices  149 non-null    float64\n",
      " 17  Explained by: Generosity                    149 non-null    float64\n",
      " 18  Explained by: Perceptions of corruption     149 non-null    float64\n",
      " 19  Dystopia + residual                         149 non-null    float64\n",
      "dtypes: float64(18), object(2)\n",
      "memory usage: 23.4+ KB\n",
      "None\n",
      "Country name                                  0\n",
      "Regional indicator                            0\n",
      "Ladder score                                  0\n",
      "Standard error of ladder score                0\n",
      "upperwhisker                                  0\n",
      "lowerwhisker                                  0\n",
      "Logged GDP per capita                         0\n",
      "Social support                                0\n",
      "Healthy life expectancy                       0\n",
      "Freedom to make life choices                  0\n",
      "Generosity                                    0\n",
      "Perceptions of corruption                     0\n",
      "Ladder score in Dystopia                      0\n",
      "Explained by: Log GDP per capita              0\n",
      "Explained by: Social support                  0\n",
      "Explained by: Healthy life expectancy         0\n",
      "Explained by: Freedom to make life choices    0\n",
      "Explained by: Generosity                      0\n",
      "Explained by: Perceptions of corruption       0\n",
      "Dystopia + residual                           0\n",
      "dtype: int64\n"
     ]
    }
   ],
   "source": [
    "ano_2021=pd.read_csv(\"2021.csv\")\n",
    "print(ano_2021.info())\n",
    "\n",
    "\n",
    "print(ano_2021[['Country name', 'Regional indicator', 'Ladder score', 'Standard error of ladder score','upperwhisker','lowerwhisker','Logged GDP per capita', 'Social support', 'Healthy life expectancy', 'Freedom to make life choices', 'Generosity','Perceptions of corruption', 'Ladder score in Dystopia', 'Explained by: Log GDP per capita', 'Explained by: Social support', 'Explained by: Healthy life expectancy', 'Explained by: Freedom to make life choices', 'Explained by: Generosity', 'Explained by: Perceptions of corruption', 'Dystopia + residual']].isnull().sum())"
   ]
  },
  {
   "cell_type": "markdown",
   "id": "2834c7af",
   "metadata": {},
   "source": [
    "## 2022"
   ]
  },
  {
   "cell_type": "code",
   "execution_count": null,
   "id": "d0ab498a",
   "metadata": {},
   "outputs": [
    {
     "name": "stdout",
     "output_type": "stream",
     "text": [
      "<class 'pandas.core.frame.DataFrame'>\n",
      "RangeIndex: 147 entries, 0 to 146\n",
      "Data columns (total 12 columns):\n",
      " #   Column                                      Non-Null Count  Dtype \n",
      "---  ------                                      --------------  ----- \n",
      " 0   RANK                                        147 non-null    int64 \n",
      " 1   Country                                     147 non-null    object\n",
      " 2   Happiness score                             146 non-null    object\n",
      " 3   Whisker-high                                146 non-null    object\n",
      " 4   Whisker-low                                 146 non-null    object\n",
      " 5   Dystopia (1.83) + residual                  146 non-null    object\n",
      " 6   Explained by: GDP per capita                146 non-null    object\n",
      " 7   Explained by: Social support                146 non-null    object\n",
      " 8   Explained by: Healthy life expectancy       146 non-null    object\n",
      " 9   Explained by: Freedom to make life choices  146 non-null    object\n",
      " 10  Explained by: Generosity                    146 non-null    object\n",
      " 11  Explained by: Perceptions of corruption     146 non-null    object\n",
      "dtypes: int64(1), object(11)\n",
      "memory usage: 13.9+ KB\n",
      "None\n",
      "RANK                                          0\n",
      "Country                                       0\n",
      "Happiness score                               1\n",
      "Whisker-high                                  1\n",
      "Whisker-low                                   1\n",
      "Dystopia (1.83) + residual                    1\n",
      "Explained by: GDP per capita                  1\n",
      "Explained by: Social support                  1\n",
      "Explained by: Healthy life expectancy         1\n",
      "Explained by: Freedom to make life choices    1\n",
      "Explained by: Generosity                      1\n",
      "Explained by: Perceptions of corruption       1\n",
      "dtype: int64\n"
     ]
    }
   ],
   "source": [
    "ano_2022=pd.read_csv(\"2022.csv\")\n",
    "print(ano_2022.info())\n",
    "\n",
    "\n",
    "print(ano_2022[['RANK','Country', 'Happiness score', 'Whisker-high','Whisker-low','Dystopia (1.83) + residual', 'Explained by: GDP per capita', 'Explained by: Social support', 'Explained by: Healthy life expectancy', 'Explained by: Freedom to make life choices', 'Explained by: Generosity', 'Explained by: Perceptions of corruption']].isnull().sum())"
   ]
  },
  {
   "cell_type": "markdown",
   "id": "2427b1ca",
   "metadata": {},
   "source": [
    "### parte para mudar nomes de atributos e assim para ficar com as colunas todas iguais"
   ]
  },
  {
   "cell_type": "markdown",
   "id": "5cedba7b",
   "metadata": {},
   "source": [
    "- na coluna do ano nao temos d mudar nada\n",
    "- no country- no d 2018/2019 existe Country or region. no 2020/2021 é Country name. nos outros é Country\n",
    "- happines score- \"Happiness Score”, “Score”, “Ladder score”, “Happiness.Score” \n",
    "- G- DP per capita- Economy..GDP.per.Capita, “Economy (GDP per Capita)”, “GDP per capita”, “Logged GDP per capita”, “Explained by: GDP per capita”\n",
    "- social support- “Family”, “Social support”, “Explained by: Social support”\n",
    "- healthy life expectancy- “Health (Life Expectancy)”, “Healthy life expectancy”, “Explained by: Healthy life expectancy”, \"Health..life.expectancy\"\n",
    "- freedom- “Freedom”, “Freedom to make life choices”, “Explained by: Freedom to make life choices”\n",
    "- corruption- “Trust (Government Corruption)”, “Perceptions of corruption”, “Explained by: Perceptions of corruption”, \"Trust..Government.Corruption\"\n",
    "- gerenosity- “Generosity”, “Explained by: Generosity”\n",
    "dystopia residual- “Dystopia Residual”, “Dystopia + residual”, “Dystopia (1.83) + residual”\n",
    "- happiness rank- “Happiness Rank”, “Overall rank”, “RANK”, \"Ladder score\""
   ]
  },
  {
   "cell_type": "markdown",
   "id": "6ca716eb",
   "metadata": {},
   "source": [
    "\n",
    "Em 2020 e 2021, os relatórios da ONU deixaram de incluir o “Happiness Rank” explícito, mas o ranking pode ser facilmente reconstruído a partir do Ladder score.Ou seja:podemos criar o Happiness_Rank ordenando os países por Ladder Score (quanto maior o score, melhor o ranking = 1º lugar).\n",
    "\n",
    "O EXPLAINED BY É TIPO A MATRIZ DE CORRELAÇAO, entao tenho d ver melhor isto\n",
    "\n",
    "no gdp per capita temos dps d normalizar tudo "
   ]
  },
  {
   "cell_type": "markdown",
   "id": "6f18b57b",
   "metadata": {},
   "source": [
    "se calhar nao utiliza estas colunas: \n",
    "Standard Error\n",
    "Lower Confidence Interval\n",
    "Upper Confidence Interval\n",
    "Whisker.high / Whisker.low\n",
    "Explained by\n",
    "Ladder score in Dystopia"
   ]
  },
  {
   "cell_type": "markdown",
   "id": "adc75a43",
   "metadata": {},
   "source": [
    "- as colunas que queremos usar e q têm explained by--- vamso fazer tipo uma regressao linear\n",
    "- no gdp per capita o ano de 2020 e 2021 usa o log entao para meter como os anos anteriores usamos o exp- # Para os datasets de 2020 e 2021\n",
    "ano_2020[\"Economy (GDP per Capita)\"] = np.exp(ano_2020[\"Logged GDP per capita\"])\n",
    "ano_2021[\"Economy (GDP per Capita)\"] = np.exp(ano_2021[\"Logged GDP per capita\"])"
   ]
  },
  {
   "cell_type": "markdown",
   "id": "46ab0d83",
   "metadata": {},
   "source": [
    "### Tratar do country e region"
   ]
  },
  {
   "cell_type": "code",
   "execution_count": null,
   "id": "6e8a2699",
   "metadata": {},
   "outputs": [],
   "source": [
    "# nestes anos, esta coluna é só países\n",
    "ano_2018.rename(columns={\"Country or region\": \"Country\"}, inplace=True)\n",
    "ano_2019.rename(columns={\"Country or region\": \"Country\"}, inplace=True)\n",
    "\n",
    "\n",
    "# agora quero criar a coluna region\n",
    "ano_2017[\"Region\"] = None\n",
    "ano_2018[\"Region\"] = None\n",
    "ano_2019[\"Region\"] = None\n",
    "ano_2022[\"Region\"] = None\n",
    "\n",
    "# aqui já meto as colunas com o mesmo nome\n",
    "ano_2020.rename(columns={\"Regional indicator\": \"Region\"}, inplace=True)\n",
    "ano_2021.rename(columns={\"Regional indicator\": \"Region\"}, inplace=True)\n",
    "ano_2020.rename(columns={\"Country name\": \"Country\"}, inplace=True)\n",
    "ano_2021.rename(columns={\"Country name\": \"Country\"}, inplace=True)\n",
    "\n",
    "\n",
    "# dicionario que tem pais-regiao \n",
    "region_map = pd.concat([\n",
    "    ano_2015[[\"Country\", \"Region\"]],\n",
    "    ano_2016[[\"Country\", \"Region\"]],\n",
    "    ano_2020[[\"Country\", \"Region\"]],\n",
    "    ano_2021[[\"Country\", \"Region\"]]\n",
    "]).dropna().drop_duplicates().set_index(\"Country\")[\"Region\"].to_dict()\n",
    "\n",
    "# aplicar aos datasets sem região\n",
    "for df in [ano_2017, ano_2018, ano_2019, ano_2022]:\n",
    "    df[\"Region\"] = df[\"Country\"].map(region_map)\n"
   ]
  },
  {
   "cell_type": "code",
   "execution_count": null,
   "id": "51ed86a9",
   "metadata": {},
   "outputs": [
    {
     "name": "stdout",
     "output_type": "stream",
     "text": [
      "\n",
      "===== 2015 =====\n",
      "['Country', 'Region', 'Happiness Rank', 'Happiness Score', 'Standard Error', 'Economy (GDP per Capita)', 'Family', 'Health (Life Expectancy)', 'Freedom', 'Trust (Government Corruption)', 'Generosity', 'Dystopia Residual']\n",
      "\n",
      "===== 2016 =====\n",
      "['Country', 'Region', 'Happiness Rank', 'Happiness Score', 'Lower Confidence Interval', 'Upper Confidence Interval', 'Economy (GDP per Capita)', 'Family', 'Health (Life Expectancy)', 'Freedom', 'Trust (Government Corruption)', 'Generosity', 'Dystopia Residual']\n",
      "\n",
      "===== 2017 =====\n",
      "['Country', 'Happiness.Rank', 'Happiness.Score', 'Whisker.high', 'Whisker.low', 'Economy..GDP.per.Capita.', 'Family', 'Health..Life.Expectancy.', 'Freedom', 'Generosity', 'Trust..Government.Corruption.', 'Dystopia.Residual', 'Region']\n",
      "\n",
      "===== 2018 =====\n",
      "['Overall rank', 'Country', 'Score', 'GDP per capita', 'Social support', 'Healthy life expectancy', 'Freedom to make life choices', 'Generosity', 'Perceptions of corruption', 'Region']\n",
      "\n",
      "===== 2019 =====\n",
      "['Overall rank', 'Country', 'Score', 'GDP per capita', 'Social support', 'Healthy life expectancy', 'Freedom to make life choices', 'Generosity', 'Perceptions of corruption', 'Region']\n",
      "\n",
      "===== 2020 =====\n",
      "['Country', 'Region', 'Ladder score', 'Standard error of ladder score', 'upperwhisker', 'lowerwhisker', 'Logged GDP per capita', 'Social support', 'Healthy life expectancy', 'Freedom to make life choices', 'Generosity', 'Perceptions of corruption', 'Ladder score in Dystopia', 'Explained by: Log GDP per capita', 'Explained by: Social support', 'Explained by: Healthy life expectancy', 'Explained by: Freedom to make life choices', 'Explained by: Generosity', 'Explained by: Perceptions of corruption', 'Dystopia + residual']\n",
      "\n",
      "===== 2021 =====\n",
      "['Country', 'Region', 'Ladder score', 'Standard error of ladder score', 'upperwhisker', 'lowerwhisker', 'Logged GDP per capita', 'Social support', 'Healthy life expectancy', 'Freedom to make life choices', 'Generosity', 'Perceptions of corruption', 'Ladder score in Dystopia', 'Explained by: Log GDP per capita', 'Explained by: Social support', 'Explained by: Healthy life expectancy', 'Explained by: Freedom to make life choices', 'Explained by: Generosity', 'Explained by: Perceptions of corruption', 'Dystopia + residual']\n",
      "\n",
      "===== 2022 =====\n",
      "['RANK', 'Country', 'Happiness score', 'Whisker-high', 'Whisker-low', 'Dystopia (1.83) + residual', 'Explained by: GDP per capita', 'Explained by: Social support', 'Explained by: Healthy life expectancy', 'Explained by: Freedom to make life choices', 'Explained by: Generosity', 'Explained by: Perceptions of corruption', 'Region']\n",
      "\n",
      "===== 2017 =====\n",
      "       Country          Region\n",
      "0       Norway  Western Europe\n",
      "1      Denmark  Western Europe\n",
      "2      Iceland  Western Europe\n",
      "3  Switzerland  Western Europe\n",
      "4      Finland  Western Europe\n",
      "\n",
      "===== 2018 =====\n",
      "       Country          Region\n",
      "0      Finland  Western Europe\n",
      "1       Norway  Western Europe\n",
      "2      Denmark  Western Europe\n",
      "3      Iceland  Western Europe\n",
      "4  Switzerland  Western Europe\n",
      "\n",
      "===== 2019 =====\n",
      "       Country          Region\n",
      "0      Finland  Western Europe\n",
      "1      Denmark  Western Europe\n",
      "2       Norway  Western Europe\n",
      "3      Iceland  Western Europe\n",
      "4  Netherlands  Western Europe\n",
      "\n",
      "===== 2022 =====\n",
      "       Country          Region\n",
      "0      Finland  Western Europe\n",
      "1      Denmark  Western Europe\n",
      "2      Iceland  Western Europe\n",
      "3  Switzerland  Western Europe\n",
      "4  Netherlands  Western Europe\n"
     ]
    }
   ],
   "source": [
    "# Lista de datasets e respetivos anos\n",
    "datasets = {\n",
    "    2015: ano_2015,\n",
    "    2016: ano_2016,\n",
    "    2017: ano_2017,\n",
    "    2018: ano_2018,\n",
    "    2019: ano_2019,\n",
    "    2020: ano_2020,\n",
    "    2021: ano_2021,\n",
    "    2022: ano_2022\n",
    "}\n",
    "\n",
    "\n",
    "# Mostrar colunas de cada dataset\n",
    "for year, df in datasets.items():\n",
    "    print(f\"\\n===== {year} =====\")\n",
    "    print(df.columns.tolist())\n",
    "\n",
    "\n",
    "print(\"\\n===== 2017 =====\")\n",
    "print(ano_2017[[\"Country\", \"Region\"]].head())\n",
    "\n",
    "print(\"\\n===== 2018 =====\")\n",
    "print(ano_2018[[\"Country\", \"Region\"]].head())\n",
    "\n",
    "print(\"\\n===== 2019 =====\")\n",
    "print(ano_2019[[\"Country\", \"Region\"]].head())\n",
    "\n",
    "print(\"\\n===== 2022 =====\")\n",
    "print(ano_2022[[\"Country\", \"Region\"]].head())\n"
   ]
  },
  {
   "cell_type": "markdown",
   "id": "ce12c105",
   "metadata": {},
   "source": [
    "### Corrigir o GDP per Capita (log vs. linear)\n"
   ]
  },
  {
   "cell_type": "code",
   "execution_count": null,
   "id": "182b6f17",
   "metadata": {},
   "outputs": [
    {
     "name": "stdout",
     "output_type": "stream",
     "text": [
      "2020 - Correlação: 1.0000\n"
     ]
    },
    {
     "data": {
      "image/png": "[encoded data removed]",
      "text/plain": [
       "<Figure size 640x480 with 1 Axes>"
      ]
     },
     "metadata": {},
     "output_type": "display_data"
    },
    {
     "name": "stdout",
     "output_type": "stream",
     "text": [
      "2021 - Correlação: 1.0000\n"
     ]
    },
    {
     "data": {
      "image/png": "[encoded data removed]",
      "text/plain": [
       "<Figure size 640x480 with 1 Axes>"
      ]
     },
     "metadata": {},
     "output_type": "display_data"
    }
   ],
   "source": [
    "import matplotlib.pyplot as plt\n",
    "\n",
    "# verificar correlação nos anos 2020 e 2021\n",
    "for year, df in [(2020, ano_2020), (2021, ano_2021)]:\n",
    "    corr = df[\"Logged GDP per capita\"].corr(df[\"Explained by: Log GDP per capita\"])\n",
    "    print(f\"{year} - Correlação: {corr:.4f}\")\n",
    "\n",
    "    plt.scatter(df[\"Logged GDP per capita\"], df[\"Explained by: Log GDP per capita\"])\n",
    "    plt.title(f\"{year} - Logged vs Explained by (GDP per capita)\")\n",
    "    plt.xlabel(\"Logged GDP per capita\")\n",
    "    plt.ylabel(\"Explained by: Log GDP per capita\")\n",
    "    plt.show()\n"
   ]
  },
  {
   "cell_type": "code",
   "execution_count": null,
   "id": "e7f42bf9",
   "metadata": {},
   "outputs": [
    {
     "ename": "AttributeError",
     "evalue": "module 'pyarrow' has no attribute '__version__'",
     "output_type": "error",
     "traceback": [
      "\u001b[1;31m---------------------------------------------------------------------------\u001b[0m",
      "\u001b[1;31mAttributeError\u001b[0m                            Traceback (most recent call last)",
      "Cell \u001b[1;32mIn[20], line 1\u001b[0m\n\u001b[1;32m----> 1\u001b[0m \u001b[38;5;28;01mfrom\u001b[39;00m\u001b[38;5;250m \u001b[39m\u001b[38;5;21;01msklearn\u001b[39;00m\u001b[38;5;21;01m.\u001b[39;00m\u001b[38;5;21;01mlinear_model\u001b[39;00m\u001b[38;5;250m \u001b[39m\u001b[38;5;28;01mimport\u001b[39;00m LinearRegression\n",
      "File \u001b[1;32mc:\\Users\\HP\\anaconda3\\Lib\\site-packages\\sklearn\\__init__.py:73\u001b[0m\n\u001b[0;32m     62\u001b[0m \u001b[38;5;66;03m# `_distributor_init` allows distributors to run custom init code.\u001b[39;00m\n\u001b[0;32m     63\u001b[0m \u001b[38;5;66;03m# For instance, for the Windows wheel, this is used to pre-load the\u001b[39;00m\n\u001b[0;32m     64\u001b[0m \u001b[38;5;66;03m# vcomp shared library runtime for OpenMP embedded in the sklearn/.libs\u001b[39;00m\n\u001b[1;32m   (...)\u001b[0m\n\u001b[0;32m     67\u001b[0m \u001b[38;5;66;03m# later is linked to the OpenMP runtime to make it possible to introspect\u001b[39;00m\n\u001b[0;32m     68\u001b[0m \u001b[38;5;66;03m# it and importing it first would fail if the OpenMP dll cannot be found.\u001b[39;00m\n\u001b[0;32m     69\u001b[0m \u001b[38;5;28;01mfrom\u001b[39;00m\u001b[38;5;250m \u001b[39m\u001b[38;5;21;01m.\u001b[39;00m\u001b[38;5;250m \u001b[39m\u001b[38;5;28;01mimport\u001b[39;00m (  \u001b[38;5;66;03m# noqa: F401 E402\u001b[39;00m\n\u001b[0;32m     70\u001b[0m     __check_build,\n\u001b[0;32m     71\u001b[0m     _distributor_init,\n\u001b[0;32m     72\u001b[0m )\n\u001b[1;32m---> 73\u001b[0m \u001b[38;5;28;01mfrom\u001b[39;00m\u001b[38;5;250m \u001b[39m\u001b[38;5;21;01m.\u001b[39;00m\u001b[38;5;21;01mbase\u001b[39;00m\u001b[38;5;250m \u001b[39m\u001b[38;5;28;01mimport\u001b[39;00m clone  \u001b[38;5;66;03m# noqa: E402\u001b[39;00m\n\u001b[0;32m     74\u001b[0m \u001b[38;5;28;01mfrom\u001b[39;00m\u001b[38;5;250m \u001b[39m\u001b[38;5;21;01m.\u001b[39;00m\u001b[38;5;21;01mutils\u001b[39;00m\u001b[38;5;21;01m.\u001b[39;00m\u001b[38;5;21;01m_show_versions\u001b[39;00m\u001b[38;5;250m \u001b[39m\u001b[38;5;28;01mimport\u001b[39;00m show_versions  \u001b[38;5;66;03m# noqa: E402\u001b[39;00m\n\u001b[0;32m     76\u001b[0m _submodules \u001b[38;5;241m=\u001b[39m [\n\u001b[0;32m     77\u001b[0m     \u001b[38;5;124m\"\u001b[39m\u001b[38;5;124mcalibration\u001b[39m\u001b[38;5;124m\"\u001b[39m,\n\u001b[0;32m     78\u001b[0m     \u001b[38;5;124m\"\u001b[39m\u001b[38;5;124mcluster\u001b[39m\u001b[38;5;124m\"\u001b[39m,\n\u001b[1;32m   (...)\u001b[0m\n\u001b[0;32m    114\u001b[0m     \u001b[38;5;124m\"\u001b[39m\u001b[38;5;124mcompose\u001b[39m\u001b[38;5;124m\"\u001b[39m,\n\u001b[0;32m    115\u001b[0m ]\n",
      "File \u001b[1;32mc:\\Users\\HP\\anaconda3\\Lib\\site-packages\\sklearn\\base.py:20\u001b[0m\n\u001b[0;32m     18\u001b[0m \u001b[38;5;28;01mfrom\u001b[39;00m\u001b[38;5;250m \u001b[39m\u001b[38;5;21;01m.\u001b[39;00m\u001b[38;5;21;01mexceptions\u001b[39;00m\u001b[38;5;250m \u001b[39m\u001b[38;5;28;01mimport\u001b[39;00m InconsistentVersionWarning\n\u001b[0;32m     19\u001b[0m \u001b[38;5;28;01mfrom\u001b[39;00m\u001b[38;5;250m \u001b[39m\u001b[38;5;21;01m.\u001b[39;00m\u001b[38;5;21;01mutils\u001b[39;00m\u001b[38;5;21;01m.\u001b[39;00m\u001b[38;5;21;01m_metadata_requests\u001b[39;00m\u001b[38;5;250m \u001b[39m\u001b[38;5;28;01mimport\u001b[39;00m _MetadataRequester, _routing_enabled\n\u001b[1;32m---> 20\u001b[0m \u001b[38;5;28;01mfrom\u001b[39;00m\u001b[38;5;250m \u001b[39m\u001b[38;5;21;01m.\u001b[39;00m\u001b[38;5;21;01mutils\u001b[39;00m\u001b[38;5;21;01m.\u001b[39;00m\u001b[38;5;21;01m_missing\u001b[39;00m\u001b[38;5;250m \u001b[39m\u001b[38;5;28;01mimport\u001b[39;00m is_scalar_nan\n\u001b[0;32m     21\u001b[0m \u001b[38;5;28;01mfrom\u001b[39;00m\u001b[38;5;250m \u001b[39m\u001b[38;5;21;01m.\u001b[39;00m\u001b[38;5;21;01mutils\u001b[39;00m\u001b[38;5;21;01m.\u001b[39;00m\u001b[38;5;21;01m_param_validation\u001b[39;00m\u001b[38;5;250m \u001b[39m\u001b[38;5;28;01mimport\u001b[39;00m validate_parameter_constraints\n\u001b[0;32m     22\u001b[0m \u001b[38;5;28;01mfrom\u001b[39;00m\u001b[38;5;250m \u001b[39m\u001b[38;5;21;01m.\u001b[39;00m\u001b[38;5;21;01mutils\u001b[39;00m\u001b[38;5;21;01m.\u001b[39;00m\u001b[38;5;21;01m_repr_html\u001b[39;00m\u001b[38;5;21;01m.\u001b[39;00m\u001b[38;5;21;01mbase\u001b[39;00m\u001b[38;5;250m \u001b[39m\u001b[38;5;28;01mimport\u001b[39;00m ReprHTMLMixin, _HTMLDocumentationLinkMixin\n",
      "File \u001b[1;32mc:\\Users\\HP\\anaconda3\\Lib\\site-packages\\sklearn\\utils\\__init__.py:9\u001b[0m\n\u001b[0;32m      7\u001b[0m \u001b[38;5;28;01mfrom\u001b[39;00m\u001b[38;5;250m \u001b[39m\u001b[38;5;21;01m.\u001b[39;00m\u001b[38;5;250m \u001b[39m\u001b[38;5;28;01mimport\u001b[39;00m metadata_routing\n\u001b[0;32m      8\u001b[0m \u001b[38;5;28;01mfrom\u001b[39;00m\u001b[38;5;250m \u001b[39m\u001b[38;5;21;01m.\u001b[39;00m\u001b[38;5;21;01m_bunch\u001b[39;00m\u001b[38;5;250m \u001b[39m\u001b[38;5;28;01mimport\u001b[39;00m Bunch\n\u001b[1;32m----> 9\u001b[0m \u001b[38;5;28;01mfrom\u001b[39;00m\u001b[38;5;250m \u001b[39m\u001b[38;5;21;01m.\u001b[39;00m\u001b[38;5;21;01m_chunking\u001b[39;00m\u001b[38;5;250m \u001b[39m\u001b[38;5;28;01mimport\u001b[39;00m gen_batches, gen_even_slices\n\u001b[0;32m     11\u001b[0m \u001b[38;5;66;03m# Make _safe_indexing importable from here for backward compat as this particular\u001b[39;00m\n\u001b[0;32m     12\u001b[0m \u001b[38;5;66;03m# helper is considered semi-private and typically very useful for third-party\u001b[39;00m\n\u001b[0;32m     13\u001b[0m \u001b[38;5;66;03m# libraries that want to comply with scikit-learn's estimator API. In particular,\u001b[39;00m\n\u001b[0;32m     14\u001b[0m \u001b[38;5;66;03m# _safe_indexing was included in our public API documentation despite the leading\u001b[39;00m\n\u001b[0;32m     15\u001b[0m \u001b[38;5;66;03m# `_` in its name.\u001b[39;00m\n\u001b[0;32m     16\u001b[0m \u001b[38;5;28;01mfrom\u001b[39;00m\u001b[38;5;250m \u001b[39m\u001b[38;5;21;01m.\u001b[39;00m\u001b[38;5;21;01m_indexing\u001b[39;00m\u001b[38;5;250m \u001b[39m\u001b[38;5;28;01mimport\u001b[39;00m (\n\u001b[0;32m     17\u001b[0m     _safe_indexing,  \u001b[38;5;66;03m# noqa: F401\u001b[39;00m\n\u001b[0;32m     18\u001b[0m     resample,\n\u001b[0;32m     19\u001b[0m     shuffle,\n\u001b[0;32m     20\u001b[0m )\n",
      "File \u001b[1;32mc:\\Users\\HP\\anaconda3\\Lib\\site-packages\\sklearn\\utils\\_chunking.py:11\u001b[0m\n\u001b[0;32m      8\u001b[0m \u001b[38;5;28;01mimport\u001b[39;00m\u001b[38;5;250m \u001b[39m\u001b[38;5;21;01mnumpy\u001b[39;00m\u001b[38;5;250m \u001b[39m\u001b[38;5;28;01mas\u001b[39;00m\u001b[38;5;250m \u001b[39m\u001b[38;5;21;01mnp\u001b[39;00m\n\u001b[0;32m     10\u001b[0m \u001b[38;5;28;01mfrom\u001b[39;00m\u001b[38;5;250m \u001b[39m\u001b[38;5;21;01m.\u001b[39;00m\u001b[38;5;21;01m.\u001b[39;00m\u001b[38;5;21;01m_config\u001b[39;00m\u001b[38;5;250m \u001b[39m\u001b[38;5;28;01mimport\u001b[39;00m get_config\n\u001b[1;32m---> 11\u001b[0m \u001b[38;5;28;01mfrom\u001b[39;00m\u001b[38;5;250m \u001b[39m\u001b[38;5;21;01m.\u001b[39;00m\u001b[38;5;21;01m_param_validation\u001b[39;00m\u001b[38;5;250m \u001b[39m\u001b[38;5;28;01mimport\u001b[39;00m Interval, validate_params\n\u001b[0;32m     14\u001b[0m \u001b[38;5;28;01mdef\u001b[39;00m\u001b[38;5;250m \u001b[39m\u001b[38;5;21mchunk_generator\u001b[39m(gen, chunksize):\n\u001b[0;32m     15\u001b[0m \u001b[38;5;250m    \u001b[39m\u001b[38;5;124;03m\"\"\"Chunk generator, ``gen`` into lists of length ``chunksize``. The last\u001b[39;00m\n\u001b[0;32m     16\u001b[0m \u001b[38;5;124;03m    chunk may have a length less than ``chunksize``.\"\"\"\u001b[39;00m\n",
      "File \u001b[1;32mc:\\Users\\HP\\anaconda3\\Lib\\site-packages\\sklearn\\utils\\_param_validation.py:17\u001b[0m\n\u001b[0;32m     14\u001b[0m \u001b[38;5;28;01mfrom\u001b[39;00m\u001b[38;5;250m \u001b[39m\u001b[38;5;21;01mscipy\u001b[39;00m\u001b[38;5;21;01m.\u001b[39;00m\u001b[38;5;21;01msparse\u001b[39;00m\u001b[38;5;250m \u001b[39m\u001b[38;5;28;01mimport\u001b[39;00m csr_matrix, issparse\n\u001b[0;32m     16\u001b[0m \u001b[38;5;28;01mfrom\u001b[39;00m\u001b[38;5;250m \u001b[39m\u001b[38;5;21;01m.\u001b[39;00m\u001b[38;5;21;01m.\u001b[39;00m\u001b[38;5;21;01m_config\u001b[39;00m\u001b[38;5;250m \u001b[39m\u001b[38;5;28;01mimport\u001b[39;00m config_context, get_config\n\u001b[1;32m---> 17\u001b[0m \u001b[38;5;28;01mfrom\u001b[39;00m\u001b[38;5;250m \u001b[39m\u001b[38;5;21;01m.\u001b[39;00m\u001b[38;5;21;01mvalidation\u001b[39;00m\u001b[38;5;250m \u001b[39m\u001b[38;5;28;01mimport\u001b[39;00m _is_arraylike_not_scalar\n\u001b[0;32m     20\u001b[0m \u001b[38;5;28;01mclass\u001b[39;00m\u001b[38;5;250m \u001b[39m\u001b[38;5;21;01mInvalidParameterError\u001b[39;00m(\u001b[38;5;167;01mValueError\u001b[39;00m, \u001b[38;5;167;01mTypeError\u001b[39;00m):\n\u001b[0;32m     21\u001b[0m \u001b[38;5;250m    \u001b[39m\u001b[38;5;124;03m\"\"\"Custom exception to be raised when the parameter of a class/method/function\u001b[39;00m\n\u001b[0;32m     22\u001b[0m \u001b[38;5;124;03m    does not have a valid type or value.\u001b[39;00m\n\u001b[0;32m     23\u001b[0m \u001b[38;5;124;03m    \"\"\"\u001b[39;00m\n",
      "File \u001b[1;32mc:\\Users\\HP\\anaconda3\\Lib\\site-packages\\sklearn\\utils\\validation.py:21\u001b[0m\n\u001b[0;32m     19\u001b[0m \u001b[38;5;28;01mfrom\u001b[39;00m\u001b[38;5;250m \u001b[39m\u001b[38;5;21;01m.\u001b[39;00m\u001b[38;5;21;01m.\u001b[39;00m\u001b[38;5;250m \u001b[39m\u001b[38;5;28;01mimport\u001b[39;00m get_config \u001b[38;5;28;01mas\u001b[39;00m _get_config\n\u001b[0;32m     20\u001b[0m \u001b[38;5;28;01mfrom\u001b[39;00m\u001b[38;5;250m \u001b[39m\u001b[38;5;21;01m.\u001b[39;00m\u001b[38;5;21;01m.\u001b[39;00m\u001b[38;5;21;01mexceptions\u001b[39;00m\u001b[38;5;250m \u001b[39m\u001b[38;5;28;01mimport\u001b[39;00m DataConversionWarning, NotFittedError, PositiveSpectrumWarning\n\u001b[1;32m---> 21\u001b[0m \u001b[38;5;28;01mfrom\u001b[39;00m\u001b[38;5;250m \u001b[39m\u001b[38;5;21;01m.\u001b[39;00m\u001b[38;5;21;01m.\u001b[39;00m\u001b[38;5;21;01mutils\u001b[39;00m\u001b[38;5;21;01m.\u001b[39;00m\u001b[38;5;21;01m_array_api\u001b[39;00m\u001b[38;5;250m \u001b[39m\u001b[38;5;28;01mimport\u001b[39;00m _asarray_with_order, _is_numpy_namespace, get_namespace\n\u001b[0;32m     22\u001b[0m \u001b[38;5;28;01mfrom\u001b[39;00m\u001b[38;5;250m \u001b[39m\u001b[38;5;21;01m.\u001b[39;00m\u001b[38;5;21;01m.\u001b[39;00m\u001b[38;5;21;01mutils\u001b[39;00m\u001b[38;5;21;01m.\u001b[39;00m\u001b[38;5;21;01mdeprecation\u001b[39;00m\u001b[38;5;250m \u001b[39m\u001b[38;5;28;01mimport\u001b[39;00m _deprecate_force_all_finite\n\u001b[0;32m     23\u001b[0m \u001b[38;5;28;01mfrom\u001b[39;00m\u001b[38;5;250m \u001b[39m\u001b[38;5;21;01m.\u001b[39;00m\u001b[38;5;21;01m.\u001b[39;00m\u001b[38;5;21;01mutils\u001b[39;00m\u001b[38;5;21;01m.\u001b[39;00m\u001b[38;5;21;01mfixes\u001b[39;00m\u001b[38;5;250m \u001b[39m\u001b[38;5;28;01mimport\u001b[39;00m ComplexWarning, _preserve_dia_indices_dtype\n",
      "File \u001b[1;32mc:\\Users\\HP\\anaconda3\\Lib\\site-packages\\sklearn\\utils\\_array_api.py:20\u001b[0m\n\u001b[0;32m     18\u001b[0m \u001b[38;5;28;01mfrom\u001b[39;00m\u001b[38;5;250m \u001b[39m\u001b[38;5;21;01m.\u001b[39;00m\u001b[38;5;21;01m.\u001b[39;00m\u001b[38;5;21;01mexternals\u001b[39;00m\u001b[38;5;250m \u001b[39m\u001b[38;5;28;01mimport\u001b[39;00m array_api_extra \u001b[38;5;28;01mas\u001b[39;00m xpx\n\u001b[0;32m     19\u001b[0m \u001b[38;5;28;01mfrom\u001b[39;00m\u001b[38;5;250m \u001b[39m\u001b[38;5;21;01m.\u001b[39;00m\u001b[38;5;21;01m.\u001b[39;00m\u001b[38;5;21;01mexternals\u001b[39;00m\u001b[38;5;21;01m.\u001b[39;00m\u001b[38;5;21;01marray_api_compat\u001b[39;00m\u001b[38;5;250m \u001b[39m\u001b[38;5;28;01mimport\u001b[39;00m numpy \u001b[38;5;28;01mas\u001b[39;00m np_compat\n\u001b[1;32m---> 20\u001b[0m \u001b[38;5;28;01mfrom\u001b[39;00m\u001b[38;5;250m \u001b[39m\u001b[38;5;21;01m.\u001b[39;00m\u001b[38;5;21;01mfixes\u001b[39;00m\u001b[38;5;250m \u001b[39m\u001b[38;5;28;01mimport\u001b[39;00m parse_version\n\u001b[0;32m     22\u001b[0m \u001b[38;5;66;03m# TODO: complete __all__\u001b[39;00m\n\u001b[0;32m     23\u001b[0m __all__ \u001b[38;5;241m=\u001b[39m [\u001b[38;5;124m\"\u001b[39m\u001b[38;5;124mxpx\u001b[39m\u001b[38;5;124m\"\u001b[39m]  \u001b[38;5;66;03m# we import xpx here just to re-export it, need this to appease ruff\u001b[39;00m\n",
      "File \u001b[1;32mc:\\Users\\HP\\anaconda3\\Lib\\site-packages\\sklearn\\utils\\fixes.py:423\u001b[0m\n\u001b[0;32m    420\u001b[0m \u001b[38;5;28;01mtry\u001b[39;00m:\n\u001b[0;32m    421\u001b[0m     \u001b[38;5;28;01mimport\u001b[39;00m\u001b[38;5;250m \u001b[39m\u001b[38;5;21;01mpyarrow\u001b[39;00m\n\u001b[1;32m--> 423\u001b[0m     pyarrow_version \u001b[38;5;241m=\u001b[39m parse_version(\u001b[43mpyarrow\u001b[49m\u001b[38;5;241;43m.\u001b[39;49m\u001b[43m__version__\u001b[49m)\n\u001b[0;32m    424\u001b[0m     \u001b[38;5;28;01mif\u001b[39;00m pyarrow_version \u001b[38;5;241m<\u001b[39m parse_version(\u001b[38;5;124m\"\u001b[39m\u001b[38;5;124m17.0.0\u001b[39m\u001b[38;5;124m\"\u001b[39m):\n\u001b[0;32m    425\u001b[0m         PYARROW_VERSION_BELOW_17 \u001b[38;5;241m=\u001b[39m \u001b[38;5;28;01mTrue\u001b[39;00m\n",
      "\u001b[1;31mAttributeError\u001b[0m: module 'pyarrow' has no attribute '__version__'"
     ]
    }
   ],
   "source": [
    "from sklearn.linear_model import LinearRegression\n"
   ]
  },
  {
   "cell_type": "code",
   "execution_count": null,
   "id": "ec492824",
   "metadata": {},
   "outputs": [
    {
     "name": "stdout",
     "output_type": "stream",
     "text": [
      "c:\\Users\\HP\\anaconda3\\python.exe\n"
     ]
    }
   ],
   "source": [
    "import sys\n",
    "print(sys.executable)\n"
   ]
  },
  {
   "cell_type": "code",
   "execution_count": null,
   "id": "1740744f",
   "metadata": {},
   "outputs": [
    {
     "name": "stderr",
     "output_type": "stream",
     "text": [
      "\n",
      "A module that was compiled using NumPy 1.x cannot be run in\n",
      "NumPy 2.3.3 as it may crash. To support both 1.x and 2.x\n",
      "versions of NumPy, modules must be compiled with NumPy 2.0.\n",
      "Some module may need to rebuild instead e.g. with 'pybind11>=2.12'.\n",
      "\n",
      "If you are a user of the module, the easiest solution will be to\n",
      "downgrade to 'numpy<2' or try to upgrade the affected module.\n",
      "We expect that some modules will need time to support NumPy 2.\n",
      "\n",
      "Traceback (most recent call last):  File \"<frozen runpy>\", line 198, in _run_module_as_main\n",
      "  File \"<frozen runpy>\", line 88, in _run_code\n",
      "  File \"c:\\Users\\HP\\anaconda3\\Lib\\site-packages\\ipykernel_launcher.py\", line 18, in <module>\n",
      "    app.launch_new_instance()\n",
      "  File \"c:\\Users\\HP\\anaconda3\\Lib\\site-packages\\traitlets\\config\\application.py\", line 1075, in launch_instance\n",
      "    app.start()\n",
      "  File \"c:\\Users\\HP\\anaconda3\\Lib\\site-packages\\ipykernel\\kernelapp.py\", line 739, in start\n",
      "    self.io_loop.start()\n",
      "  File \"c:\\Users\\HP\\anaconda3\\Lib\\site-packages\\tornado\\platform\\asyncio.py\", line 211, in start\n",
      "    self.asyncio_loop.run_forever()\n",
      "  File \"c:\\Users\\HP\\anaconda3\\Lib\\asyncio\\base_events.py\", line 607, in run_forever\n",
      "    self._run_once()\n",
      "  File \"c:\\Users\\HP\\anaconda3\\Lib\\asyncio\\base_events.py\", line 1922, in _run_once\n",
      "    handle._run()\n",
      "  File \"c:\\Users\\HP\\anaconda3\\Lib\\asyncio\\events.py\", line 80, in _run\n",
      "    self._context.run(self._callback, *self._args)\n",
      "  File \"c:\\Users\\HP\\anaconda3\\Lib\\site-packages\\ipykernel\\kernelbase.py\", line 519, in dispatch_queue\n",
      "    await self.process_one()\n",
      "  File \"c:\\Users\\HP\\anaconda3\\Lib\\site-packages\\ipykernel\\kernelbase.py\", line 508, in process_one\n",
      "    await dispatch(*args)\n",
      "  File \"c:\\Users\\HP\\anaconda3\\Lib\\site-packages\\ipykernel\\kernelbase.py\", line 400, in dispatch_shell\n",
      "    await result\n",
      "  File \"c:\\Users\\HP\\anaconda3\\Lib\\site-packages\\ipykernel\\ipkernel.py\", line 368, in execute_request\n",
      "    await super().execute_request(stream, ident, parent)\n",
      "  File \"c:\\Users\\HP\\anaconda3\\Lib\\site-packages\\ipykernel\\kernelbase.py\", line 767, in execute_request\n",
      "    reply_content = await reply_content\n",
      "  File \"c:\\Users\\HP\\anaconda3\\Lib\\site-packages\\ipykernel\\ipkernel.py\", line 455, in do_execute\n",
      "    res = shell.run_cell(\n",
      "  File \"c:\\Users\\HP\\anaconda3\\Lib\\site-packages\\ipykernel\\zmqshell.py\", line 577, in run_cell\n",
      "    return super().run_cell(*args, **kwargs)\n",
      "  File \"c:\\Users\\HP\\anaconda3\\Lib\\site-packages\\IPython\\core\\interactiveshell.py\", line 3075, in run_cell\n",
      "    result = self._run_cell(\n",
      "  File \"c:\\Users\\HP\\anaconda3\\Lib\\site-packages\\IPython\\core\\interactiveshell.py\", line 3130, in _run_cell\n",
      "    result = runner(coro)\n",
      "  File \"c:\\Users\\HP\\anaconda3\\Lib\\site-packages\\IPython\\core\\async_helpers.py\", line 128, in _pseudo_sync_runner\n",
      "    coro.send(None)\n",
      "  File \"c:\\Users\\HP\\anaconda3\\Lib\\site-packages\\IPython\\core\\interactiveshell.py\", line 3334, in run_cell_async\n",
      "    has_raised = await self.run_ast_nodes(code_ast.body, cell_name,\n",
      "  File \"c:\\Users\\HP\\anaconda3\\Lib\\site-packages\\IPython\\core\\interactiveshell.py\", line 3517, in run_ast_nodes\n",
      "    if await self.run_code(code, result, async_=asy):\n",
      "  File \"c:\\Users\\HP\\anaconda3\\Lib\\site-packages\\IPython\\core\\interactiveshell.py\", line 3577, in run_code\n",
      "    exec(code_obj, self.user_global_ns, self.user_ns)\n",
      "  File \"C:\\Users\\HP\\AppData\\Local\\Temp\\ipykernel_9780\\840060385.py\", line 1, in <module>\n",
      "    from sklearn.linear_model import LinearRegression\n",
      "  File \"c:\\Users\\HP\\anaconda3\\Lib\\site-packages\\sklearn\\__init__.py\", line 73, in <module>\n",
      "    from .base import clone  # noqa: E402\n",
      "  File \"c:\\Users\\HP\\anaconda3\\Lib\\site-packages\\sklearn\\base.py\", line 19, in <module>\n",
      "    from .utils._metadata_requests import _MetadataRequester, _routing_enabled\n",
      "  File \"c:\\Users\\HP\\anaconda3\\Lib\\site-packages\\sklearn\\utils\\__init__.py\", line 9, in <module>\n",
      "    from ._chunking import gen_batches, gen_even_slices\n",
      "  File \"c:\\Users\\HP\\anaconda3\\Lib\\site-packages\\sklearn\\utils\\_chunking.py\", line 11, in <module>\n",
      "    from ._param_validation import Interval, validate_params\n",
      "  File \"c:\\Users\\HP\\anaconda3\\Lib\\site-packages\\sklearn\\utils\\_param_validation.py\", line 17, in <module>\n",
      "    from .validation import _is_arraylike_not_scalar\n",
      "  File \"c:\\Users\\HP\\anaconda3\\Lib\\site-packages\\sklearn\\utils\\validation.py\", line 21, in <module>\n",
      "    from ..utils._array_api import _asarray_with_order, _is_numpy_namespace, get_namespace\n",
      "  File \"c:\\Users\\HP\\anaconda3\\Lib\\site-packages\\sklearn\\utils\\_array_api.py\", line 20, in <module>\n",
      "    from .fixes import parse_version\n",
      "  File \"c:\\Users\\HP\\anaconda3\\Lib\\site-packages\\sklearn\\utils\\fixes.py\", line 421, in <module>\n",
      "    import pyarrow\n",
      "  File \"c:\\Users\\HP\\anaconda3\\Lib\\site-packages\\pyarrow\\__init__.py\", line 65, in <module>\n",
      "    import pyarrow.lib as _lib\n"
     ]
    },
    {
     "ename": "AttributeError",
     "evalue": "_ARRAY_API not found",
     "output_type": "error",
     "traceback": [
      "\u001b[1;31m---------------------------------------------------------------------------\u001b[0m",
      "\u001b[1;31mAttributeError\u001b[0m                            Traceback (most recent call last)",
      "\u001b[1;31mAttributeError\u001b[0m: _ARRAY_API not found"
     ]
    },
    {
     "ename": "ImportError",
     "evalue": "numpy.core.multiarray failed to import",
     "output_type": "error",
     "traceback": [
      "\u001b[1;31m---------------------------------------------------------------------------\u001b[0m",
      "\u001b[1;31mImportError\u001b[0m                               Traceback (most recent call last)",
      "Cell \u001b[1;32mIn[18], line 1\u001b[0m\n\u001b[1;32m----> 1\u001b[0m \u001b[38;5;28;01mfrom\u001b[39;00m\u001b[38;5;250m \u001b[39m\u001b[38;5;21;01msklearn\u001b[39;00m\u001b[38;5;21;01m.\u001b[39;00m\u001b[38;5;21;01mlinear_model\u001b[39;00m\u001b[38;5;250m \u001b[39m\u001b[38;5;28;01mimport\u001b[39;00m LinearRegression\n\u001b[0;32m      2\u001b[0m \u001b[38;5;28;01mimport\u001b[39;00m\u001b[38;5;250m \u001b[39m\u001b[38;5;21;01mnumpy\u001b[39;00m\u001b[38;5;250m \u001b[39m\u001b[38;5;28;01mas\u001b[39;00m\u001b[38;5;250m \u001b[39m\u001b[38;5;21;01mnp\u001b[39;00m\n\u001b[0;32m      4\u001b[0m X \u001b[38;5;241m=\u001b[39m ano_2020[[\u001b[38;5;124m\"\u001b[39m\u001b[38;5;124mExplained by: Log GDP per capita\u001b[39m\u001b[38;5;124m\"\u001b[39m]]\n",
      "File \u001b[1;32mc:\\Users\\HP\\anaconda3\\Lib\\site-packages\\sklearn\\__init__.py:73\u001b[0m\n\u001b[0;32m     62\u001b[0m \u001b[38;5;66;03m# `_distributor_init` allows distributors to run custom init code.\u001b[39;00m\n\u001b[0;32m     63\u001b[0m \u001b[38;5;66;03m# For instance, for the Windows wheel, this is used to pre-load the\u001b[39;00m\n\u001b[0;32m     64\u001b[0m \u001b[38;5;66;03m# vcomp shared library runtime for OpenMP embedded in the sklearn/.libs\u001b[39;00m\n\u001b[1;32m   (...)\u001b[0m\n\u001b[0;32m     67\u001b[0m \u001b[38;5;66;03m# later is linked to the OpenMP runtime to make it possible to introspect\u001b[39;00m\n\u001b[0;32m     68\u001b[0m \u001b[38;5;66;03m# it and importing it first would fail if the OpenMP dll cannot be found.\u001b[39;00m\n\u001b[0;32m     69\u001b[0m \u001b[38;5;28;01mfrom\u001b[39;00m\u001b[38;5;250m \u001b[39m\u001b[38;5;21;01m.\u001b[39;00m\u001b[38;5;250m \u001b[39m\u001b[38;5;28;01mimport\u001b[39;00m (  \u001b[38;5;66;03m# noqa: F401 E402\u001b[39;00m\n\u001b[0;32m     70\u001b[0m     __check_build,\n\u001b[0;32m     71\u001b[0m     _distributor_init,\n\u001b[0;32m     72\u001b[0m )\n\u001b[1;32m---> 73\u001b[0m \u001b[38;5;28;01mfrom\u001b[39;00m\u001b[38;5;250m \u001b[39m\u001b[38;5;21;01m.\u001b[39;00m\u001b[38;5;21;01mbase\u001b[39;00m\u001b[38;5;250m \u001b[39m\u001b[38;5;28;01mimport\u001b[39;00m clone  \u001b[38;5;66;03m# noqa: E402\u001b[39;00m\n\u001b[0;32m     74\u001b[0m \u001b[38;5;28;01mfrom\u001b[39;00m\u001b[38;5;250m \u001b[39m\u001b[38;5;21;01m.\u001b[39;00m\u001b[38;5;21;01mutils\u001b[39;00m\u001b[38;5;21;01m.\u001b[39;00m\u001b[38;5;21;01m_show_versions\u001b[39;00m\u001b[38;5;250m \u001b[39m\u001b[38;5;28;01mimport\u001b[39;00m show_versions  \u001b[38;5;66;03m# noqa: E402\u001b[39;00m\n\u001b[0;32m     76\u001b[0m _submodules \u001b[38;5;241m=\u001b[39m [\n\u001b[0;32m     77\u001b[0m     \u001b[38;5;124m\"\u001b[39m\u001b[38;5;124mcalibration\u001b[39m\u001b[38;5;124m\"\u001b[39m,\n\u001b[0;32m     78\u001b[0m     \u001b[38;5;124m\"\u001b[39m\u001b[38;5;124mcluster\u001b[39m\u001b[38;5;124m\"\u001b[39m,\n\u001b[1;32m   (...)\u001b[0m\n\u001b[0;32m    114\u001b[0m     \u001b[38;5;124m\"\u001b[39m\u001b[38;5;124mcompose\u001b[39m\u001b[38;5;124m\"\u001b[39m,\n\u001b[0;32m    115\u001b[0m ]\n",
      "File \u001b[1;32mc:\\Users\\HP\\anaconda3\\Lib\\site-packages\\sklearn\\base.py:19\u001b[0m\n\u001b[0;32m     17\u001b[0m \u001b[38;5;28;01mfrom\u001b[39;00m\u001b[38;5;250m \u001b[39m\u001b[38;5;21;01m.\u001b[39;00m\u001b[38;5;21;01m_config\u001b[39;00m\u001b[38;5;250m \u001b[39m\u001b[38;5;28;01mimport\u001b[39;00m config_context, get_config\n\u001b[0;32m     18\u001b[0m \u001b[38;5;28;01mfrom\u001b[39;00m\u001b[38;5;250m \u001b[39m\u001b[38;5;21;01m.\u001b[39;00m\u001b[38;5;21;01mexceptions\u001b[39;00m\u001b[38;5;250m \u001b[39m\u001b[38;5;28;01mimport\u001b[39;00m InconsistentVersionWarning\n\u001b[1;32m---> 19\u001b[0m \u001b[38;5;28;01mfrom\u001b[39;00m\u001b[38;5;250m \u001b[39m\u001b[38;5;21;01m.\u001b[39;00m\u001b[38;5;21;01mutils\u001b[39;00m\u001b[38;5;21;01m.\u001b[39;00m\u001b[38;5;21;01m_metadata_requests\u001b[39;00m\u001b[38;5;250m \u001b[39m\u001b[38;5;28;01mimport\u001b[39;00m _MetadataRequester, _routing_enabled\n\u001b[0;32m     20\u001b[0m \u001b[38;5;28;01mfrom\u001b[39;00m\u001b[38;5;250m \u001b[39m\u001b[38;5;21;01m.\u001b[39;00m\u001b[38;5;21;01mutils\u001b[39;00m\u001b[38;5;21;01m.\u001b[39;00m\u001b[38;5;21;01m_missing\u001b[39;00m\u001b[38;5;250m \u001b[39m\u001b[38;5;28;01mimport\u001b[39;00m is_scalar_nan\n\u001b[0;32m     21\u001b[0m \u001b[38;5;28;01mfrom\u001b[39;00m\u001b[38;5;250m \u001b[39m\u001b[38;5;21;01m.\u001b[39;00m\u001b[38;5;21;01mutils\u001b[39;00m\u001b[38;5;21;01m.\u001b[39;00m\u001b[38;5;21;01m_param_validation\u001b[39;00m\u001b[38;5;250m \u001b[39m\u001b[38;5;28;01mimport\u001b[39;00m validate_parameter_constraints\n",
      "File \u001b[1;32mc:\\Users\\HP\\anaconda3\\Lib\\site-packages\\sklearn\\utils\\__init__.py:9\u001b[0m\n\u001b[0;32m      7\u001b[0m \u001b[38;5;28;01mfrom\u001b[39;00m\u001b[38;5;250m \u001b[39m\u001b[38;5;21;01m.\u001b[39;00m\u001b[38;5;250m \u001b[39m\u001b[38;5;28;01mimport\u001b[39;00m metadata_routing\n\u001b[0;32m      8\u001b[0m \u001b[38;5;28;01mfrom\u001b[39;00m\u001b[38;5;250m \u001b[39m\u001b[38;5;21;01m.\u001b[39;00m\u001b[38;5;21;01m_bunch\u001b[39;00m\u001b[38;5;250m \u001b[39m\u001b[38;5;28;01mimport\u001b[39;00m Bunch\n\u001b[1;32m----> 9\u001b[0m \u001b[38;5;28;01mfrom\u001b[39;00m\u001b[38;5;250m \u001b[39m\u001b[38;5;21;01m.\u001b[39;00m\u001b[38;5;21;01m_chunking\u001b[39;00m\u001b[38;5;250m \u001b[39m\u001b[38;5;28;01mimport\u001b[39;00m gen_batches, gen_even_slices\n\u001b[0;32m     11\u001b[0m \u001b[38;5;66;03m# Make _safe_indexing importable from here for backward compat as this particular\u001b[39;00m\n\u001b[0;32m     12\u001b[0m \u001b[38;5;66;03m# helper is considered semi-private and typically very useful for third-party\u001b[39;00m\n\u001b[0;32m     13\u001b[0m \u001b[38;5;66;03m# libraries that want to comply with scikit-learn's estimator API. In particular,\u001b[39;00m\n\u001b[0;32m     14\u001b[0m \u001b[38;5;66;03m# _safe_indexing was included in our public API documentation despite the leading\u001b[39;00m\n\u001b[0;32m     15\u001b[0m \u001b[38;5;66;03m# `_` in its name.\u001b[39;00m\n\u001b[0;32m     16\u001b[0m \u001b[38;5;28;01mfrom\u001b[39;00m\u001b[38;5;250m \u001b[39m\u001b[38;5;21;01m.\u001b[39;00m\u001b[38;5;21;01m_indexing\u001b[39;00m\u001b[38;5;250m \u001b[39m\u001b[38;5;28;01mimport\u001b[39;00m (\n\u001b[0;32m     17\u001b[0m     _safe_indexing,  \u001b[38;5;66;03m# noqa: F401\u001b[39;00m\n\u001b[0;32m     18\u001b[0m     resample,\n\u001b[0;32m     19\u001b[0m     shuffle,\n\u001b[0;32m     20\u001b[0m )\n",
      "File \u001b[1;32mc:\\Users\\HP\\anaconda3\\Lib\\site-packages\\sklearn\\utils\\_chunking.py:11\u001b[0m\n\u001b[0;32m      8\u001b[0m \u001b[38;5;28;01mimport\u001b[39;00m\u001b[38;5;250m \u001b[39m\u001b[38;5;21;01mnumpy\u001b[39;00m\u001b[38;5;250m \u001b[39m\u001b[38;5;28;01mas\u001b[39;00m\u001b[38;5;250m \u001b[39m\u001b[38;5;21;01mnp\u001b[39;00m\n\u001b[0;32m     10\u001b[0m \u001b[38;5;28;01mfrom\u001b[39;00m\u001b[38;5;250m \u001b[39m\u001b[38;5;21;01m.\u001b[39;00m\u001b[38;5;21;01m.\u001b[39;00m\u001b[38;5;21;01m_config\u001b[39;00m\u001b[38;5;250m \u001b[39m\u001b[38;5;28;01mimport\u001b[39;00m get_config\n\u001b[1;32m---> 11\u001b[0m \u001b[38;5;28;01mfrom\u001b[39;00m\u001b[38;5;250m \u001b[39m\u001b[38;5;21;01m.\u001b[39;00m\u001b[38;5;21;01m_param_validation\u001b[39;00m\u001b[38;5;250m \u001b[39m\u001b[38;5;28;01mimport\u001b[39;00m Interval, validate_params\n\u001b[0;32m     14\u001b[0m \u001b[38;5;28;01mdef\u001b[39;00m\u001b[38;5;250m \u001b[39m\u001b[38;5;21mchunk_generator\u001b[39m(gen, chunksize):\n\u001b[0;32m     15\u001b[0m \u001b[38;5;250m    \u001b[39m\u001b[38;5;124;03m\"\"\"Chunk generator, ``gen`` into lists of length ``chunksize``. The last\u001b[39;00m\n\u001b[0;32m     16\u001b[0m \u001b[38;5;124;03m    chunk may have a length less than ``chunksize``.\"\"\"\u001b[39;00m\n",
      "File \u001b[1;32mc:\\Users\\HP\\anaconda3\\Lib\\site-packages\\sklearn\\utils\\_param_validation.py:17\u001b[0m\n\u001b[0;32m     14\u001b[0m \u001b[38;5;28;01mfrom\u001b[39;00m\u001b[38;5;250m \u001b[39m\u001b[38;5;21;01mscipy\u001b[39;00m\u001b[38;5;21;01m.\u001b[39;00m\u001b[38;5;21;01msparse\u001b[39;00m\u001b[38;5;250m \u001b[39m\u001b[38;5;28;01mimport\u001b[39;00m csr_matrix, issparse\n\u001b[0;32m     16\u001b[0m \u001b[38;5;28;01mfrom\u001b[39;00m\u001b[38;5;250m \u001b[39m\u001b[38;5;21;01m.\u001b[39;00m\u001b[38;5;21;01m.\u001b[39;00m\u001b[38;5;21;01m_config\u001b[39;00m\u001b[38;5;250m \u001b[39m\u001b[38;5;28;01mimport\u001b[39;00m config_context, get_config\n\u001b[1;32m---> 17\u001b[0m \u001b[38;5;28;01mfrom\u001b[39;00m\u001b[38;5;250m \u001b[39m\u001b[38;5;21;01m.\u001b[39;00m\u001b[38;5;21;01mvalidation\u001b[39;00m\u001b[38;5;250m \u001b[39m\u001b[38;5;28;01mimport\u001b[39;00m _is_arraylike_not_scalar\n\u001b[0;32m     20\u001b[0m \u001b[38;5;28;01mclass\u001b[39;00m\u001b[38;5;250m \u001b[39m\u001b[38;5;21;01mInvalidParameterError\u001b[39;00m(\u001b[38;5;167;01mValueError\u001b[39;00m, \u001b[38;5;167;01mTypeError\u001b[39;00m):\n\u001b[0;32m     21\u001b[0m \u001b[38;5;250m    \u001b[39m\u001b[38;5;124;03m\"\"\"Custom exception to be raised when the parameter of a class/method/function\u001b[39;00m\n\u001b[0;32m     22\u001b[0m \u001b[38;5;124;03m    does not have a valid type or value.\u001b[39;00m\n\u001b[0;32m     23\u001b[0m \u001b[38;5;124;03m    \"\"\"\u001b[39;00m\n",
      "File \u001b[1;32mc:\\Users\\HP\\anaconda3\\Lib\\site-packages\\sklearn\\utils\\validation.py:21\u001b[0m\n\u001b[0;32m     19\u001b[0m \u001b[38;5;28;01mfrom\u001b[39;00m\u001b[38;5;250m \u001b[39m\u001b[38;5;21;01m.\u001b[39;00m\u001b[38;5;21;01m.\u001b[39;00m\u001b[38;5;250m \u001b[39m\u001b[38;5;28;01mimport\u001b[39;00m get_config \u001b[38;5;28;01mas\u001b[39;00m _get_config\n\u001b[0;32m     20\u001b[0m \u001b[38;5;28;01mfrom\u001b[39;00m\u001b[38;5;250m \u001b[39m\u001b[38;5;21;01m.\u001b[39;00m\u001b[38;5;21;01m.\u001b[39;00m\u001b[38;5;21;01mexceptions\u001b[39;00m\u001b[38;5;250m \u001b[39m\u001b[38;5;28;01mimport\u001b[39;00m DataConversionWarning, NotFittedError, PositiveSpectrumWarning\n\u001b[1;32m---> 21\u001b[0m \u001b[38;5;28;01mfrom\u001b[39;00m\u001b[38;5;250m \u001b[39m\u001b[38;5;21;01m.\u001b[39;00m\u001b[38;5;21;01m.\u001b[39;00m\u001b[38;5;21;01mutils\u001b[39;00m\u001b[38;5;21;01m.\u001b[39;00m\u001b[38;5;21;01m_array_api\u001b[39;00m\u001b[38;5;250m \u001b[39m\u001b[38;5;28;01mimport\u001b[39;00m _asarray_with_order, _is_numpy_namespace, get_namespace\n\u001b[0;32m     22\u001b[0m \u001b[38;5;28;01mfrom\u001b[39;00m\u001b[38;5;250m \u001b[39m\u001b[38;5;21;01m.\u001b[39;00m\u001b[38;5;21;01m.\u001b[39;00m\u001b[38;5;21;01mutils\u001b[39;00m\u001b[38;5;21;01m.\u001b[39;00m\u001b[38;5;21;01mdeprecation\u001b[39;00m\u001b[38;5;250m \u001b[39m\u001b[38;5;28;01mimport\u001b[39;00m _deprecate_force_all_finite\n\u001b[0;32m     23\u001b[0m \u001b[38;5;28;01mfrom\u001b[39;00m\u001b[38;5;250m \u001b[39m\u001b[38;5;21;01m.\u001b[39;00m\u001b[38;5;21;01m.\u001b[39;00m\u001b[38;5;21;01mutils\u001b[39;00m\u001b[38;5;21;01m.\u001b[39;00m\u001b[38;5;21;01mfixes\u001b[39;00m\u001b[38;5;250m \u001b[39m\u001b[38;5;28;01mimport\u001b[39;00m ComplexWarning, _preserve_dia_indices_dtype\n",
      "File \u001b[1;32mc:\\Users\\HP\\anaconda3\\Lib\\site-packages\\sklearn\\utils\\_array_api.py:20\u001b[0m\n\u001b[0;32m     18\u001b[0m \u001b[38;5;28;01mfrom\u001b[39;00m\u001b[38;5;250m \u001b[39m\u001b[38;5;21;01m.\u001b[39;00m\u001b[38;5;21;01m.\u001b[39;00m\u001b[38;5;21;01mexternals\u001b[39;00m\u001b[38;5;250m \u001b[39m\u001b[38;5;28;01mimport\u001b[39;00m array_api_extra \u001b[38;5;28;01mas\u001b[39;00m xpx\n\u001b[0;32m     19\u001b[0m \u001b[38;5;28;01mfrom\u001b[39;00m\u001b[38;5;250m \u001b[39m\u001b[38;5;21;01m.\u001b[39;00m\u001b[38;5;21;01m.\u001b[39;00m\u001b[38;5;21;01mexternals\u001b[39;00m\u001b[38;5;21;01m.\u001b[39;00m\u001b[38;5;21;01marray_api_compat\u001b[39;00m\u001b[38;5;250m \u001b[39m\u001b[38;5;28;01mimport\u001b[39;00m numpy \u001b[38;5;28;01mas\u001b[39;00m np_compat\n\u001b[1;32m---> 20\u001b[0m \u001b[38;5;28;01mfrom\u001b[39;00m\u001b[38;5;250m \u001b[39m\u001b[38;5;21;01m.\u001b[39;00m\u001b[38;5;21;01mfixes\u001b[39;00m\u001b[38;5;250m \u001b[39m\u001b[38;5;28;01mimport\u001b[39;00m parse_version\n\u001b[0;32m     22\u001b[0m \u001b[38;5;66;03m# TODO: complete __all__\u001b[39;00m\n\u001b[0;32m     23\u001b[0m __all__ \u001b[38;5;241m=\u001b[39m [\u001b[38;5;124m\"\u001b[39m\u001b[38;5;124mxpx\u001b[39m\u001b[38;5;124m\"\u001b[39m]  \u001b[38;5;66;03m# we import xpx here just to re-export it, need this to appease ruff\u001b[39;00m\n",
      "File \u001b[1;32mc:\\Users\\HP\\anaconda3\\Lib\\site-packages\\sklearn\\utils\\fixes.py:421\u001b[0m\n\u001b[0;32m    419\u001b[0m PYARROW_VERSION_BELOW_17 \u001b[38;5;241m=\u001b[39m \u001b[38;5;28;01mFalse\u001b[39;00m\n\u001b[0;32m    420\u001b[0m \u001b[38;5;28;01mtry\u001b[39;00m:\n\u001b[1;32m--> 421\u001b[0m     \u001b[38;5;28;01mimport\u001b[39;00m\u001b[38;5;250m \u001b[39m\u001b[38;5;21;01mpyarrow\u001b[39;00m\n\u001b[0;32m    423\u001b[0m     pyarrow_version \u001b[38;5;241m=\u001b[39m parse_version(pyarrow\u001b[38;5;241m.\u001b[39m__version__)\n\u001b[0;32m    424\u001b[0m     \u001b[38;5;28;01mif\u001b[39;00m pyarrow_version \u001b[38;5;241m<\u001b[39m parse_version(\u001b[38;5;124m\"\u001b[39m\u001b[38;5;124m17.0.0\u001b[39m\u001b[38;5;124m\"\u001b[39m):\n",
      "File \u001b[1;32mc:\\Users\\HP\\anaconda3\\Lib\\site-packages\\pyarrow\\__init__.py:65\u001b[0m\n\u001b[0;32m     63\u001b[0m _gc_enabled \u001b[38;5;241m=\u001b[39m _gc\u001b[38;5;241m.\u001b[39misenabled()\n\u001b[0;32m     64\u001b[0m _gc\u001b[38;5;241m.\u001b[39mdisable()\n\u001b[1;32m---> 65\u001b[0m \u001b[38;5;28;01mimport\u001b[39;00m\u001b[38;5;250m \u001b[39m\u001b[38;5;21;01mpyarrow\u001b[39;00m\u001b[38;5;21;01m.\u001b[39;00m\u001b[38;5;21;01mlib\u001b[39;00m\u001b[38;5;250m \u001b[39m\u001b[38;5;28;01mas\u001b[39;00m\u001b[38;5;250m \u001b[39m\u001b[38;5;21;01m_lib\u001b[39;00m\n\u001b[0;32m     66\u001b[0m \u001b[38;5;28;01mif\u001b[39;00m _gc_enabled:\n\u001b[0;32m     67\u001b[0m     _gc\u001b[38;5;241m.\u001b[39menable()\n",
      "File \u001b[1;32mc:\\Users\\HP\\anaconda3\\Lib\\site-packages\\pyarrow\\lib.pyx:37\u001b[0m, in \u001b[0;36minit pyarrow.lib\u001b[1;34m()\u001b[0m\n",
      "\u001b[1;31mImportError\u001b[0m: numpy.core.multiarray failed to import"
     ]
    }
   ],
   "source": [
    "from sklearn.linear_model import LinearRegression\n",
    "import numpy as np\n",
    "\n",
    "X = ano_2020[[\"Explained by: Log GDP per capita\"]]\n",
    "y = ano_2020[\"Logged GDP per capita\"]\n",
    "\n",
    "modelo_gdp = LinearRegression().fit(X, y)\n",
    "print(\"Coeficiente angular:\", modelo_gdp.coef_[0])\n",
    "print(\"Intercepto:\", modelo_gdp.intercept_)\n",
    "\n",
    "# testar no próprio dataset\n",
    "ano_2020[\"Logged_pred\"] = modelo_gdp.predict(X)\n",
    "\n",
    "# comparar valores reais vs previstos\n",
    "plt.scatter(ano_2020[\"Logged GDP per capita\"], ano_2020[\"Logged_pred\"])\n",
    "plt.title(\"Valores reais vs previstos (2020)\")\n",
    "plt.xlabel(\"Real\")\n",
    "plt.ylabel(\"Previsto\")\n",
    "plt.show()\n"
   ]
  },
  {
   "cell_type": "code",
   "execution_count": null,
   "id": "c5e7c021",
   "metadata": {},
   "outputs": [],
   "source": [
    "import numpy as np\n",
    "\n",
    "for df in [ano_2020, ano_2021]:\n",
    "    df[\"Economy (GDP per Capita)\"] = np.exp(df[\"Logged GDP per capita\"])\n"
   ]
  },
  {
   "cell_type": "code",
   "execution_count": null,
   "id": "8105cf40",
   "metadata": {},
   "outputs": [],
   "source": [
    "from sklearn.preprocessing import MinMaxScaler\n",
    "\n",
    "scaler = MinMaxScaler(feature_range=(0, 2.1))\n",
    "df[\"Economy (GDP per Capita)_scaled\"] = scaler.fit_transform(df[[\"Economy (GDP per Capita)\"]])\n"
   ]
  },
  {
   "cell_type": "markdown",
   "id": "d86b0a71",
   "metadata": {},
   "source": [
    "### Tratar as colunas Explained by:"
   ]
  },
  {
   "cell_type": "code",
   "execution_count": null,
   "id": "32223fb0",
   "metadata": {},
   "outputs": [],
   "source": [
    "from sklearn.linear_model import LinearRegression\n",
    "\n",
    "X = ano_2020[[\"Logged GDP per capita\"]]\n",
    "y = ano_2020[\"Explained by: Log GDP per capita\"]\n",
    "model = LinearRegression().fit(X, y)\n",
    "\n",
    "\n",
    "for df in [ano_2015, ano_2016, ano_2017, ano_2018, ano_2019]:\n",
    "    if \"Economy (GDP per Capita)\" in df.columns:\n",
    "        df[\"Explained by: GDP per capita (pred)\"] = model.predict(df[[\"Economy (GDP per Capita)\"]])\n"
   ]
  },
  {
   "cell_type": "markdown",
   "id": "90f45b34",
   "metadata": {},
   "source": [
    "#### Mudar nome de colunas"
   ]
  },
  {
   "cell_type": "code",
   "execution_count": null,
   "id": "f591d0b3",
   "metadata": {},
   "outputs": [],
   "source": [
    "#mudar o nome da coluna country\n",
    "#mudar o nome da coluna happines score\n",
    "#mudar o nome da coluna social support\n",
    "#mudar o nome da coluna healthy life expectancy\n",
    "#mudar o nome da coluna freedom\n",
    "#mudar o nome da coluna corruption\n",
    "#mudar o nome da coluna generosity\n",
    "#mudar o nome da coluna happines rank\n",
    "\n",
    "def padronizar_colunas(df):\n",
    "    # Happiness Rank\n",
    "    '''for col in [\"Happiness Rank\", \"Overall rank\", \"RANK\", \"Happiness.Rank\"]:\n",
    "        if col in df.columns:\n",
    "            df.rename(columns={col: \"Happiness_Rank\"}, inplace=True)\n",
    "            break'''\n",
    "\n",
    "    # Happiness Score\n",
    "    for col in [\"Happiness Score\", \"Score\", \"Ladder score\", \"Happiness score\", \"Happiness.Score\", \"Ladder score\"]:\n",
    "        if col in df.columns:\n",
    "            df.rename(columns={col: \"Happiness_Score\"}, inplace=True)\n",
    "            break\n",
    "\n",
    "    # GDP per capita\n",
    "    for col in [\"Economy (GDP per Capita)\", \"Economy..GDP.per.Capita.\", \"GDP per capita\",\n",
    "                \"Logged GDP per capita\", \"Explained by: GDP per capita\", \"Explained by: Log GDP per capita\"]:\n",
    "        if col in df.columns:\n",
    "            df.rename(columns={col: \"GDP_per_Capita\"}, inplace=True)\n",
    "            break\n",
    "\n",
    "    # Social support\n",
    "    for col in [\"Family\", \"Social support\", \"Explained by: Social support\"]:\n",
    "        if col in df.columns:\n",
    "            df.rename(columns={col: \"Social_Support\"}, inplace=True)\n",
    "            break\n",
    "\n",
    "    # Healthy life expectancy\n",
    "    for col in [\"Health (Life Expectancy)\", \"Health..Life.Expectancy.\", \"Healthy life expectancy\",\n",
    "                \"Explained by: Healthy life expectancy\"]:\n",
    "        if col in df.columns:\n",
    "            df.rename(columns={col: \"Healthy_Life_Expectancy\"}, inplace=True)\n",
    "            break\n",
    "\n",
    "    # Freedom\n",
    "    for col in [\"Freedom\", \"Freedom to make life choices\", \"Explained by: Freedom to make life choices\"]:\n",
    "        if col in df.columns:\n",
    "            df.rename(columns={col: \"Freedom\"}, inplace=True)\n",
    "            break\n",
    "\n",
    "    # Corruption\n",
    "    for col in [\"Trust (Government Corruption)\", \"Trust..Government.Corruption.\",\n",
    "                \"Perceptions of corruption\", \"Explained by: Perceptions of corruption\"]:\n",
    "        if col in df.columns:\n",
    "            df.rename(columns={col: \"Corruption\"}, inplace=True)\n",
    "            break\n",
    "\n",
    "    # Generosity\n",
    "    for col in [\"Generosity\", \"Explained by: Generosity\"]:\n",
    "        if col in df.columns:\n",
    "            df.rename(columns={col: \"Generosity\"}, inplace=True)\n",
    "            break\n",
    "\n",
    "    # Dystopia Residual\n",
    "    for col in [\"Dystopia Residual\", \"Dystopia + residual\", \"Dystopia (1.83) + residual\", \"Dystopia.Residual\"]:\n",
    "        if col in df.columns:\n",
    "            df.rename(columns={col: \"Dystopia_Residual\"}, inplace=True)\n",
    "            break\n",
    "\n",
    "    return df\n",
    "\n"
   ]
  },
  {
   "cell_type": "code",
   "execution_count": null,
   "id": "82ea786f",
   "metadata": {},
   "outputs": [
    {
     "name": "stdout",
     "output_type": "stream",
     "text": [
      "Colunas diferentes entre 2015 e 2016:\n",
      "{'Standard Error', 'Lower Confidence Interval', 'Upper Confidence Interval'}\n"
     ]
    }
   ],
   "source": [
    "colunas_2015 = set(ano_2015.columns)\n",
    "colunas_2016 = set(ano_2016.columns)\n",
    "\n",
    "diferentes = colunas_2015.symmetric_difference(colunas_2016)\n",
    "\n",
    "print(\"Colunas diferentes entre 2015 e 2016:\")\n",
    "print(diferentes)\n"
   ]
  },
  {
   "cell_type": "code",
   "execution_count": null,
   "id": "a5e07554",
   "metadata": {},
   "outputs": [
    {
     "name": "stdout",
     "output_type": "stream",
     "text": [
      "Colunas diferentes entre 2016 e 2017:\n",
      "{'Whisker.low', 'Upper Confidence Interval', 'Region', 'Whisker.high', 'Lower Confidence Interval'}\n"
     ]
    }
   ],
   "source": [
    "colunas_2016 = set(ano_2016.columns)\n",
    "colunas_2017 = set(ano_2017.columns)\n",
    "\n",
    "diferentes = colunas_2016.symmetric_difference(colunas_2017)\n",
    "\n",
    "print(\"Colunas diferentes entre 2016 e 2017:\")\n",
    "print(diferentes)"
   ]
  },
  {
   "cell_type": "code",
   "execution_count": null,
   "id": "8751a402",
   "metadata": {},
   "outputs": [
    {
     "name": "stdout",
     "output_type": "stream",
     "text": [
      "Colunas diferentes entre 2016 e 2017:\n",
      "{'Happiness Rank', 'Social support', 'Score', 'Region', 'Perceptions of corruption', 'Happiness Score', 'Country', 'Economy (GDP per Capita)', 'GDP per capita', 'Upper Confidence Interval', 'Trust (Government Corruption)', 'Health (Life Expectancy)', 'Family', 'Healthy life expectancy', 'Freedom to make life choices', 'Freedom', 'Overall rank', 'Country or region', 'Lower Confidence Interval', 'Dystopia Residual'}\n"
     ]
    }
   ],
   "source": [
    "colunas_2016 = set(ano_2016.columns)\n",
    "colunas_2018 = set(ano_2018.columns)\n",
    "\n",
    "diferentes = colunas_2016.symmetric_difference(colunas_2018)\n",
    "\n",
    "print(\"Colunas diferentes entre 2016 e 2017:\")\n",
    "print(diferentes)"
   ]
  },
  {
   "cell_type": "markdown",
   "id": "cfcb8db1",
   "metadata": {},
   "source": [
    "### Juntar os anos todos já com as colunas arranjadas e assim"
   ]
  },
  {
   "cell_type": "markdown",
   "id": "46c338c2",
   "metadata": {},
   "source": [
    "### Valores em falta"
   ]
  },
  {
   "cell_type": "markdown",
   "id": "3d9e49dd",
   "metadata": {},
   "source": [
    "### Dados duplicados"
   ]
  },
  {
   "cell_type": "markdown",
   "id": "62c355e9",
   "metadata": {},
   "source": [
    "### Verificar tipo de dados"
   ]
  },
  {
   "cell_type": "markdown",
   "id": "fc1dcddd",
   "metadata": {},
   "source": [
    "### Normalização"
   ]
  },
  {
   "cell_type": "markdown",
   "id": "dc13b31f",
   "metadata": {},
   "source": [
    "### Outliers"
   ]
  },
  {
   "cell_type": "markdown",
   "id": "13f401ce",
   "metadata": {},
   "source": [
    "### Verificar consistência ao longo dos anos"
   ]
  },
  {
   "cell_type": "markdown",
   "id": "89985331",
   "metadata": {},
   "source": [
    "### Resumo estatístico anual"
   ]
  },
  {
   "cell_type": "markdown",
   "id": "ba1a8f5f",
   "metadata": {},
   "source": [
    "### Histogramas e distribuições"
   ]
  },
  {
   "cell_type": "markdown",
   "id": "9556380e",
   "metadata": {},
   "source": [
    "### Balanceamento"
   ]
  },
  {
   "cell_type": "markdown",
   "id": "92c82cec",
   "metadata": {},
   "source": [
    "### Matriz de correlação"
   ]
  },
  {
   "cell_type": "markdown",
   "id": "0e143284",
   "metadata": {},
   "source": [
    "-------------------------------------------------------------------------------"
   ]
  },
  {
   "cell_type": "markdown",
   "id": "158801c8",
   "metadata": {},
   "source": [
    "### **Pergunta geral**: \n",
    "Como evoluíram os fatores que influenciam a felicidade global entre 2015 e 2022, e que padrões regionais ou estruturais explicam essas mudanças?"
   ]
  },
  {
   "cell_type": "markdown",
   "id": "2799a7f4",
   "metadata": {},
   "source": [
    "### Primeira visualização\n",
    "A felicidade mundial está a convergir ou a divergir ao longo do tempo?"
   ]
  },
  {
   "cell_type": "markdown",
   "id": "e0e8faf3",
   "metadata": {},
   "source": [
    "### Segunda visualização\n",
    "A pandemia de 2020 alterou os fatores que mais pesam na felicidade?"
   ]
  },
  {
   "cell_type": "markdown",
   "id": "fcb67a34",
   "metadata": {},
   "source": [
    "### Terceira visualização\n",
    "A economia continua a ser o fator mais determinante da felicidade com o passar dos anos?"
   ]
  },
  {
   "cell_type": "markdown",
   "id": "4d9bbf3b",
   "metadata": {},
   "source": [
    "### Quarta visualização\n",
    "Os países mais generosos tornaram-se mais ou menos felizes ao longo do tempo?"
   ]
  },
  {
   "cell_type": "markdown",
   "id": "b6051bf2",
   "metadata": {},
   "source": [
    "### Quinta visualização\n",
    "Quais países mudaram mais o seu ranking de felicidade — e porquê?"
   ]
  }
 ],
 "metadata": {
  "kernelspec": {
   "display_name": "base",
   "language": "python",
   "name": "python3"
  },
  "language_info": {
   "codemirror_mode": {
    "name": "ipython",
    "version": 3
   },
   "file_extension": ".py",
   "mimetype": "text/x-python",
   "name": "python",
   "nbconvert_exporter": "python",
   "pygments_lexer": "ipython3",
   "version": "3.11.4"
  }
 },
 "nbformat": 4,
 "nbformat_minor": 5
}
