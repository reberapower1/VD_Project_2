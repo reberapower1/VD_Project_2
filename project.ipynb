{
 "cells": [
  {
   "cell_type": "code",
   "execution_count": 61,
   "id": "4d6a11b0",
   "metadata": {},
   "outputs": [],
   "source": [
    "import pandas as pd\n"
   ]
  },
  {
   "cell_type": "code",
   "execution_count": 62,
   "id": "36179ea2",
   "metadata": {},
   "outputs": [],
   "source": [
    "import numpy as np"
   ]
  },
  {
   "cell_type": "markdown",
   "id": "6c5674b8",
   "metadata": {},
   "source": [
    "# Pré-processamento"
   ]
  },
  {
   "cell_type": "markdown",
   "id": "a5728248",
   "metadata": {},
   "source": [
    "### Ver informações para cada ano diferente"
   ]
  },
  {
   "cell_type": "markdown",
   "id": "03fb6c26",
   "metadata": {},
   "source": [
    "## 2015"
   ]
  },
  {
   "cell_type": "code",
   "execution_count": 63,
   "id": "500117dc",
   "metadata": {},
   "outputs": [
    {
     "name": "stdout",
     "output_type": "stream",
     "text": [
      "<class 'pandas.core.frame.DataFrame'>\n",
      "RangeIndex: 158 entries, 0 to 157\n",
      "Data columns (total 12 columns):\n",
      " #   Column                         Non-Null Count  Dtype  \n",
      "---  ------                         --------------  -----  \n",
      " 0   Country                        158 non-null    object \n",
      " 1   Region                         158 non-null    object \n",
      " 2   Happiness Rank                 158 non-null    int64  \n",
      " 3   Happiness Score                158 non-null    float64\n",
      " 4   Standard Error                 158 non-null    float64\n",
      " 5   Economy (GDP per Capita)       158 non-null    float64\n",
      " 6   Family                         158 non-null    float64\n",
      " 7   Health (Life Expectancy)       158 non-null    float64\n",
      " 8   Freedom                        158 non-null    float64\n",
      " 9   Trust (Government Corruption)  158 non-null    float64\n",
      " 10  Generosity                     158 non-null    float64\n",
      " 11  Dystopia Residual              158 non-null    float64\n",
      "dtypes: float64(9), int64(1), object(2)\n",
      "memory usage: 14.9+ KB\n",
      "None\n",
      "Country                          0\n",
      "Region                           0\n",
      "Happiness Rank                   0\n",
      "Happiness Score                  0\n",
      "Standard Error                   0\n",
      "Economy (GDP per Capita)         0\n",
      "Family                           0\n",
      "Health (Life Expectancy)         0\n",
      "Freedom                          0\n",
      "Trust (Government Corruption)    0\n",
      "Generosity                       0\n",
      "Dystopia Residual                0\n",
      "dtype: int64\n"
     ]
    }
   ],
   "source": [
    "ano_2015=pd.read_csv(\"2015.csv\")\n",
    "print(ano_2015.info())\n",
    "\n",
    "print(ano_2015[['Country', 'Region', 'Happiness Rank', 'Happiness Score', 'Standard Error', 'Economy (GDP per Capita)', 'Family', 'Health (Life Expectancy)', 'Freedom', 'Trust (Government Corruption)', 'Generosity', 'Dystopia Residual']].isnull().sum())\n"
   ]
  },
  {
   "cell_type": "markdown",
   "id": "85ec3383",
   "metadata": {},
   "source": [
    "## 2016"
   ]
  },
  {
   "cell_type": "code",
   "execution_count": 64,
   "id": "0db48e36",
   "metadata": {},
   "outputs": [
    {
     "name": "stdout",
     "output_type": "stream",
     "text": [
      "<class 'pandas.core.frame.DataFrame'>\n",
      "RangeIndex: 157 entries, 0 to 156\n",
      "Data columns (total 13 columns):\n",
      " #   Column                         Non-Null Count  Dtype  \n",
      "---  ------                         --------------  -----  \n",
      " 0   Country                        157 non-null    object \n",
      " 1   Region                         157 non-null    object \n",
      " 2   Happiness Rank                 157 non-null    int64  \n",
      " 3   Happiness Score                157 non-null    float64\n",
      " 4   Lower Confidence Interval      157 non-null    float64\n",
      " 5   Upper Confidence Interval      157 non-null    float64\n",
      " 6   Economy (GDP per Capita)       157 non-null    float64\n",
      " 7   Family                         157 non-null    float64\n",
      " 8   Health (Life Expectancy)       157 non-null    float64\n",
      " 9   Freedom                        157 non-null    float64\n",
      " 10  Trust (Government Corruption)  157 non-null    float64\n",
      " 11  Generosity                     157 non-null    float64\n",
      " 12  Dystopia Residual              157 non-null    float64\n",
      "dtypes: float64(10), int64(1), object(2)\n",
      "memory usage: 16.1+ KB\n",
      "None\n",
      "Country                          0\n",
      "Region                           0\n",
      "Happiness Rank                   0\n",
      "Happiness Score                  0\n",
      "Lower Confidence Interval        0\n",
      "Upper Confidence Interval        0\n",
      "Economy (GDP per Capita)         0\n",
      "Family                           0\n",
      "Health (Life Expectancy)         0\n",
      "Freedom                          0\n",
      "Trust (Government Corruption)    0\n",
      "Generosity                       0\n",
      "Dystopia Residual                0\n",
      "dtype: int64\n"
     ]
    }
   ],
   "source": [
    "ano_2016=pd.read_csv(\"2016.csv\")\n",
    "print(ano_2016.info())\n",
    "\n",
    "\n",
    "print(ano_2016[['Country', 'Region', 'Happiness Rank', 'Happiness Score', 'Lower Confidence Interval','Upper Confidence Interval', 'Economy (GDP per Capita)', 'Family', 'Health (Life Expectancy)', 'Freedom', 'Trust (Government Corruption)', 'Generosity', 'Dystopia Residual']].isnull().sum())"
   ]
  },
  {
   "cell_type": "markdown",
   "id": "22d318b4",
   "metadata": {},
   "source": [
    "## 2017"
   ]
  },
  {
   "cell_type": "code",
   "execution_count": 65,
   "id": "943f75be",
   "metadata": {},
   "outputs": [
    {
     "name": "stdout",
     "output_type": "stream",
     "text": [
      "<class 'pandas.core.frame.DataFrame'>\n",
      "RangeIndex: 155 entries, 0 to 154\n",
      "Data columns (total 12 columns):\n",
      " #   Column                         Non-Null Count  Dtype  \n",
      "---  ------                         --------------  -----  \n",
      " 0   Country                        155 non-null    object \n",
      " 1   Happiness.Rank                 155 non-null    int64  \n",
      " 2   Happiness.Score                155 non-null    float64\n",
      " 3   Whisker.high                   155 non-null    float64\n",
      " 4   Whisker.low                    155 non-null    float64\n",
      " 5   Economy..GDP.per.Capita.       155 non-null    float64\n",
      " 6   Family                         155 non-null    float64\n",
      " 7   Health..Life.Expectancy.       155 non-null    float64\n",
      " 8   Freedom                        155 non-null    float64\n",
      " 9   Generosity                     155 non-null    float64\n",
      " 10  Trust..Government.Corruption.  155 non-null    float64\n",
      " 11  Dystopia.Residual              155 non-null    float64\n",
      "dtypes: float64(10), int64(1), object(1)\n",
      "memory usage: 14.7+ KB\n",
      "None\n",
      "Country                          0\n",
      "Happiness.Rank                   0\n",
      "Happiness.Score                  0\n",
      "Whisker.high                     0\n",
      "Whisker.low                      0\n",
      "Economy..GDP.per.Capita.         0\n",
      "Family                           0\n",
      "Health..Life.Expectancy.         0\n",
      "Freedom                          0\n",
      "Trust..Government.Corruption.    0\n",
      "Generosity                       0\n",
      "Dystopia.Residual                0\n",
      "dtype: int64\n"
     ]
    }
   ],
   "source": [
    "ano_2017=pd.read_csv(\"2017.csv\")\n",
    "print(ano_2017.info())\n",
    "\n",
    "\n",
    "print(ano_2017[['Country', 'Happiness.Rank', 'Happiness.Score', 'Whisker.high', 'Whisker.low', 'Economy..GDP.per.Capita.', 'Family', 'Health..Life.Expectancy.', 'Freedom', 'Trust..Government.Corruption.', 'Generosity', 'Dystopia.Residual']].isnull().sum())"
   ]
  },
  {
   "cell_type": "markdown",
   "id": "75c2ff9f",
   "metadata": {},
   "source": [
    "## 2018"
   ]
  },
  {
   "cell_type": "code",
   "execution_count": 66,
   "id": "f8150778",
   "metadata": {},
   "outputs": [
    {
     "name": "stdout",
     "output_type": "stream",
     "text": [
      "<class 'pandas.core.frame.DataFrame'>\n",
      "RangeIndex: 156 entries, 0 to 155\n",
      "Data columns (total 9 columns):\n",
      " #   Column                        Non-Null Count  Dtype  \n",
      "---  ------                        --------------  -----  \n",
      " 0   Overall rank                  156 non-null    int64  \n",
      " 1   Country or region             156 non-null    object \n",
      " 2   Score                         156 non-null    float64\n",
      " 3   GDP per capita                156 non-null    float64\n",
      " 4   Social support                156 non-null    float64\n",
      " 5   Healthy life expectancy       156 non-null    float64\n",
      " 6   Freedom to make life choices  156 non-null    float64\n",
      " 7   Generosity                    156 non-null    float64\n",
      " 8   Perceptions of corruption     155 non-null    float64\n",
      "dtypes: float64(7), int64(1), object(1)\n",
      "memory usage: 11.1+ KB\n",
      "None\n",
      "Country or region               0\n",
      "Overall rank                    0\n",
      "Score                           0\n",
      "GDP per capita                  0\n",
      "Social support                  0\n",
      "Healthy life expectancy         0\n",
      "Freedom to make life choices    0\n",
      "Perceptions of corruption       1\n",
      "dtype: int64\n"
     ]
    }
   ],
   "source": [
    "ano_2018=pd.read_csv(\"2018.csv\")\n",
    "print(ano_2018.info())\n",
    "\n",
    "\n",
    "print(ano_2018[['Country or region', 'Overall rank', 'Score', 'GDP per capita', 'Social support', 'Healthy life expectancy', 'Freedom to make life choices', 'Perceptions of corruption']].isnull().sum())"
   ]
  },
  {
   "cell_type": "markdown",
   "id": "74748622",
   "metadata": {},
   "source": [
    "## 2019"
   ]
  },
  {
   "cell_type": "code",
   "execution_count": 67,
   "id": "0a0e5d20",
   "metadata": {},
   "outputs": [
    {
     "name": "stdout",
     "output_type": "stream",
     "text": [
      "<class 'pandas.core.frame.DataFrame'>\n",
      "RangeIndex: 156 entries, 0 to 155\n",
      "Data columns (total 9 columns):\n",
      " #   Column                        Non-Null Count  Dtype  \n",
      "---  ------                        --------------  -----  \n",
      " 0   Overall rank                  156 non-null    int64  \n",
      " 1   Country or region             156 non-null    object \n",
      " 2   Score                         156 non-null    float64\n",
      " 3   GDP per capita                156 non-null    float64\n",
      " 4   Social support                156 non-null    float64\n",
      " 5   Healthy life expectancy       156 non-null    float64\n",
      " 6   Freedom to make life choices  156 non-null    float64\n",
      " 7   Generosity                    156 non-null    float64\n",
      " 8   Perceptions of corruption     156 non-null    float64\n",
      "dtypes: float64(7), int64(1), object(1)\n",
      "memory usage: 11.1+ KB\n",
      "None\n",
      "Country or region               0\n",
      "Overall rank                    0\n",
      "Score                           0\n",
      "GDP per capita                  0\n",
      "Social support                  0\n",
      "Healthy life expectancy         0\n",
      "Freedom to make life choices    0\n",
      "Perceptions of corruption       0\n",
      "dtype: int64\n"
     ]
    }
   ],
   "source": [
    "ano_2019=pd.read_csv(\"2019.csv\")\n",
    "print(ano_2019.info())\n",
    "\n",
    "\n",
    "print(ano_2019[['Country or region', 'Overall rank', 'Score', 'GDP per capita', 'Social support', 'Healthy life expectancy', 'Freedom to make life choices', 'Perceptions of corruption']].isnull().sum())"
   ]
  },
  {
   "cell_type": "markdown",
   "id": "e88bbd85",
   "metadata": {},
   "source": [
    "## 2020"
   ]
  },
  {
   "cell_type": "code",
   "execution_count": 68,
   "id": "1f0ae1dc",
   "metadata": {},
   "outputs": [
    {
     "name": "stdout",
     "output_type": "stream",
     "text": [
      "<class 'pandas.core.frame.DataFrame'>\n",
      "RangeIndex: 153 entries, 0 to 152\n",
      "Data columns (total 20 columns):\n",
      " #   Column                                      Non-Null Count  Dtype  \n",
      "---  ------                                      --------------  -----  \n",
      " 0   Country name                                153 non-null    object \n",
      " 1   Regional indicator                          153 non-null    object \n",
      " 2   Ladder score                                153 non-null    float64\n",
      " 3   Standard error of ladder score              153 non-null    float64\n",
      " 4   upperwhisker                                153 non-null    float64\n",
      " 5   lowerwhisker                                153 non-null    float64\n",
      " 6   Logged GDP per capita                       153 non-null    float64\n",
      " 7   Social support                              153 non-null    float64\n",
      " 8   Healthy life expectancy                     153 non-null    float64\n",
      " 9   Freedom to make life choices                153 non-null    float64\n",
      " 10  Generosity                                  153 non-null    float64\n",
      " 11  Perceptions of corruption                   153 non-null    float64\n",
      " 12  Ladder score in Dystopia                    153 non-null    float64\n",
      " 13  Explained by: Log GDP per capita            153 non-null    float64\n",
      " 14  Explained by: Social support                153 non-null    float64\n",
      " 15  Explained by: Healthy life expectancy       153 non-null    float64\n",
      " 16  Explained by: Freedom to make life choices  153 non-null    float64\n",
      " 17  Explained by: Generosity                    153 non-null    float64\n",
      " 18  Explained by: Perceptions of corruption     153 non-null    float64\n",
      " 19  Dystopia + residual                         153 non-null    float64\n",
      "dtypes: float64(18), object(2)\n",
      "memory usage: 24.0+ KB\n",
      "None\n",
      "Country name                                  0\n",
      "Regional indicator                            0\n",
      "Ladder score                                  0\n",
      "Standard error of ladder score                0\n",
      "upperwhisker                                  0\n",
      "lowerwhisker                                  0\n",
      "Logged GDP per capita                         0\n",
      "Social support                                0\n",
      "Healthy life expectancy                       0\n",
      "Freedom to make life choices                  0\n",
      "Generosity                                    0\n",
      "Perceptions of corruption                     0\n",
      "Ladder score in Dystopia                      0\n",
      "Explained by: Log GDP per capita              0\n",
      "Explained by: Social support                  0\n",
      "Explained by: Healthy life expectancy         0\n",
      "Explained by: Freedom to make life choices    0\n",
      "Explained by: Generosity                      0\n",
      "Explained by: Perceptions of corruption       0\n",
      "Dystopia + residual                           0\n",
      "dtype: int64\n"
     ]
    }
   ],
   "source": [
    "ano_2020=pd.read_csv(\"2020.csv\")\n",
    "print(ano_2020.info())\n",
    "\n",
    "\n",
    "print(ano_2020[['Country name', 'Regional indicator', 'Ladder score', 'Standard error of ladder score','upperwhisker','lowerwhisker','Logged GDP per capita', 'Social support', 'Healthy life expectancy', 'Freedom to make life choices', 'Generosity','Perceptions of corruption', 'Ladder score in Dystopia', 'Explained by: Log GDP per capita', 'Explained by: Social support', 'Explained by: Healthy life expectancy', 'Explained by: Freedom to make life choices', 'Explained by: Generosity', 'Explained by: Perceptions of corruption', 'Dystopia + residual']].isnull().sum())"
   ]
  },
  {
   "cell_type": "markdown",
   "id": "52c01fed",
   "metadata": {},
   "source": [
    "## 2021"
   ]
  },
  {
   "cell_type": "code",
   "execution_count": 69,
   "id": "aa9dd73e",
   "metadata": {},
   "outputs": [
    {
     "name": "stdout",
     "output_type": "stream",
     "text": [
      "<class 'pandas.core.frame.DataFrame'>\n",
      "RangeIndex: 149 entries, 0 to 148\n",
      "Data columns (total 20 columns):\n",
      " #   Column                                      Non-Null Count  Dtype  \n",
      "---  ------                                      --------------  -----  \n",
      " 0   Country name                                149 non-null    object \n",
      " 1   Regional indicator                          149 non-null    object \n",
      " 2   Ladder score                                149 non-null    float64\n",
      " 3   Standard error of ladder score              149 non-null    float64\n",
      " 4   upperwhisker                                149 non-null    float64\n",
      " 5   lowerwhisker                                149 non-null    float64\n",
      " 6   Logged GDP per capita                       149 non-null    float64\n",
      " 7   Social support                              149 non-null    float64\n",
      " 8   Healthy life expectancy                     149 non-null    float64\n",
      " 9   Freedom to make life choices                149 non-null    float64\n",
      " 10  Generosity                                  149 non-null    float64\n",
      " 11  Perceptions of corruption                   149 non-null    float64\n",
      " 12  Ladder score in Dystopia                    149 non-null    float64\n",
      " 13  Explained by: Log GDP per capita            149 non-null    float64\n",
      " 14  Explained by: Social support                149 non-null    float64\n",
      " 15  Explained by: Healthy life expectancy       149 non-null    float64\n",
      " 16  Explained by: Freedom to make life choices  149 non-null    float64\n",
      " 17  Explained by: Generosity                    149 non-null    float64\n",
      " 18  Explained by: Perceptions of corruption     149 non-null    float64\n",
      " 19  Dystopia + residual                         149 non-null    float64\n",
      "dtypes: float64(18), object(2)\n",
      "memory usage: 23.4+ KB\n",
      "None\n",
      "Country name                                  0\n",
      "Regional indicator                            0\n",
      "Ladder score                                  0\n",
      "Standard error of ladder score                0\n",
      "upperwhisker                                  0\n",
      "lowerwhisker                                  0\n",
      "Logged GDP per capita                         0\n",
      "Social support                                0\n",
      "Healthy life expectancy                       0\n",
      "Freedom to make life choices                  0\n",
      "Generosity                                    0\n",
      "Perceptions of corruption                     0\n",
      "Ladder score in Dystopia                      0\n",
      "Explained by: Log GDP per capita              0\n",
      "Explained by: Social support                  0\n",
      "Explained by: Healthy life expectancy         0\n",
      "Explained by: Freedom to make life choices    0\n",
      "Explained by: Generosity                      0\n",
      "Explained by: Perceptions of corruption       0\n",
      "Dystopia + residual                           0\n",
      "dtype: int64\n"
     ]
    }
   ],
   "source": [
    "ano_2021=pd.read_csv(\"2021.csv\")\n",
    "print(ano_2021.info())\n",
    "\n",
    "\n",
    "print(ano_2021[['Country name', 'Regional indicator', 'Ladder score', 'Standard error of ladder score','upperwhisker','lowerwhisker','Logged GDP per capita', 'Social support', 'Healthy life expectancy', 'Freedom to make life choices', 'Generosity','Perceptions of corruption', 'Ladder score in Dystopia', 'Explained by: Log GDP per capita', 'Explained by: Social support', 'Explained by: Healthy life expectancy', 'Explained by: Freedom to make life choices', 'Explained by: Generosity', 'Explained by: Perceptions of corruption', 'Dystopia + residual']].isnull().sum())"
   ]
  },
  {
   "cell_type": "markdown",
   "id": "2834c7af",
   "metadata": {},
   "source": [
    "## 2022"
   ]
  },
  {
   "cell_type": "code",
   "execution_count": 87,
   "id": "d0ab498a",
   "metadata": {},
   "outputs": [
    {
     "name": "stdout",
     "output_type": "stream",
     "text": [
      "<class 'pandas.core.frame.DataFrame'>\n",
      "RangeIndex: 147 entries, 0 to 146\n",
      "Data columns (total 12 columns):\n",
      " #   Column                                      Non-Null Count  Dtype \n",
      "---  ------                                      --------------  ----- \n",
      " 0   RANK                                        147 non-null    int64 \n",
      " 1   Country                                     147 non-null    object\n",
      " 2   Happiness score                             146 non-null    object\n",
      " 3   Whisker-high                                146 non-null    object\n",
      " 4   Whisker-low                                 146 non-null    object\n",
      " 5   Dystopia (1.83) + residual                  146 non-null    object\n",
      " 6   Explained by: GDP per capita                146 non-null    object\n",
      " 7   Explained by: Social support                146 non-null    object\n",
      " 8   Explained by: Healthy life expectancy       146 non-null    object\n",
      " 9   Explained by: Freedom to make life choices  146 non-null    object\n",
      " 10  Explained by: Generosity                    146 non-null    object\n",
      " 11  Explained by: Perceptions of corruption     146 non-null    object\n",
      "dtypes: int64(1), object(11)\n",
      "memory usage: 13.9+ KB\n",
      "None\n",
      "RANK                                          0\n",
      "Country                                       0\n",
      "Happiness score                               1\n",
      "Whisker-high                                  1\n",
      "Whisker-low                                   1\n",
      "Dystopia (1.83) + residual                    1\n",
      "Explained by: GDP per capita                  1\n",
      "Explained by: Social support                  1\n",
      "Explained by: Healthy life expectancy         1\n",
      "Explained by: Freedom to make life choices    1\n",
      "Explained by: Generosity                      1\n",
      "Explained by: Perceptions of corruption       1\n",
      "dtype: int64\n"
     ]
    }
   ],
   "source": [
    "ano_2022=pd.read_csv(\"2022.csv\")\n",
    "print(ano_2022.info())\n",
    "\n",
    "\n",
    "print(ano_2022[['RANK','Country', 'Happiness score', 'Whisker-high','Whisker-low','Dystopia (1.83) + residual', 'Explained by: GDP per capita', 'Explained by: Social support', 'Explained by: Healthy life expectancy', 'Explained by: Freedom to make life choices', 'Explained by: Generosity', 'Explained by: Perceptions of corruption']].isnull().sum())"
   ]
  },
  {
   "cell_type": "markdown",
   "id": "2427b1ca",
   "metadata": {},
   "source": [
    "### parte para mudar nomes de atributos e assim para ficar com as colunas todas iguais"
   ]
  },
  {
   "cell_type": "markdown",
   "id": "5cedba7b",
   "metadata": {},
   "source": [
    "- na coluna do ano nao temos d mudar nada\n",
    "- no country- no d 2018/2019 existe Country or region. no 2020/2021 é Country name. nos outros é Country\n",
    "- happines score- \"Happiness Score”, “Score”, “Ladder score”, “Happiness.Score” \n",
    "- G- DP per capita- Economy..GDP.per.Capita, “Economy (GDP per Capita)”, “GDP per capita”, “Logged GDP per capita”, “Explained by: GDP per capita”\n",
    "- social support- “Family”, “Social support”, “Explained by: Social support”\n",
    "- healthy life expectancy- “Health (Life Expectancy)”, “Healthy life expectancy”, “Explained by: Healthy life expectancy”, \"Health..life.expectancy\"\n",
    "- freedom- “Freedom”, “Freedom to make life choices”, “Explained by: Freedom to make life choices”\n",
    "- corruption- “Trust (Government Corruption)”, “Perceptions of corruption”, “Explained by: Perceptions of corruption”, \"Trust..Government.Corruption\"\n",
    "- gerenosity- “Generosity”, “Explained by: Generosity”\n",
    "dystopia residual- “Dystopia Residual”, “Dystopia + residual”, “Dystopia (1.83) + residual”\n",
    "- happiness rank- “Happiness Rank”, “Overall rank”, “RANK”, \"Ladder score\""
   ]
  },
  {
   "cell_type": "markdown",
   "id": "6ca716eb",
   "metadata": {},
   "source": [
    "\n",
    "Em 2020 e 2021, os relatórios da ONU deixaram de incluir o “Happiness Rank” explícito, mas o ranking pode ser facilmente reconstruído a partir do Ladder score.Ou seja:podemos criar o Happiness_Rank ordenando os países por Ladder Score (quanto maior o score, melhor o ranking = 1º lugar).\n",
    "\n",
    "O EXPLAINED BY É TIPO A MATRIZ DE CORRELAÇAO, entao tenho d ver melhor isto\n",
    "\n",
    "no gdp per capita temos dps d normalizar tudo "
   ]
  },
  {
   "cell_type": "markdown",
   "id": "6f18b57b",
   "metadata": {},
   "source": [
    "se calhar nao utiliza estas colunas: \n",
    "Standard Error\n",
    "Lower Confidence Interval\n",
    "Upper Confidence Interval\n",
    "Whisker.high / Whisker.low\n",
    "Explained by\n",
    "Ladder score in Dystopia"
   ]
  },
  {
   "cell_type": "markdown",
   "id": "adc75a43",
   "metadata": {},
   "source": [
    "- as colunas que queremos usar e q têm explained by--- vamso fazer tipo uma regressao linear\n",
    "- no gdp per capita o ano de 2020 e 2021 usa o log entao para meter como os anos anteriores usamos o exp- # Para os datasets de 2020 e 2021\n",
    "ano_2020[\"Economy (GDP per Capita)\"] = np.exp(ano_2020[\"Logged GDP per capita\"])\n",
    "ano_2021[\"Economy (GDP per Capita)\"] = np.exp(ano_2021[\"Logged GDP per capita\"])"
   ]
  },
  {
   "cell_type": "markdown",
   "id": "46ab0d83",
   "metadata": {},
   "source": [
    "### Tratar do country e region"
   ]
  },
  {
   "cell_type": "code",
   "execution_count": 71,
   "id": "6e8a2699",
   "metadata": {},
   "outputs": [],
   "source": [
    "# nestes anos, esta coluna é só países\n",
    "ano_2018.rename(columns={\"Country or region\": \"Country\"}, inplace=True)\n",
    "ano_2019.rename(columns={\"Country or region\": \"Country\"}, inplace=True)\n",
    "\n",
    "\n",
    "# agora quero criar a coluna region\n",
    "ano_2017[\"Region\"] = None\n",
    "ano_2018[\"Region\"] = None\n",
    "ano_2019[\"Region\"] = None\n",
    "ano_2022[\"Region\"] = None\n",
    "\n",
    "# aqui já meto as colunas com o mesmo nome\n",
    "ano_2020.rename(columns={\"Regional indicator\": \"Region\"}, inplace=True)\n",
    "ano_2021.rename(columns={\"Regional indicator\": \"Region\"}, inplace=True)\n",
    "ano_2020.rename(columns={\"Country name\": \"Country\"}, inplace=True)\n",
    "ano_2021.rename(columns={\"Country name\": \"Country\"}, inplace=True)\n",
    "\n",
    "\n",
    "# dicionario que tem pais-regiao \n",
    "region_map = pd.concat([\n",
    "    ano_2015[[\"Country\", \"Region\"]],\n",
    "    ano_2016[[\"Country\", \"Region\"]],\n",
    "    ano_2020[[\"Country\", \"Region\"]],\n",
    "    ano_2021[[\"Country\", \"Region\"]]\n",
    "]).dropna().drop_duplicates().set_index(\"Country\")[\"Region\"].to_dict()\n",
    "\n",
    "# aplicar aos datasets sem região\n",
    "for df in [ano_2017, ano_2018, ano_2019, ano_2022]:\n",
    "    df[\"Region\"] = df[\"Country\"].map(region_map)\n"
   ]
  },
  {
   "cell_type": "code",
   "execution_count": 72,
   "id": "51ed86a9",
   "metadata": {},
   "outputs": [
    {
     "name": "stdout",
     "output_type": "stream",
     "text": [
      "\n",
      "===== 2015 =====\n",
      "['Country', 'Region', 'Happiness Rank', 'Happiness Score', 'Standard Error', 'Economy (GDP per Capita)', 'Family', 'Health (Life Expectancy)', 'Freedom', 'Trust (Government Corruption)', 'Generosity', 'Dystopia Residual']\n",
      "\n",
      "===== 2016 =====\n",
      "['Country', 'Region', 'Happiness Rank', 'Happiness Score', 'Lower Confidence Interval', 'Upper Confidence Interval', 'Economy (GDP per Capita)', 'Family', 'Health (Life Expectancy)', 'Freedom', 'Trust (Government Corruption)', 'Generosity', 'Dystopia Residual']\n",
      "\n",
      "===== 2017 =====\n",
      "['Country', 'Happiness.Rank', 'Happiness.Score', 'Whisker.high', 'Whisker.low', 'Economy..GDP.per.Capita.', 'Family', 'Health..Life.Expectancy.', 'Freedom', 'Generosity', 'Trust..Government.Corruption.', 'Dystopia.Residual', 'Region']\n",
      "\n",
      "===== 2018 =====\n",
      "['Overall rank', 'Country', 'Score', 'GDP per capita', 'Social support', 'Healthy life expectancy', 'Freedom to make life choices', 'Generosity', 'Perceptions of corruption', 'Region']\n",
      "\n",
      "===== 2019 =====\n",
      "['Overall rank', 'Country', 'Score', 'GDP per capita', 'Social support', 'Healthy life expectancy', 'Freedom to make life choices', 'Generosity', 'Perceptions of corruption', 'Region']\n",
      "\n",
      "===== 2020 =====\n",
      "['Country', 'Region', 'Ladder score', 'Standard error of ladder score', 'upperwhisker', 'lowerwhisker', 'Logged GDP per capita', 'Social support', 'Healthy life expectancy', 'Freedom to make life choices', 'Generosity', 'Perceptions of corruption', 'Ladder score in Dystopia', 'Explained by: Log GDP per capita', 'Explained by: Social support', 'Explained by: Healthy life expectancy', 'Explained by: Freedom to make life choices', 'Explained by: Generosity', 'Explained by: Perceptions of corruption', 'Dystopia + residual']\n",
      "\n",
      "===== 2021 =====\n",
      "['Country', 'Region', 'Ladder score', 'Standard error of ladder score', 'upperwhisker', 'lowerwhisker', 'Logged GDP per capita', 'Social support', 'Healthy life expectancy', 'Freedom to make life choices', 'Generosity', 'Perceptions of corruption', 'Ladder score in Dystopia', 'Explained by: Log GDP per capita', 'Explained by: Social support', 'Explained by: Healthy life expectancy', 'Explained by: Freedom to make life choices', 'Explained by: Generosity', 'Explained by: Perceptions of corruption', 'Dystopia + residual']\n",
      "\n",
      "===== 2022 =====\n",
      "['RANK', 'Country', 'Happiness score', 'Whisker-high', 'Whisker-low', 'Dystopia (1.83) + residual', 'Explained by: GDP per capita', 'Explained by: Social support', 'Explained by: Healthy life expectancy', 'Explained by: Freedom to make life choices', 'Explained by: Generosity', 'Explained by: Perceptions of corruption', 'Region']\n",
      "\n",
      "===== 2017 =====\n",
      "       Country          Region\n",
      "0       Norway  Western Europe\n",
      "1      Denmark  Western Europe\n",
      "2      Iceland  Western Europe\n",
      "3  Switzerland  Western Europe\n",
      "4      Finland  Western Europe\n",
      "\n",
      "===== 2018 =====\n",
      "       Country          Region\n",
      "0      Finland  Western Europe\n",
      "1       Norway  Western Europe\n",
      "2      Denmark  Western Europe\n",
      "3      Iceland  Western Europe\n",
      "4  Switzerland  Western Europe\n",
      "\n",
      "===== 2019 =====\n",
      "       Country          Region\n",
      "0      Finland  Western Europe\n",
      "1      Denmark  Western Europe\n",
      "2       Norway  Western Europe\n",
      "3      Iceland  Western Europe\n",
      "4  Netherlands  Western Europe\n",
      "\n",
      "===== 2022 =====\n",
      "       Country          Region\n",
      "0      Finland  Western Europe\n",
      "1      Denmark  Western Europe\n",
      "2      Iceland  Western Europe\n",
      "3  Switzerland  Western Europe\n",
      "4  Netherlands  Western Europe\n"
     ]
    }
   ],
   "source": [
    "# Lista de datasets e respetivos anos\n",
    "datasets = {\n",
    "    2015: ano_2015,\n",
    "    2016: ano_2016,\n",
    "    2017: ano_2017,\n",
    "    2018: ano_2018,\n",
    "    2019: ano_2019,\n",
    "    2020: ano_2020,\n",
    "    2021: ano_2021,\n",
    "    2022: ano_2022\n",
    "}\n",
    "\n",
    "\n",
    "# Mostrar colunas de cada dataset\n",
    "for year, df in datasets.items():\n",
    "    print(f\"\\n===== {year} =====\")\n",
    "    print(df.columns.tolist())\n",
    "\n",
    "\n",
    "print(\"\\n===== 2017 =====\")\n",
    "print(ano_2017[[\"Country\", \"Region\"]].head())\n",
    "\n",
    "print(\"\\n===== 2018 =====\")\n",
    "print(ano_2018[[\"Country\", \"Region\"]].head())\n",
    "\n",
    "print(\"\\n===== 2019 =====\")\n",
    "print(ano_2019[[\"Country\", \"Region\"]].head())\n",
    "\n",
    "print(\"\\n===== 2022 =====\")\n",
    "print(ano_2022[[\"Country\", \"Region\"]].head())\n"
   ]
  },
  {
   "cell_type": "markdown",
   "id": "ce12c105",
   "metadata": {},
   "source": [
    "### Corrigir o GDP per Capita (log vs. linear)\n"
   ]
  },
  {
   "cell_type": "code",
   "execution_count": 73,
   "id": "182b6f17",
   "metadata": {},
   "outputs": [
    {
     "name": "stdout",
     "output_type": "stream",
     "text": [
      "2020 - Correlação: 1.0000\n"
     ]
    },
    {
     "data": {
      "image/png": "[encoded data removed]",
      "text/plain": [
       "<Figure size 640x480 with 1 Axes>"
      ]
     },
     "metadata": {},
     "output_type": "display_data"
    },
    {
     "name": "stdout",
     "output_type": "stream",
     "text": [
      "2021 - Correlação: 1.0000\n"
     ]
    },
    {
     "data": {
      "image/png": "[encoded data removed]",
      "text/plain": [
       "<Figure size 640x480 with 1 Axes>"
      ]
     },
     "metadata": {},
     "output_type": "display_data"
    }
   ],
   "source": [
    "import matplotlib.pyplot as plt\n",
    "\n",
    "# verificar correlação nos anos 2020 e 2021\n",
    "for year, df in [(2020, ano_2020), (2021, ano_2021)]:\n",
    "    corr = df[\"Logged GDP per capita\"].corr(df[\"Explained by: Log GDP per capita\"])\n",
    "    print(f\"{year} - Correlação: {corr:.4f}\")\n",
    "\n",
    "    plt.scatter(df[\"Logged GDP per capita\"], df[\"Explained by: Log GDP per capita\"])\n",
    "    plt.title(f\"{year} - Logged vs Explained by (GDP per capita)\")\n",
    "    plt.xlabel(\"Logged GDP per capita\")\n",
    "    plt.ylabel(\"Explained by: Log GDP per capita\")\n",
    "    plt.show()\n"
   ]
  },
  {
   "cell_type": "code",
   "execution_count": 74,
   "id": "1740744f",
   "metadata": {},
   "outputs": [
    {
     "name": "stdout",
     "output_type": "stream",
     "text": [
      "Coeficiente angular: 3.226469353424445\n",
      "Intercepto: 6.492642388684923\n"
     ]
    },
    {
     "data": {
      "image/png": "[encoded data removed]",
      "text/plain": [
       "<Figure size 640x480 with 1 Axes>"
      ]
     },
     "metadata": {},
     "output_type": "display_data"
    }
   ],
   "source": [
    "from sklearn.linear_model import LinearRegression\n",
    "import numpy as np\n",
    "\n",
    "X = ano_2020[[\"Explained by: Log GDP per capita\"]]\n",
    "y = ano_2020[\"Logged GDP per capita\"]\n",
    "\n",
    "modelo_gdp = LinearRegression().fit(X, y)\n",
    "print(\"Coeficiente angular:\", modelo_gdp.coef_[0])\n",
    "print(\"Intercepto:\", modelo_gdp.intercept_)\n",
    "\n",
    "# testar no próprio dataset\n",
    "ano_2020[\"Logged_pred\"] = modelo_gdp.predict(X)\n",
    "\n",
    "# comparar valores reais vs previstos\n",
    "plt.scatter(ano_2020[\"Logged GDP per capita\"], ano_2020[\"Logged_pred\"])\n",
    "plt.title(\"Valores reais vs previstos (2020)\")\n",
    "plt.xlabel(\"Real\")\n",
    "plt.ylabel(\"Previsto\")\n",
    "plt.show()\n"
   ]
  },
  {
   "cell_type": "code",
   "execution_count": 75,
   "id": "30effdbf",
   "metadata": {},
   "outputs": [
    {
     "name": "stdout",
     "output_type": "stream",
     "text": [
      "\n",
      "===== Ano 2020 =====\n",
      "⚠️ Coluna 'Economy (GDP per Capita)' não existe em 2020.\n",
      "\n",
      "===== Ano 2021 =====\n",
      "⚠️ Coluna 'Economy (GDP per Capita)' não existe em 2021.\n"
     ]
    }
   ],
   "source": [
    "import numpy as np\n",
    "\n",
    "# === ANO 2020 ===\n",
    "print(\"\\n===== Ano 2020 =====\")\n",
    "exp_logged_2020 = np.exp(ano_2020[\"Logged GDP per capita\"])\n",
    "\n",
    "if \"Economy (GDP per Capita)\" in ano_2020.columns:\n",
    "    diff_2020 = np.abs(exp_logged_2020 - ano_2020[\"Economy (GDP per Capita)\"])\n",
    "    print(\"Diferença média:\", diff_2020.mean())\n",
    "    print(\"Diferença máxima:\", diff_2020.max())\n",
    "    print(\"Correlação:\", np.corrcoef(exp_logged_2020, ano_2020[\"Economy (GDP per Capita)\"])[0, 1])\n",
    "    print(\"\\nComparação (5 primeiras linhas):\")\n",
    "    for l, r in zip(exp_logged_2020.head(), ano_2020[\"Economy (GDP per Capita)\"].head()):\n",
    "        print(f\"exp(logged) = {l:.4f} | original = {r:.4f}\")\n",
    "else:\n",
    "    print(\"⚠️ Coluna 'Economy (GDP per Capita)' não existe em 2020.\")\n",
    "\n",
    "\n",
    "# === ANO 2021 ===\n",
    "print(\"\\n===== Ano 2021 =====\")\n",
    "exp_logged_2021 = np.exp(ano_2021[\"Logged GDP per capita\"])\n",
    "\n",
    "if \"Economy (GDP per Capita)\" in ano_2021.columns:\n",
    "    diff_2021 = np.abs(exp_logged_2021 - ano_2021[\"Economy (GDP per Capita)\"])\n",
    "    print(\"Diferença média:\", diff_2021.mean())\n",
    "    print(\"Diferença máxima:\", diff_2021.max())\n",
    "    print(\"Correlação:\", np.corrcoef(exp_logged_2021, ano_2021[\"Economy (GDP per Capita)\"])[0, 1])\n",
    "    print(\"\\nComparação (5 primeiras linhas):\")\n",
    "    for l, r in zip(exp_logged_2021.head(), ano_2021[\"Economy (GDP per Capita)\"].head()):\n",
    "        print(f\"exp(logged) = {l:.4f} | original = {r:.4f}\")\n",
    "else:\n",
    "    print(\"⚠️ Coluna 'Economy (GDP per Capita)' não existe em 2021.\")\n"
   ]
  },
  {
   "cell_type": "code",
   "execution_count": 76,
   "id": "4a955d12",
   "metadata": {},
   "outputs": [
    {
     "name": "stdout",
     "output_type": "stream",
     "text": [
      "Index(['Country', 'Region', 'Ladder score', 'Standard error of ladder score',\n",
      "       'upperwhisker', 'lowerwhisker', 'Logged GDP per capita',\n",
      "       'Social support', 'Healthy life expectancy',\n",
      "       'Freedom to make life choices', 'Generosity',\n",
      "       'Perceptions of corruption', 'Ladder score in Dystopia',\n",
      "       'Explained by: Log GDP per capita', 'Explained by: Social support',\n",
      "       'Explained by: Healthy life expectancy',\n",
      "       'Explained by: Freedom to make life choices',\n",
      "       'Explained by: Generosity', 'Explained by: Perceptions of corruption',\n",
      "       'Dystopia + residual', 'Logged_pred'],\n",
      "      dtype='object')\n",
      "Index(['Country', 'Region', 'Ladder score', 'Standard error of ladder score',\n",
      "       'upperwhisker', 'lowerwhisker', 'Logged GDP per capita',\n",
      "       'Social support', 'Healthy life expectancy',\n",
      "       'Freedom to make life choices', 'Generosity',\n",
      "       'Perceptions of corruption', 'Ladder score in Dystopia',\n",
      "       'Explained by: Log GDP per capita', 'Explained by: Social support',\n",
      "       'Explained by: Healthy life expectancy',\n",
      "       'Explained by: Freedom to make life choices',\n",
      "       'Explained by: Generosity', 'Explained by: Perceptions of corruption',\n",
      "       'Dystopia + residual'],\n",
      "      dtype='object')\n"
     ]
    }
   ],
   "source": [
    "print(ano_2020.columns)\n",
    "print(ano_2021.columns)\n"
   ]
  },
  {
   "cell_type": "code",
   "execution_count": 88,
   "id": "d9e33c2b",
   "metadata": {},
   "outputs": [],
   "source": [
    "# Substituir vírgula por ponto e remover espaços\n",
    "ano_2022[\"Explained by: GDP per capita\"] = (\n",
    "    ano_2022[\"Explained by: GDP per capita\"]\n",
    "    .str.replace(\",\", \".\")\n",
    "    .str.strip()\n",
    "    .astype(float)\n",
    ")"
   ]
  },
  {
   "cell_type": "code",
   "execution_count": 89,
   "id": "c5833399",
   "metadata": {},
   "outputs": [
    {
     "name": "stdout",
     "output_type": "stream",
     "text": [
      "2015: min=0.00, max=1.69, mean=0.85\n",
      "2016: min=0.00, max=1.82, mean=0.95\n",
      "2017: min=0.00, max=1.87, mean=0.98\n",
      "2018: min=0.00, max=2.10, mean=0.89\n",
      "2019: min=0.00, max=1.68, mean=0.91\n",
      "2020: min=0.00, max=2.10, mean=0.42\n",
      "2021: min=0.00, max=2.10, mean=0.38\n",
      "2022: min=0.00, max=2.10, mean=1.10\n"
     ]
    }
   ],
   "source": [
    "import numpy as np\n",
    "import pandas as pd\n",
    "\n",
    "# --- 1. Converter log → linear para 2020 e 2021 ---\n",
    "for df in [ano_2020, ano_2021]:\n",
    "    df[\"Economy (GDP per Capita)\"] = np.exp(df[\"Logged GDP per capita\"])\n",
    "\n",
    "# --- 2. Criar mapa Explained → Logged usando 2020+2021 ---\n",
    "df_map = pd.concat([\n",
    "    ano_2020[[\"Logged GDP per capita\", \"Explained by: Log GDP per capita\"]],\n",
    "    ano_2021[[\"Logged GDP per capita\", \"Explained by: Log GDP per capita\"]]\n",
    "])\n",
    "\n",
    "# Garantir tipo float\n",
    "gdp_map_keys = np.array(df_map[\"Explained by: Log GDP per capita\"], dtype=float)\n",
    "gdp_map_values = np.array(df_map[\"Logged GDP per capita\"], dtype=float)\n",
    "\n",
    "# Função para buscar o valor mais próximo, segura para NaN\n",
    "def nearest_logged_safe(val, keys, values):\n",
    "    if pd.isna(val):\n",
    "        return np.nan\n",
    "    idx = (np.abs(keys - val)).argmin()\n",
    "    return values[idx]\n",
    "\n",
    "# --- 3. Aplicar 2022 de forma segura ---\n",
    "# Se houver dados em 'Explained by: GDP per capita', usamos eles; senão usamos 'Logged GDP per Capita'\n",
    "if ano_2022[\"Explained by: GDP per capita\"].notna().sum() > 0:\n",
    "    # Garantir numérico\n",
    "    ano_2022[\"Explained by: GDP per capita\"] = pd.to_numeric(\n",
    "        ano_2022[\"Explained by: GDP per capita\"], errors='coerce'\n",
    "    )\n",
    "    ano_2022[\"Logged GDP per Capita\"] = ano_2022[\"Explained by: GDP per capita\"].apply(\n",
    "        lambda x: nearest_logged_safe(x, gdp_map_keys, gdp_map_values)\n",
    "    )\n",
    "else:\n",
    "    # Fallback: usar Logged GDP per Capita já presente\n",
    "    ano_2022[\"Logged GDP per Capita\"] = ano_2022[\"Logged GDP per Capita\"]\n",
    "\n",
    "# Calcular Economy (GDP per Capita) de forma segura\n",
    "ano_2022[\"Economy (GDP per Capita)\"] = np.exp(ano_2022[\"Logged GDP per Capita\"])\n",
    "\n",
    "# --- 4. Padronizar nomes das colunas nos outros anos ---\n",
    "ano_2015.rename(columns={\"Economy (GDP per Capita)\": \"Economy (GDP per Capita)\"}, inplace=True)\n",
    "ano_2016.rename(columns={\"Economy (GDP per Capita)\": \"Economy (GDP per Capita)\"}, inplace=True)\n",
    "ano_2017.rename(columns={\"Economy..GDP.per.Capita.\": \"Economy (GDP per Capita)\"}, inplace=True)\n",
    "ano_2018.rename(columns={\"GDP per capita\": \"Economy (GDP per Capita)\"}, inplace=True)\n",
    "ano_2019.rename(columns={\"GDP per capita\": \"Economy (GDP per Capita)\"}, inplace=True)\n",
    "\n",
    "# --- 5. Normalizar anos 2020-2022 para a escala de 2015-2019 ---\n",
    "min_2015_2019 = min(\n",
    "    ano_2015['Economy (GDP per Capita)'].min(),\n",
    "    ano_2016['Economy (GDP per Capita)'].min(),\n",
    "    ano_2017['Economy (GDP per Capita)'].min(),\n",
    "    ano_2018['Economy (GDP per Capita)'].min(),\n",
    "    ano_2019['Economy (GDP per Capita)'].min()\n",
    ")\n",
    "\n",
    "max_2015_2019 = max(\n",
    "    ano_2015['Economy (GDP per Capita)'].max(),\n",
    "    ano_2016['Economy (GDP per Capita)'].max(),\n",
    "    ano_2017['Economy (GDP per Capita)'].max(),\n",
    "    ano_2018['Economy (GDP per Capita)'].max(),\n",
    "    ano_2019['Economy (GDP per Capita)'].max()\n",
    ")\n",
    "\n",
    "def rescale_to_2015_2019(gdp_series, min_val, max_val):\n",
    "    series_min = gdp_series.min()\n",
    "    series_max = gdp_series.max()\n",
    "    if series_max - series_min == 0:\n",
    "        return pd.Series([min_val] * len(gdp_series), index=gdp_series.index)\n",
    "    return (gdp_series - series_min) / (series_max - series_min) * (max_val - min_val) + min_val\n",
    "\n",
    "for df in [ano_2020, ano_2021, ano_2022]:\n",
    "    df['Economy (GDP per Capita)'] = rescale_to_2015_2019(df['Economy (GDP per Capita)'], min_2015_2019, max_2015_2019)\n",
    "\n",
    "# --- 6. Verificar min/max de todos os anos ---\n",
    "for year, df in zip(\n",
    "    range(2015, 2023),\n",
    "    [ano_2015, ano_2016, ano_2017, ano_2018, ano_2019, ano_2020, ano_2021, ano_2022]\n",
    "):\n",
    "    print(f\"{year}: min={df['Economy (GDP per Capita)'].min():.2f}, max={df['Economy (GDP per Capita)'].max():.2f}, mean={df['Economy (GDP per Capita)'].mean():.2f}\")\n"
   ]
  },
  {
   "cell_type": "markdown",
   "id": "d86b0a71",
   "metadata": {},
   "source": [
    "### Tratar as colunas Explained by:"
   ]
  },
  {
   "cell_type": "code",
   "execution_count": null,
   "id": "32223fb0",
   "metadata": {},
   "outputs": [
    {
     "ename": "ValueError",
     "evalue": "The feature names should match those that were passed during fit.\nFeature names unseen at fit time:\n- Economy (GDP per Capita)\nFeature names seen at fit time, yet now missing:\n- Logged GDP per capita\n",
     "output_type": "error",
     "traceback": [
      "\u001b[31m---------------------------------------------------------------------------\u001b[39m",
      "\u001b[31mValueError\u001b[39m                                Traceback (most recent call last)",
      "\u001b[36mCell\u001b[39m\u001b[36m \u001b[39m\u001b[32mIn[20]\u001b[39m\u001b[32m, line 10\u001b[39m\n\u001b[32m      8\u001b[39m \u001b[38;5;28;01mfor\u001b[39;00m df \u001b[38;5;129;01min\u001b[39;00m [ano_2015, ano_2016, ano_2017, ano_2018, ano_2019]:\n\u001b[32m      9\u001b[39m     \u001b[38;5;28;01mif\u001b[39;00m \u001b[33m\"\u001b[39m\u001b[33mEconomy (GDP per Capita)\u001b[39m\u001b[33m\"\u001b[39m \u001b[38;5;129;01min\u001b[39;00m df.columns:\n\u001b[32m---> \u001b[39m\u001b[32m10\u001b[39m         df[\u001b[33m\"\u001b[39m\u001b[33mExplained by: GDP per capita (pred)\u001b[39m\u001b[33m\"\u001b[39m] = \u001b[43mmodel\u001b[49m\u001b[43m.\u001b[49m\u001b[43mpredict\u001b[49m\u001b[43m(\u001b[49m\u001b[43mdf\u001b[49m\u001b[43m[\u001b[49m\u001b[43m[\u001b[49m\u001b[33;43m\"\u001b[39;49m\u001b[33;43mEconomy (GDP per Capita)\u001b[39;49m\u001b[33;43m\"\u001b[39;49m\u001b[43m]\u001b[49m\u001b[43m]\u001b[49m\u001b[43m)\u001b[49m\n",
      "\u001b[36mFile \u001b[39m\u001b[32mc:\\Users\\HP\\anaconda3\\envs\\clean_env\\Lib\\site-packages\\sklearn\\linear_model\\_base.py:298\u001b[39m, in \u001b[36mLinearModel.predict\u001b[39m\u001b[34m(self, X)\u001b[39m\n\u001b[32m    284\u001b[39m \u001b[38;5;28;01mdef\u001b[39;00m\u001b[38;5;250m \u001b[39m\u001b[34mpredict\u001b[39m(\u001b[38;5;28mself\u001b[39m, X):\n\u001b[32m    285\u001b[39m \u001b[38;5;250m    \u001b[39m\u001b[33;03m\"\"\"\u001b[39;00m\n\u001b[32m    286\u001b[39m \u001b[33;03m    Predict using the linear model.\u001b[39;00m\n\u001b[32m    287\u001b[39m \n\u001b[32m   (...)\u001b[39m\u001b[32m    296\u001b[39m \u001b[33;03m        Returns predicted values.\u001b[39;00m\n\u001b[32m    297\u001b[39m \u001b[33;03m    \"\"\"\u001b[39;00m\n\u001b[32m--> \u001b[39m\u001b[32m298\u001b[39m     \u001b[38;5;28;01mreturn\u001b[39;00m \u001b[38;5;28;43mself\u001b[39;49m\u001b[43m.\u001b[49m\u001b[43m_decision_function\u001b[49m\u001b[43m(\u001b[49m\u001b[43mX\u001b[49m\u001b[43m)\u001b[49m\n",
      "\u001b[36mFile \u001b[39m\u001b[32mc:\\Users\\HP\\anaconda3\\envs\\clean_env\\Lib\\site-packages\\sklearn\\linear_model\\_base.py:277\u001b[39m, in \u001b[36mLinearModel._decision_function\u001b[39m\u001b[34m(self, X)\u001b[39m\n\u001b[32m    274\u001b[39m \u001b[38;5;28;01mdef\u001b[39;00m\u001b[38;5;250m \u001b[39m\u001b[34m_decision_function\u001b[39m(\u001b[38;5;28mself\u001b[39m, X):\n\u001b[32m    275\u001b[39m     check_is_fitted(\u001b[38;5;28mself\u001b[39m)\n\u001b[32m--> \u001b[39m\u001b[32m277\u001b[39m     X = \u001b[43mvalidate_data\u001b[49m\u001b[43m(\u001b[49m\u001b[38;5;28;43mself\u001b[39;49m\u001b[43m,\u001b[49m\u001b[43m \u001b[49m\u001b[43mX\u001b[49m\u001b[43m,\u001b[49m\u001b[43m \u001b[49m\u001b[43maccept_sparse\u001b[49m\u001b[43m=\u001b[49m\u001b[43m[\u001b[49m\u001b[33;43m\"\u001b[39;49m\u001b[33;43mcsr\u001b[39;49m\u001b[33;43m\"\u001b[39;49m\u001b[43m,\u001b[49m\u001b[43m \u001b[49m\u001b[33;43m\"\u001b[39;49m\u001b[33;43mcsc\u001b[39;49m\u001b[33;43m\"\u001b[39;49m\u001b[43m,\u001b[49m\u001b[43m \u001b[49m\u001b[33;43m\"\u001b[39;49m\u001b[33;43mcoo\u001b[39;49m\u001b[33;43m\"\u001b[39;49m\u001b[43m]\u001b[49m\u001b[43m,\u001b[49m\u001b[43m \u001b[49m\u001b[43mreset\u001b[49m\u001b[43m=\u001b[49m\u001b[38;5;28;43;01mFalse\u001b[39;49;00m\u001b[43m)\u001b[49m\n\u001b[32m    278\u001b[39m     coef_ = \u001b[38;5;28mself\u001b[39m.coef_\n\u001b[32m    279\u001b[39m     \u001b[38;5;28;01mif\u001b[39;00m coef_.ndim == \u001b[32m1\u001b[39m:\n",
      "\u001b[36mFile \u001b[39m\u001b[32mc:\\Users\\HP\\anaconda3\\envs\\clean_env\\Lib\\site-packages\\sklearn\\utils\\validation.py:2929\u001b[39m, in \u001b[36mvalidate_data\u001b[39m\u001b[34m(_estimator, X, y, reset, validate_separately, skip_check_array, **check_params)\u001b[39m\n\u001b[32m   2845\u001b[39m \u001b[38;5;28;01mdef\u001b[39;00m\u001b[38;5;250m \u001b[39m\u001b[34mvalidate_data\u001b[39m(\n\u001b[32m   2846\u001b[39m     _estimator,\n\u001b[32m   2847\u001b[39m     /,\n\u001b[32m   (...)\u001b[39m\u001b[32m   2853\u001b[39m     **check_params,\n\u001b[32m   2854\u001b[39m ):\n\u001b[32m   2855\u001b[39m \u001b[38;5;250m    \u001b[39m\u001b[33;03m\"\"\"Validate input data and set or check feature names and counts of the input.\u001b[39;00m\n\u001b[32m   2856\u001b[39m \n\u001b[32m   2857\u001b[39m \u001b[33;03m    This helper function should be used in an estimator that requires input\u001b[39;00m\n\u001b[32m   (...)\u001b[39m\u001b[32m   2927\u001b[39m \u001b[33;03m        validated.\u001b[39;00m\n\u001b[32m   2928\u001b[39m \u001b[33;03m    \"\"\"\u001b[39;00m\n\u001b[32m-> \u001b[39m\u001b[32m2929\u001b[39m     \u001b[43m_check_feature_names\u001b[49m\u001b[43m(\u001b[49m\u001b[43m_estimator\u001b[49m\u001b[43m,\u001b[49m\u001b[43m \u001b[49m\u001b[43mX\u001b[49m\u001b[43m,\u001b[49m\u001b[43m \u001b[49m\u001b[43mreset\u001b[49m\u001b[43m=\u001b[49m\u001b[43mreset\u001b[49m\u001b[43m)\u001b[49m\n\u001b[32m   2930\u001b[39m     tags = get_tags(_estimator)\n\u001b[32m   2931\u001b[39m     \u001b[38;5;28;01mif\u001b[39;00m y \u001b[38;5;129;01mis\u001b[39;00m \u001b[38;5;28;01mNone\u001b[39;00m \u001b[38;5;129;01mand\u001b[39;00m tags.target_tags.required:\n",
      "\u001b[36mFile \u001b[39m\u001b[32mc:\\Users\\HP\\anaconda3\\envs\\clean_env\\Lib\\site-packages\\sklearn\\utils\\validation.py:2787\u001b[39m, in \u001b[36m_check_feature_names\u001b[39m\u001b[34m(estimator, X, reset)\u001b[39m\n\u001b[32m   2784\u001b[39m \u001b[38;5;28;01mif\u001b[39;00m \u001b[38;5;129;01mnot\u001b[39;00m missing_names \u001b[38;5;129;01mand\u001b[39;00m \u001b[38;5;129;01mnot\u001b[39;00m unexpected_names:\n\u001b[32m   2785\u001b[39m     message += \u001b[33m\"\u001b[39m\u001b[33mFeature names must be in the same order as they were in fit.\u001b[39m\u001b[38;5;130;01m\\n\u001b[39;00m\u001b[33m\"\u001b[39m\n\u001b[32m-> \u001b[39m\u001b[32m2787\u001b[39m \u001b[38;5;28;01mraise\u001b[39;00m \u001b[38;5;167;01mValueError\u001b[39;00m(message)\n",
      "\u001b[31mValueError\u001b[39m: The feature names should match those that were passed during fit.\nFeature names unseen at fit time:\n- Economy (GDP per Capita)\nFeature names seen at fit time, yet now missing:\n- Logged GDP per capita\n"
     ]
    }
   ],
   "source": [
    "'''from sklearn.linear_model import LinearRegression\n",
    "\n",
    "X = ano_2020[[\"Logged GDP per capita\"]]\n",
    "y = ano_2020[\"Explained by: Log GDP per capita\"]\n",
    "model = LinearRegression().fit(X, y)\n",
    "\n",
    "\n",
    "for df in [ano_2015, ano_2016, ano_2017, ano_2018, ano_2019]:\n",
    "    if \"Economy (GDP per Capita)\" in df.columns:\n",
    "        df[\"Explained by: GDP per capita (pred)\"] = model.predict(df[[\"Economy (GDP per Capita)\"]])\n",
    "'''"
   ]
  },
  {
   "cell_type": "markdown",
   "id": "90f45b34",
   "metadata": {},
   "source": [
    "#### Mudar nome de colunas"
   ]
  },
  {
   "cell_type": "code",
   "execution_count": null,
   "id": "f591d0b3",
   "metadata": {},
   "outputs": [],
   "source": [
    "#mudar o nome da coluna country\n",
    "#mudar o nome da coluna happines score\n",
    "#mudar o nome da coluna social support\n",
    "#mudar o nome da coluna healthy life expectancy\n",
    "#mudar o nome da coluna freedom\n",
    "#mudar o nome da coluna corruption\n",
    "#mudar o nome da coluna generosity\n",
    "#mudar o nome da coluna happines rank\n",
    "'''\n",
    "def padronizar_colunas(df):\n",
    "    # Happiness Rank\n",
    "    '''for col in [\"Happiness Rank\", \"Overall rank\", \"RANK\", \"Happiness.Rank\"]:\n",
    "        if col in df.columns:\n",
    "            df.rename(columns={col: \"Happiness_Rank\"}, inplace=True)\n",
    "            break'''\n",
    "\n",
    "    # Happiness Score\n",
    "    for col in [\"Happiness Score\", \"Score\", \"Ladder score\", \"Happiness score\", \"Happiness.Score\", \"Ladder score\"]:\n",
    "        if col in df.columns:\n",
    "            df.rename(columns={col: \"Happiness_Score\"}, inplace=True)\n",
    "            break\n",
    "\n",
    "    # GDP per capita\n",
    "    for col in [\"Economy (GDP per Capita)\", \"Economy..GDP.per.Capita.\", \"GDP per capita\",\n",
    "                \"Logged GDP per capita\", \"Explained by: GDP per capita\", \"Explained by: Log GDP per capita\"]:\n",
    "        if col in df.columns:\n",
    "            df.rename(columns={col: \"GDP_per_Capita\"}, inplace=True)\n",
    "            break\n",
    "\n",
    "    # Social support\n",
    "    for col in [\"Family\", \"Social support\", \"Explained by: Social support\"]:\n",
    "        if col in df.columns:\n",
    "            df.rename(columns={col: \"Social_Support\"}, inplace=True)\n",
    "            break\n",
    "\n",
    "    # Healthy life expectancy\n",
    "    for col in [\"Health (Life Expectancy)\", \"Health..Life.Expectancy.\", \"Healthy life expectancy\",\n",
    "                \"Explained by: Healthy life expectancy\"]:\n",
    "        if col in df.columns:\n",
    "            df.rename(columns={col: \"Healthy_Life_Expectancy\"}, inplace=True)\n",
    "            break\n",
    "\n",
    "    # Freedom\n",
    "    for col in [\"Freedom\", \"Freedom to make life choices\", \"Explained by: Freedom to make life choices\"]:\n",
    "        if col in df.columns:\n",
    "            df.rename(columns={col: \"Freedom\"}, inplace=True)\n",
    "            break\n",
    "\n",
    "    # Corruption\n",
    "    for col in [\"Trust (Government Corruption)\", \"Trust..Government.Corruption.\",\n",
    "                \"Perceptions of corruption\", \"Explained by: Perceptions of corruption\"]:\n",
    "        if col in df.columns:\n",
    "            df.rename(columns={col: \"Corruption\"}, inplace=True)\n",
    "            break\n",
    "\n",
    "    # Generosity\n",
    "    for col in [\"Generosity\", \"Explained by: Generosity\"]:\n",
    "        if col in df.columns:\n",
    "            df.rename(columns={col: \"Generosity\"}, inplace=True)\n",
    "            break\n",
    "\n",
    "    # Dystopia Residual\n",
    "    for col in [\"Dystopia Residual\", \"Dystopia + residual\", \"Dystopia (1.83) + residual\", \"Dystopia.Residual\"]:\n",
    "        if col in df.columns:\n",
    "            df.rename(columns={col: \"Dystopia_Residual\"}, inplace=True)\n",
    "            break\n",
    "\n",
    "    return df\n",
    "\n",
    "'''"
   ]
  },
  {
   "cell_type": "code",
   "execution_count": null,
   "id": "82ea786f",
   "metadata": {},
   "outputs": [
    {
     "name": "stdout",
     "output_type": "stream",
     "text": [
      "Colunas diferentes entre 2015 e 2016:\n",
      "{'Standard Error', 'Lower Confidence Interval', 'Upper Confidence Interval'}\n"
     ]
    }
   ],
   "source": [
    "'''colunas_2015 = set(ano_2015.columns)\n",
    "colunas_2016 = set(ano_2016.columns)\n",
    "\n",
    "diferentes = colunas_2015.symmetric_difference(colunas_2016)\n",
    "\n",
    "print(\"Colunas diferentes entre 2015 e 2016:\")\n",
    "print(diferentes)\n",
    "'''"
   ]
  },
  {
   "cell_type": "code",
   "execution_count": null,
   "id": "a5e07554",
   "metadata": {},
   "outputs": [
    {
     "name": "stdout",
     "output_type": "stream",
     "text": [
      "Colunas diferentes entre 2016 e 2017:\n",
      "{'Whisker.low', 'Upper Confidence Interval', 'Region', 'Whisker.high', 'Lower Confidence Interval'}\n"
     ]
    }
   ],
   "source": [
    "'''colunas_2016 = set(ano_2016.columns)\n",
    "colunas_2017 = set(ano_2017.columns)\n",
    "\n",
    "diferentes = colunas_2016.symmetric_difference(colunas_2017)\n",
    "\n",
    "print(\"Colunas diferentes entre 2016 e 2017:\")\n",
    "print(diferentes)'''"
   ]
  },
  {
   "cell_type": "code",
   "execution_count": null,
   "id": "8751a402",
   "metadata": {},
   "outputs": [
    {
     "name": "stdout",
     "output_type": "stream",
     "text": [
      "Colunas diferentes entre 2016 e 2017:\n",
      "{'Happiness Rank', 'Social support', 'Score', 'Region', 'Perceptions of corruption', 'Happiness Score', 'Country', 'Economy (GDP per Capita)', 'GDP per capita', 'Upper Confidence Interval', 'Trust (Government Corruption)', 'Health (Life Expectancy)', 'Family', 'Healthy life expectancy', 'Freedom to make life choices', 'Freedom', 'Overall rank', 'Country or region', 'Lower Confidence Interval', 'Dystopia Residual'}\n"
     ]
    }
   ],
   "source": [
    "'''colunas_2016 = set(ano_2016.columns)\n",
    "colunas_2018 = set(ano_2018.columns)\n",
    "\n",
    "diferentes = colunas_2016.symmetric_difference(colunas_2018)\n",
    "\n",
    "print(\"Colunas diferentes entre 2016 e 2017:\")\n",
    "print(diferentes)'''"
   ]
  },
  {
   "cell_type": "markdown",
   "id": "cfcb8db1",
   "metadata": {},
   "source": [
    "### Juntar os anos todos já com as colunas arranjadas e assim"
   ]
  },
  {
   "cell_type": "markdown",
   "id": "46c338c2",
   "metadata": {},
   "source": [
    "### Valores em falta"
   ]
  },
  {
   "cell_type": "markdown",
   "id": "3d9e49dd",
   "metadata": {},
   "source": [
    "### Dados duplicados"
   ]
  },
  {
   "cell_type": "markdown",
   "id": "62c355e9",
   "metadata": {},
   "source": [
    "### Verificar tipo de dados"
   ]
  },
  {
   "cell_type": "markdown",
   "id": "fc1dcddd",
   "metadata": {},
   "source": [
    "### Normalização"
   ]
  },
  {
   "cell_type": "markdown",
   "id": "dc13b31f",
   "metadata": {},
   "source": [
    "### Outliers"
   ]
  },
  {
   "cell_type": "markdown",
   "id": "13f401ce",
   "metadata": {},
   "source": [
    "### Verificar consistência ao longo dos anos"
   ]
  },
  {
   "cell_type": "markdown",
   "id": "89985331",
   "metadata": {},
   "source": [
    "### Resumo estatístico anual"
   ]
  },
  {
   "cell_type": "markdown",
   "id": "ba1a8f5f",
   "metadata": {},
   "source": [
    "### Histogramas e distribuições"
   ]
  },
  {
   "cell_type": "markdown",
   "id": "9556380e",
   "metadata": {},
   "source": [
    "### Balanceamento"
   ]
  },
  {
   "cell_type": "markdown",
   "id": "92c82cec",
   "metadata": {},
   "source": [
    "### Matriz de correlação"
   ]
  },
  {
   "cell_type": "markdown",
   "id": "0e143284",
   "metadata": {},
   "source": [
    "-------------------------------------------------------------------------------"
   ]
  },
  {
   "cell_type": "markdown",
   "id": "158801c8",
   "metadata": {},
   "source": [
    "### **Pergunta geral**: \n",
    "Como evoluíram os fatores que influenciam a felicidade global entre 2015 e 2022, e que padrões regionais ou estruturais explicam essas mudanças?"
   ]
  },
  {
   "cell_type": "markdown",
   "id": "2799a7f4",
   "metadata": {},
   "source": [
    "### Primeira visualização\n",
    "A felicidade mundial está a convergir ou a divergir ao longo do tempo?"
   ]
  },
  {
   "cell_type": "markdown",
   "id": "e0e8faf3",
   "metadata": {},
   "source": [
    "### Segunda visualização\n",
    "A pandemia de 2020 alterou os fatores que mais pesam na felicidade?"
   ]
  },
  {
   "cell_type": "markdown",
   "id": "fcb67a34",
   "metadata": {},
   "source": [
    "### Terceira visualização\n",
    "A economia continua a ser o fator mais determinante da felicidade com o passar dos anos?"
   ]
  },
  {
   "cell_type": "markdown",
   "id": "4d9bbf3b",
   "metadata": {},
   "source": [
    "### Quarta visualização\n",
    "Os países mais generosos tornaram-se mais ou menos felizes ao longo do tempo?"
   ]
  },
  {
   "cell_type": "markdown",
   "id": "b6051bf2",
   "metadata": {},
   "source": [
    "### Quinta visualização\n",
    "Quais países mudaram mais o seu ranking de felicidade — e porquê?"
   ]
  }
 ],
 "metadata": {
  "kernelspec": {
   "display_name": "clean_env",
   "language": "python",
   "name": "python3"
  },
  "language_info": {
   "codemirror_mode": {
    "name": "ipython",
    "version": 3
   },
   "file_extension": ".py",
   "mimetype": "text/x-python",
   "name": "python",
   "nbconvert_exporter": "python",
   "pygments_lexer": "ipython3",
   "version": "3.11.14"
  }
 },
 "nbformat": 4,
 "nbformat_minor": 5
}
