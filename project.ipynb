{
 "cells": [
  {
   "cell_type": "code",
   "execution_count": 2,
   "id": "4d6a11b0",
   "metadata": {},
   "outputs": [],
   "source": [
    "import pandas as pd"
   ]
  },
  {
   "cell_type": "markdown",
   "id": "6c5674b8",
   "metadata": {},
   "source": [
    "# Pré-processamento"
   ]
  },
  {
   "cell_type": "markdown",
   "id": "a5728248",
   "metadata": {},
   "source": [
    "### Ver informações para cada ano diferente"
   ]
  },
  {
   "cell_type": "markdown",
   "id": "03fb6c26",
   "metadata": {},
   "source": [
    "## 2015"
   ]
  },
  {
   "cell_type": "code",
   "execution_count": 3,
   "id": "500117dc",
   "metadata": {},
   "outputs": [
    {
     "name": "stdout",
     "output_type": "stream",
     "text": [
      "<class 'pandas.core.frame.DataFrame'>\n",
      "RangeIndex: 158 entries, 0 to 157\n",
      "Data columns (total 12 columns):\n",
      " #   Column                         Non-Null Count  Dtype  \n",
      "---  ------                         --------------  -----  \n",
      " 0   Country                        158 non-null    object \n",
      " 1   Region                         158 non-null    object \n",
      " 2   Happiness Rank                 158 non-null    int64  \n",
      " 3   Happiness Score                158 non-null    float64\n",
      " 4   Standard Error                 158 non-null    float64\n",
      " 5   Economy (GDP per Capita)       158 non-null    float64\n",
      " 6   Family                         158 non-null    float64\n",
      " 7   Health (Life Expectancy)       158 non-null    float64\n",
      " 8   Freedom                        158 non-null    float64\n",
      " 9   Trust (Government Corruption)  158 non-null    float64\n",
      " 10  Generosity                     158 non-null    float64\n",
      " 11  Dystopia Residual              158 non-null    float64\n",
      "dtypes: float64(9), int64(1), object(2)\n",
      "memory usage: 14.9+ KB\n",
      "None\n"
     ]
    }
   ],
   "source": [
    "ano_2015=pd.read_csv(\"2015.csv\")\n",
    "print(ano_2015.info())\n"
   ]
  },
  {
   "cell_type": "markdown",
   "id": "85ec3383",
   "metadata": {},
   "source": [
    "## 2016"
   ]
  },
  {
   "cell_type": "code",
   "execution_count": null,
   "id": "0db48e36",
   "metadata": {},
   "outputs": [
    {
     "name": "stdout",
     "output_type": "stream",
     "text": [
      "<class 'pandas.core.frame.DataFrame'>\n",
      "RangeIndex: 157 entries, 0 to 156\n",
      "Data columns (total 13 columns):\n",
      " #   Column                         Non-Null Count  Dtype  \n",
      "---  ------                         --------------  -----  \n",
      " 0   Country                        157 non-null    object \n",
      " 1   Region                         157 non-null    object \n",
      " 2   Happiness Rank                 157 non-null    int64  \n",
      " 3   Happiness Score                157 non-null    float64\n",
      " 4   Lower Confidence Interval      157 non-null    float64\n",
      " 5   Upper Confidence Interval      157 non-null    float64\n",
      " 6   Economy (GDP per Capita)       157 non-null    float64\n",
      " 7   Family                         157 non-null    float64\n",
      " 8   Health (Life Expectancy)       157 non-null    float64\n",
      " 9   Freedom                        157 non-null    float64\n",
      " 10  Trust (Government Corruption)  157 non-null    float64\n",
      " 11  Generosity                     157 non-null    float64\n",
      " 12  Dystopia Residual              157 non-null    float64\n",
      "dtypes: float64(10), int64(1), object(2)\n",
      "memory usage: 16.1+ KB\n",
      "None\n"
     ]
    }
   ],
   "source": [
    "ano_2016=pd.read_csv(\"2016.csv\")\n",
    "print(ano_2016.info())"
   ]
  },
  {
   "cell_type": "markdown",
   "id": "22d318b4",
   "metadata": {},
   "source": [
    "## 2017"
   ]
  },
  {
   "cell_type": "code",
   "execution_count": null,
   "id": "943f75be",
   "metadata": {},
   "outputs": [
    {
     "name": "stdout",
     "output_type": "stream",
     "text": [
      "<class 'pandas.core.frame.DataFrame'>\n",
      "RangeIndex: 155 entries, 0 to 154\n",
      "Data columns (total 12 columns):\n",
      " #   Column                         Non-Null Count  Dtype  \n",
      "---  ------                         --------------  -----  \n",
      " 0   Country                        155 non-null    object \n",
      " 1   Happiness.Rank                 155 non-null    int64  \n",
      " 2   Happiness.Score                155 non-null    float64\n",
      " 3   Whisker.high                   155 non-null    float64\n",
      " 4   Whisker.low                    155 non-null    float64\n",
      " 5   Economy..GDP.per.Capita.       155 non-null    float64\n",
      " 6   Family                         155 non-null    float64\n",
      " 7   Health..Life.Expectancy.       155 non-null    float64\n",
      " 8   Freedom                        155 non-null    float64\n",
      " 9   Generosity                     155 non-null    float64\n",
      " 10  Trust..Government.Corruption.  155 non-null    float64\n",
      " 11  Dystopia.Residual              155 non-null    float64\n",
      "dtypes: float64(10), int64(1), object(1)\n",
      "memory usage: 14.7+ KB\n",
      "None\n"
     ]
    }
   ],
   "source": [
    "ano_2017=pd.read_csv(\"2017.csv\")\n",
    "print(ano_2017.info())"
   ]
  },
  {
   "cell_type": "markdown",
   "id": "75c2ff9f",
   "metadata": {},
   "source": [
    "## 2018"
   ]
  },
  {
   "cell_type": "code",
   "execution_count": null,
   "id": "f8150778",
   "metadata": {},
   "outputs": [
    {
     "name": "stdout",
     "output_type": "stream",
     "text": [
      "<class 'pandas.core.frame.DataFrame'>\n",
      "RangeIndex: 156 entries, 0 to 155\n",
      "Data columns (total 9 columns):\n",
      " #   Column                        Non-Null Count  Dtype  \n",
      "---  ------                        --------------  -----  \n",
      " 0   Overall rank                  156 non-null    int64  \n",
      " 1   Country or region             156 non-null    object \n",
      " 2   Score                         156 non-null    float64\n",
      " 3   GDP per capita                156 non-null    float64\n",
      " 4   Social support                156 non-null    float64\n",
      " 5   Healthy life expectancy       156 non-null    float64\n",
      " 6   Freedom to make life choices  156 non-null    float64\n",
      " 7   Generosity                    156 non-null    float64\n",
      " 8   Perceptions of corruption     155 non-null    float64\n",
      "dtypes: float64(7), int64(1), object(1)\n",
      "memory usage: 11.1+ KB\n",
      "None\n"
     ]
    }
   ],
   "source": [
    "ano_2018=pd.read_csv(\"2018.csv\")\n",
    "print(ano_2018.info())"
   ]
  },
  {
   "cell_type": "markdown",
   "id": "74748622",
   "metadata": {},
   "source": [
    "## 2019"
   ]
  },
  {
   "cell_type": "code",
   "execution_count": null,
   "id": "0a0e5d20",
   "metadata": {},
   "outputs": [
    {
     "name": "stdout",
     "output_type": "stream",
     "text": [
      "<class 'pandas.core.frame.DataFrame'>\n",
      "RangeIndex: 156 entries, 0 to 155\n",
      "Data columns (total 9 columns):\n",
      " #   Column                        Non-Null Count  Dtype  \n",
      "---  ------                        --------------  -----  \n",
      " 0   Overall rank                  156 non-null    int64  \n",
      " 1   Country or region             156 non-null    object \n",
      " 2   Score                         156 non-null    float64\n",
      " 3   GDP per capita                156 non-null    float64\n",
      " 4   Social support                156 non-null    float64\n",
      " 5   Healthy life expectancy       156 non-null    float64\n",
      " 6   Freedom to make life choices  156 non-null    float64\n",
      " 7   Generosity                    156 non-null    float64\n",
      " 8   Perceptions of corruption     156 non-null    float64\n",
      "dtypes: float64(7), int64(1), object(1)\n",
      "memory usage: 11.1+ KB\n",
      "None\n"
     ]
    }
   ],
   "source": [
    "ano_2019=pd.read_csv(\"2019.csv\")\n",
    "print(ano_2019.info())"
   ]
  },
  {
   "cell_type": "markdown",
   "id": "e88bbd85",
   "metadata": {},
   "source": [
    "## 2020"
   ]
  },
  {
   "cell_type": "code",
   "execution_count": null,
   "id": "1f0ae1dc",
   "metadata": {},
   "outputs": [
    {
     "name": "stdout",
     "output_type": "stream",
     "text": [
      "<class 'pandas.core.frame.DataFrame'>\n",
      "RangeIndex: 153 entries, 0 to 152\n",
      "Data columns (total 20 columns):\n",
      " #   Column                                      Non-Null Count  Dtype  \n",
      "---  ------                                      --------------  -----  \n",
      " 0   Country name                                153 non-null    object \n",
      " 1   Regional indicator                          153 non-null    object \n",
      " 2   Ladder score                                153 non-null    float64\n",
      " 3   Standard error of ladder score              153 non-null    float64\n",
      " 4   upperwhisker                                153 non-null    float64\n",
      " 5   lowerwhisker                                153 non-null    float64\n",
      " 6   Logged GDP per capita                       153 non-null    float64\n",
      " 7   Social support                              153 non-null    float64\n",
      " 8   Healthy life expectancy                     153 non-null    float64\n",
      " 9   Freedom to make life choices                153 non-null    float64\n",
      " 10  Generosity                                  153 non-null    float64\n",
      " 11  Perceptions of corruption                   153 non-null    float64\n",
      " 12  Ladder score in Dystopia                    153 non-null    float64\n",
      " 13  Explained by: Log GDP per capita            153 non-null    float64\n",
      " 14  Explained by: Social support                153 non-null    float64\n",
      " 15  Explained by: Healthy life expectancy       153 non-null    float64\n",
      " 16  Explained by: Freedom to make life choices  153 non-null    float64\n",
      " 17  Explained by: Generosity                    153 non-null    float64\n",
      " 18  Explained by: Perceptions of corruption     153 non-null    float64\n",
      " 19  Dystopia + residual                         153 non-null    float64\n",
      "dtypes: float64(18), object(2)\n",
      "memory usage: 24.0+ KB\n",
      "None\n"
     ]
    }
   ],
   "source": [
    "ano_2020=pd.read_csv(\"2020.csv\")\n",
    "print(ano_2020.info())"
   ]
  },
  {
   "cell_type": "markdown",
   "id": "52c01fed",
   "metadata": {},
   "source": [
    "## 2021"
   ]
  },
  {
   "cell_type": "code",
   "execution_count": null,
   "id": "aa9dd73e",
   "metadata": {},
   "outputs": [
    {
     "name": "stdout",
     "output_type": "stream",
     "text": [
      "<class 'pandas.core.frame.DataFrame'>\n",
      "RangeIndex: 149 entries, 0 to 148\n",
      "Data columns (total 20 columns):\n",
      " #   Column                                      Non-Null Count  Dtype  \n",
      "---  ------                                      --------------  -----  \n",
      " 0   Country name                                149 non-null    object \n",
      " 1   Regional indicator                          149 non-null    object \n",
      " 2   Ladder score                                149 non-null    float64\n",
      " 3   Standard error of ladder score              149 non-null    float64\n",
      " 4   upperwhisker                                149 non-null    float64\n",
      " 5   lowerwhisker                                149 non-null    float64\n",
      " 6   Logged GDP per capita                       149 non-null    float64\n",
      " 7   Social support                              149 non-null    float64\n",
      " 8   Healthy life expectancy                     149 non-null    float64\n",
      " 9   Freedom to make life choices                149 non-null    float64\n",
      " 10  Generosity                                  149 non-null    float64\n",
      " 11  Perceptions of corruption                   149 non-null    float64\n",
      " 12  Ladder score in Dystopia                    149 non-null    float64\n",
      " 13  Explained by: Log GDP per capita            149 non-null    float64\n",
      " 14  Explained by: Social support                149 non-null    float64\n",
      " 15  Explained by: Healthy life expectancy       149 non-null    float64\n",
      " 16  Explained by: Freedom to make life choices  149 non-null    float64\n",
      " 17  Explained by: Generosity                    149 non-null    float64\n",
      " 18  Explained by: Perceptions of corruption     149 non-null    float64\n",
      " 19  Dystopia + residual                         149 non-null    float64\n",
      "dtypes: float64(18), object(2)\n",
      "memory usage: 23.4+ KB\n",
      "None\n"
     ]
    }
   ],
   "source": [
    "ano_2021=pd.read_csv(\"2021.csv\")\n",
    "print(ano_2021.info())"
   ]
  },
  {
   "cell_type": "markdown",
   "id": "2834c7af",
   "metadata": {},
   "source": [
    "## 2022"
   ]
  },
  {
   "cell_type": "code",
   "execution_count": null,
   "id": "d0ab498a",
   "metadata": {},
   "outputs": [
    {
     "name": "stdout",
     "output_type": "stream",
     "text": [
      "<class 'pandas.core.frame.DataFrame'>\n",
      "RangeIndex: 147 entries, 0 to 146\n",
      "Data columns (total 12 columns):\n",
      " #   Column                                      Non-Null Count  Dtype \n",
      "---  ------                                      --------------  ----- \n",
      " 0   RANK                                        147 non-null    int64 \n",
      " 1   Country                                     147 non-null    object\n",
      " 2   Happiness score                             146 non-null    object\n",
      " 3   Whisker-high                                146 non-null    object\n",
      " 4   Whisker-low                                 146 non-null    object\n",
      " 5   Dystopia (1.83) + residual                  146 non-null    object\n",
      " 6   Explained by: GDP per capita                146 non-null    object\n",
      " 7   Explained by: Social support                146 non-null    object\n",
      " 8   Explained by: Healthy life expectancy       146 non-null    object\n",
      " 9   Explained by: Freedom to make life choices  146 non-null    object\n",
      " 10  Explained by: Generosity                    146 non-null    object\n",
      " 11  Explained by: Perceptions of corruption     146 non-null    object\n",
      "dtypes: int64(1), object(11)\n",
      "memory usage: 13.9+ KB\n",
      "None\n"
     ]
    }
   ],
   "source": [
    "ano_2022=pd.read_csv(\"2022.csv\")\n",
    "print(ano_2022.info())"
   ]
  },
  {
   "cell_type": "markdown",
   "id": "2427b1ca",
   "metadata": {},
   "source": [
    "### parte para mudar nomes de atributos e assim para ficar com as colunas todas iguais"
   ]
  },
  {
   "cell_type": "markdown",
   "id": "5cedba7b",
   "metadata": {},
   "source": [
    "- na coluna do ano nao temos d mudar nada\n",
    "- no country- no d 2018/2019 existe country or region. no 2020/2021 é country name. nos outros é country\n",
    "- region- 2017 nao tem region. 2018/2019 tem country or region. 2020/2021 tem regional indicator.  2022 nao tem region. o resto é region\n",
    "- happines score- Happiness Score”, “Score”, “Ladder score”, “Happiness score” \n",
    "G- DP per capita- Economy..GDP.per.Capita, “Economy (GDP per Capita)”, “GDP per capita”, “Logged GDP per capita”, “Explained by: GDP per capita”\n",
    "- social support- “Family”, “Social support”, “Explained by: Social support”\n",
    "- healthy life expectancy- “Health (Life Expectancy)”, “Healthy life expectancy”, “Explained by: Healthy life expectancy”\n",
    "- freedom- “Freedom”, “Freedom to make life choices”, “Explained by: Freedom to make life choices”\n",
    "- corruption- “Trust (Government Corruption)”, “Perceptions of corruption”, “Explained by: Perceptions of corruption”\n",
    "- gerenosity- “Generosity”, “Explained by: Generosity”\n",
    "dystopia residual- “Dystopia Residual”, “Dystopia + residual”, “Dystopia (1.83) + residual”\n",
    "- happiness rank- “Happiness Rank”, “Overall rank”, “RANK”"
   ]
  },
  {
   "cell_type": "markdown",
   "id": "6ca716eb",
   "metadata": {},
   "source": [
    "ha alguns anos que têm country e region tudo junto. oq fazemos aí vai ser com base nos outros anos que têm as colunas separadas qual é qual.\n",
    "o chat dps disse isto: Depois, podes preencher regiões ausentes com base num dicionário país → região extraído de 2015/2016 ou 2020/2021.Dica: usar country-region mapping de anos com essa informação é totalmente válido e recomendado — as regiões raramente mudam\n",
    "\n",
    "\n",
    "\n",
    "no gdp per capita temos dps d normalizar tudo "
   ]
  },
  {
   "cell_type": "markdown",
   "id": "6f18b57b",
   "metadata": {},
   "source": [
    "se calhar nao utiliza estas colunas: \n",
    "Standard Error\n",
    "Lower Confidence Interval\n",
    "Upper Confidence Interval\n",
    "Whisker.high / Whisker.low\n",
    "Explained by\n",
    "Ladder score in Dystopia"
   ]
  },
  {
   "cell_type": "code",
   "execution_count": 60,
   "id": "82ea786f",
   "metadata": {},
   "outputs": [
    {
     "name": "stdout",
     "output_type": "stream",
     "text": [
      "Colunas diferentes entre 2015 e 2016:\n",
      "{'Standard Error', 'Lower Confidence Interval', 'Upper Confidence Interval'}\n"
     ]
    }
   ],
   "source": [
    "colunas_2015 = set(ano_2015.columns)\n",
    "colunas_2016 = set(ano_2016.columns)\n",
    "\n",
    "diferentes = colunas_2015.symmetric_difference(colunas_2016)\n",
    "\n",
    "print(\"Colunas diferentes entre 2015 e 2016:\")\n",
    "print(diferentes)\n"
   ]
  },
  {
   "cell_type": "code",
   "execution_count": 74,
   "id": "a5e07554",
   "metadata": {},
   "outputs": [
    {
     "name": "stdout",
     "output_type": "stream",
     "text": [
      "Colunas diferentes entre 2016 e 2017:\n",
      "{'Whisker.low', 'Upper Confidence Interval', 'Region', 'Whisker.high', 'Lower Confidence Interval'}\n"
     ]
    }
   ],
   "source": [
    "colunas_2016 = set(ano_2016.columns)\n",
    "colunas_2017 = set(ano_2017.columns)\n",
    "\n",
    "diferentes = colunas_2016.symmetric_difference(colunas_2017)\n",
    "\n",
    "print(\"Colunas diferentes entre 2016 e 2017:\")\n",
    "print(diferentes)"
   ]
  },
  {
   "cell_type": "code",
   "execution_count": 75,
   "id": "8751a402",
   "metadata": {},
   "outputs": [
    {
     "name": "stdout",
     "output_type": "stream",
     "text": [
      "Colunas diferentes entre 2016 e 2017:\n",
      "{'Happiness Rank', 'Social support', 'Score', 'Region', 'Perceptions of corruption', 'Happiness Score', 'Country', 'Economy (GDP per Capita)', 'GDP per capita', 'Upper Confidence Interval', 'Trust (Government Corruption)', 'Health (Life Expectancy)', 'Family', 'Healthy life expectancy', 'Freedom to make life choices', 'Freedom', 'Overall rank', 'Country or region', 'Lower Confidence Interval', 'Dystopia Residual'}\n"
     ]
    }
   ],
   "source": [
    "colunas_2016 = set(ano_2016.columns)\n",
    "colunas_2018 = set(ano_2018.columns)\n",
    "\n",
    "diferentes = colunas_2016.symmetric_difference(colunas_2018)\n",
    "\n",
    "print(\"Colunas diferentes entre 2016 e 2017:\")\n",
    "print(diferentes)"
   ]
  },
  {
   "cell_type": "markdown",
   "id": "cfcb8db1",
   "metadata": {},
   "source": [
    "### Juntar os anos todos já com as colunas arranjadas e assim"
   ]
  },
  {
   "cell_type": "markdown",
   "id": "46c338c2",
   "metadata": {},
   "source": [
    "### Valores em falta"
   ]
  },
  {
   "cell_type": "markdown",
   "id": "3d9e49dd",
   "metadata": {},
   "source": [
    "### Dados duplicados"
   ]
  },
  {
   "cell_type": "markdown",
   "id": "62c355e9",
   "metadata": {},
   "source": [
    "### Verificar tipo de dados"
   ]
  },
  {
   "cell_type": "markdown",
   "id": "fc1dcddd",
   "metadata": {},
   "source": [
    "### Normalização"
   ]
  },
  {
   "cell_type": "markdown",
   "id": "dc13b31f",
   "metadata": {},
   "source": [
    "### Outliers"
   ]
  },
  {
   "cell_type": "markdown",
   "id": "13f401ce",
   "metadata": {},
   "source": [
    "### Verificar consistência ao longo dos anos"
   ]
  },
  {
   "cell_type": "markdown",
   "id": "89985331",
   "metadata": {},
   "source": [
    "### Resumo estatístico anual"
   ]
  },
  {
   "cell_type": "markdown",
   "id": "ba1a8f5f",
   "metadata": {},
   "source": [
    "### Histogramas e distribuições"
   ]
  },
  {
   "cell_type": "markdown",
   "id": "9556380e",
   "metadata": {},
   "source": [
    "### Balanceamento"
   ]
  },
  {
   "cell_type": "markdown",
   "id": "92c82cec",
   "metadata": {},
   "source": [
    "### Matriz de correlação"
   ]
  },
  {
   "cell_type": "markdown",
   "id": "0e143284",
   "metadata": {},
   "source": [
    "-------------------------------------------------------------------------------"
   ]
  },
  {
   "cell_type": "markdown",
   "id": "158801c8",
   "metadata": {},
   "source": [
    "### **Pergunta geral**: \n",
    "Como evoluíram os fatores que influenciam a felicidade global entre 2015 e 2022, e que padrões regionais ou estruturais explicam essas mudanças?"
   ]
  },
  {
   "cell_type": "markdown",
   "id": "2799a7f4",
   "metadata": {},
   "source": [
    "### Primeira visualização\n",
    "A felicidade mundial está a convergir ou a divergir ao longo do tempo?"
   ]
  },
  {
   "cell_type": "markdown",
   "id": "e0e8faf3",
   "metadata": {},
   "source": [
    "### Segunda visualização\n",
    "A pandemia de 2020 alterou os fatores que mais pesam na felicidade?"
   ]
  },
  {
   "cell_type": "markdown",
   "id": "fcb67a34",
   "metadata": {},
   "source": [
    "### Terceira visualização\n",
    "A economia continua a ser o fator mais determinante da felicidade com o passar dos anos?"
   ]
  },
  {
   "cell_type": "markdown",
   "id": "4d9bbf3b",
   "metadata": {},
   "source": [
    "### Quarta visualização\n",
    "Os países mais generosos tornaram-se mais ou menos felizes ao longo do tempo?"
   ]
  },
  {
   "cell_type": "markdown",
   "id": "b6051bf2",
   "metadata": {},
   "source": [
    "### Quinta visualização\n",
    "Quais países mudaram mais o seu ranking de felicidade — e porquê?"
   ]
  }
 ],
 "metadata": {
  "kernelspec": {
   "display_name": "base",
   "language": "python",
   "name": "python3"
  },
  "language_info": {
   "codemirror_mode": {
    "name": "ipython",
    "version": 3
   },
   "file_extension": ".py",
   "mimetype": "text/x-python",
   "name": "python",
   "nbconvert_exporter": "python",
   "pygments_lexer": "ipython3",
   "version": "3.11.4"
  }
 },
 "nbformat": 4,
 "nbformat_minor": 5
}
