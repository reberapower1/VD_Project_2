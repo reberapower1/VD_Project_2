{
 "cells": [
  {
   "cell_type": "code",
   "execution_count": 57,
   "id": "4d6a11b0",
   "metadata": {},
   "outputs": [],
   "source": [
    "import pandas as pd"
   ]
  },
  {
   "cell_type": "markdown",
   "id": "6c5674b8",
   "metadata": {},
   "source": [
    "## Pré-processamento"
   ]
  },
  {
   "cell_type": "markdown",
   "id": "03fb6c26",
   "metadata": {},
   "source": [
    "# 2015"
   ]
  },
  {
   "cell_type": "code",
   "execution_count": 58,
   "id": "31576f33",
   "metadata": {},
   "outputs": [
    {
     "name": "stdout",
     "output_type": "stream",
     "text": [
      "<class 'pandas.core.frame.DataFrame'>\n",
      "RangeIndex: 158 entries, 0 to 157\n",
      "Data columns (total 12 columns):\n",
      " #   Column                         Non-Null Count  Dtype  \n",
      "---  ------                         --------------  -----  \n",
      " 0   Country                        158 non-null    object \n",
      " 1   Region                         158 non-null    object \n",
      " 2   Happiness Rank                 158 non-null    int64  \n",
      " 3   Happiness Score                158 non-null    float64\n",
      " 4   Standard Error                 158 non-null    float64\n",
      " 5   Economy (GDP per Capita)       158 non-null    float64\n",
      " 6   Family                         158 non-null    float64\n",
      " 7   Health (Life Expectancy)       158 non-null    float64\n",
      " 8   Freedom                        158 non-null    float64\n",
      " 9   Trust (Government Corruption)  158 non-null    float64\n",
      " 10  Generosity                     158 non-null    float64\n",
      " 11  Dystopia Residual              158 non-null    float64\n",
      "dtypes: float64(9), int64(1), object(2)\n",
      "memory usage: 14.9+ KB\n",
      "None\n"
     ]
    }
   ],
   "source": [
    "ano_2015=pd.read_csv(\"2015.csv\")\n",
    "print(ano_2015.info())\n"
   ]
  },
  {
   "cell_type": "code",
   "execution_count": 59,
   "id": "d0ab498a",
   "metadata": {},
   "outputs": [
    {
     "name": "stdout",
     "output_type": "stream",
     "text": [
      "<class 'pandas.core.frame.DataFrame'>\n",
      "RangeIndex: 157 entries, 0 to 156\n",
      "Data columns (total 13 columns):\n",
      " #   Column                         Non-Null Count  Dtype  \n",
      "---  ------                         --------------  -----  \n",
      " 0   Country                        157 non-null    object \n",
      " 1   Region                         157 non-null    object \n",
      " 2   Happiness Rank                 157 non-null    int64  \n",
      " 3   Happiness Score                157 non-null    float64\n",
      " 4   Lower Confidence Interval      157 non-null    float64\n",
      " 5   Upper Confidence Interval      157 non-null    float64\n",
      " 6   Economy (GDP per Capita)       157 non-null    float64\n",
      " 7   Family                         157 non-null    float64\n",
      " 8   Health (Life Expectancy)       157 non-null    float64\n",
      " 9   Freedom                        157 non-null    float64\n",
      " 10  Trust (Government Corruption)  157 non-null    float64\n",
      " 11  Generosity                     157 non-null    float64\n",
      " 12  Dystopia Residual              157 non-null    float64\n",
      "dtypes: float64(10), int64(1), object(2)\n",
      "memory usage: 16.1+ KB\n",
      "None\n"
     ]
    }
   ],
   "source": [
    "ano_2016=pd.read_csv(\"2016.csv\")\n",
    "print(ano_2016.info())\n"
   ]
  },
  {
   "cell_type": "code",
   "execution_count": 60,
   "id": "82ea786f",
   "metadata": {},
   "outputs": [
    {
     "name": "stdout",
     "output_type": "stream",
     "text": [
      "Colunas diferentes entre 2015 e 2016:\n",
      "{'Standard Error', 'Lower Confidence Interval', 'Upper Confidence Interval'}\n"
     ]
    }
   ],
   "source": [
    "colunas_2015 = set(ano_2015.columns)\n",
    "colunas_2016 = set(ano_2016.columns)\n",
    "\n",
    "diferentes = colunas_2015.symmetric_difference(colunas_2016)\n",
    "\n",
    "print(\"Colunas diferentes entre 2015 e 2016:\")\n",
    "print(diferentes)\n"
   ]
  },
  {
   "cell_type": "code",
   "execution_count": 61,
   "id": "be6e1126",
   "metadata": {},
   "outputs": [
    {
     "name": "stdout",
     "output_type": "stream",
     "text": [
      "<class 'pandas.core.frame.DataFrame'>\n",
      "RangeIndex: 155 entries, 0 to 154\n",
      "Data columns (total 12 columns):\n",
      " #   Column                         Non-Null Count  Dtype  \n",
      "---  ------                         --------------  -----  \n",
      " 0   Country                        155 non-null    object \n",
      " 1   Happiness.Rank                 155 non-null    int64  \n",
      " 2   Happiness.Score                155 non-null    float64\n",
      " 3   Whisker.high                   155 non-null    float64\n",
      " 4   Whisker.low                    155 non-null    float64\n",
      " 5   Economy..GDP.per.Capita.       155 non-null    float64\n",
      " 6   Family                         155 non-null    float64\n",
      " 7   Health..Life.Expectancy.       155 non-null    float64\n",
      " 8   Freedom                        155 non-null    float64\n",
      " 9   Generosity                     155 non-null    float64\n",
      " 10  Trust..Government.Corruption.  155 non-null    float64\n",
      " 11  Dystopia.Residual              155 non-null    float64\n",
      "dtypes: float64(10), int64(1), object(1)\n",
      "memory usage: 14.7+ KB\n",
      "None\n"
     ]
    }
   ],
   "source": [
    "ano_2017=pd.read_csv(\"2017.csv\")\n",
    "print(ano_2017.info())\n"
   ]
  },
  {
   "cell_type": "code",
   "execution_count": 73,
   "id": "88e6f1d2",
   "metadata": {},
   "outputs": [
    {
     "name": "stdout",
     "output_type": "stream",
     "text": [
      "Index(['Country', 'Happiness Rank', 'Happiness Score', 'Whisker.high',\n",
      "       'Whisker.low', 'Economy (GDP per Capita)', 'Family',\n",
      "       'Health (Life Expectancy)', 'Freedom', 'Generosity',\n",
      "       'Trust (Government Corruption)', 'Dystopia Residual'],\n",
      "      dtype='object')\n"
     ]
    }
   ],
   "source": [
    "ano_2017 = ano_2017.rename(columns={'Happiness.Rank':'Happiness Rank', 'Happiness.Score':'Happiness Score', 'Economy..GDP.per.Capita.':'Economy (GDP per Capita)','Dystopia.Residual': 'Dystopia Residual', 'Trust..Government.Corruption.': 'Trust (Government Corruption)' ,'Health..Life.Expectancy.': 'Health (Life Expectancy)' })\n",
    "print(ano_2017.columns)\n"
   ]
  },
  {
   "cell_type": "code",
   "execution_count": 74,
   "id": "a5e07554",
   "metadata": {},
   "outputs": [
    {
     "name": "stdout",
     "output_type": "stream",
     "text": [
      "Colunas diferentes entre 2016 e 2017:\n",
      "{'Whisker.low', 'Upper Confidence Interval', 'Region', 'Whisker.high', 'Lower Confidence Interval'}\n"
     ]
    }
   ],
   "source": [
    "colunas_2016 = set(ano_2016.columns)\n",
    "colunas_2017 = set(ano_2017.columns)\n",
    "\n",
    "diferentes = colunas_2016.symmetric_difference(colunas_2017)\n",
    "\n",
    "print(\"Colunas diferentes entre 2016 e 2017:\")\n",
    "print(diferentes)"
   ]
  },
  {
   "cell_type": "code",
   "execution_count": 64,
   "id": "80c642e2",
   "metadata": {},
   "outputs": [
    {
     "name": "stdout",
     "output_type": "stream",
     "text": [
      "<class 'pandas.core.frame.DataFrame'>\n",
      "RangeIndex: 156 entries, 0 to 155\n",
      "Data columns (total 9 columns):\n",
      " #   Column                        Non-Null Count  Dtype  \n",
      "---  ------                        --------------  -----  \n",
      " 0   Overall rank                  156 non-null    int64  \n",
      " 1   Country or region             156 non-null    object \n",
      " 2   Score                         156 non-null    float64\n",
      " 3   GDP per capita                156 non-null    float64\n",
      " 4   Social support                156 non-null    float64\n",
      " 5   Healthy life expectancy       156 non-null    float64\n",
      " 6   Freedom to make life choices  156 non-null    float64\n",
      " 7   Generosity                    156 non-null    float64\n",
      " 8   Perceptions of corruption     155 non-null    float64\n",
      "dtypes: float64(7), int64(1), object(1)\n",
      "memory usage: 11.1+ KB\n",
      "None\n"
     ]
    }
   ],
   "source": [
    "ano_2018=pd.read_csv(\"2018.csv\")\n",
    "print(ano_2018.info())\n"
   ]
  },
  {
   "cell_type": "code",
   "execution_count": 75,
   "id": "8751a402",
   "metadata": {},
   "outputs": [
    {
     "name": "stdout",
     "output_type": "stream",
     "text": [
      "Colunas diferentes entre 2016 e 2017:\n",
      "{'Happiness Rank', 'Social support', 'Score', 'Region', 'Perceptions of corruption', 'Happiness Score', 'Country', 'Economy (GDP per Capita)', 'GDP per capita', 'Upper Confidence Interval', 'Trust (Government Corruption)', 'Health (Life Expectancy)', 'Family', 'Healthy life expectancy', 'Freedom to make life choices', 'Freedom', 'Overall rank', 'Country or region', 'Lower Confidence Interval', 'Dystopia Residual'}\n"
     ]
    }
   ],
   "source": [
    "colunas_2016 = set(ano_2016.columns)\n",
    "colunas_2018 = set(ano_2018.columns)\n",
    "\n",
    "diferentes = colunas_2016.symmetric_difference(colunas_2018)\n",
    "\n",
    "print(\"Colunas diferentes entre 2016 e 2017:\")\n",
    "print(diferentes)"
   ]
  },
  {
   "cell_type": "code",
   "execution_count": 65,
   "id": "5cef3c20",
   "metadata": {},
   "outputs": [
    {
     "name": "stdout",
     "output_type": "stream",
     "text": [
      "<class 'pandas.core.frame.DataFrame'>\n",
      "RangeIndex: 156 entries, 0 to 155\n",
      "Data columns (total 9 columns):\n",
      " #   Column                        Non-Null Count  Dtype  \n",
      "---  ------                        --------------  -----  \n",
      " 0   Overall rank                  156 non-null    int64  \n",
      " 1   Country or region             156 non-null    object \n",
      " 2   Score                         156 non-null    float64\n",
      " 3   GDP per capita                156 non-null    float64\n",
      " 4   Social support                156 non-null    float64\n",
      " 5   Healthy life expectancy       156 non-null    float64\n",
      " 6   Freedom to make life choices  156 non-null    float64\n",
      " 7   Generosity                    156 non-null    float64\n",
      " 8   Perceptions of corruption     156 non-null    float64\n",
      "dtypes: float64(7), int64(1), object(1)\n",
      "memory usage: 11.1+ KB\n",
      "None\n"
     ]
    }
   ],
   "source": [
    "ano_2019=pd.read_csv(\"2019.csv\")\n",
    "print(ano_2019.info())\n"
   ]
  },
  {
   "cell_type": "code",
   "execution_count": 66,
   "id": "1c7dbe18",
   "metadata": {},
   "outputs": [
    {
     "name": "stdout",
     "output_type": "stream",
     "text": [
      "<class 'pandas.core.frame.DataFrame'>\n",
      "RangeIndex: 153 entries, 0 to 152\n",
      "Data columns (total 20 columns):\n",
      " #   Column                                      Non-Null Count  Dtype  \n",
      "---  ------                                      --------------  -----  \n",
      " 0   Country name                                153 non-null    object \n",
      " 1   Regional indicator                          153 non-null    object \n",
      " 2   Ladder score                                153 non-null    float64\n",
      " 3   Standard error of ladder score              153 non-null    float64\n",
      " 4   upperwhisker                                153 non-null    float64\n",
      " 5   lowerwhisker                                153 non-null    float64\n",
      " 6   Logged GDP per capita                       153 non-null    float64\n",
      " 7   Social support                              153 non-null    float64\n",
      " 8   Healthy life expectancy                     153 non-null    float64\n",
      " 9   Freedom to make life choices                153 non-null    float64\n",
      " 10  Generosity                                  153 non-null    float64\n",
      " 11  Perceptions of corruption                   153 non-null    float64\n",
      " 12  Ladder score in Dystopia                    153 non-null    float64\n",
      " 13  Explained by: Log GDP per capita            153 non-null    float64\n",
      " 14  Explained by: Social support                153 non-null    float64\n",
      " 15  Explained by: Healthy life expectancy       153 non-null    float64\n",
      " 16  Explained by: Freedom to make life choices  153 non-null    float64\n",
      " 17  Explained by: Generosity                    153 non-null    float64\n",
      " 18  Explained by: Perceptions of corruption     153 non-null    float64\n",
      " 19  Dystopia + residual                         153 non-null    float64\n",
      "dtypes: float64(18), object(2)\n",
      "memory usage: 24.0+ KB\n",
      "None\n"
     ]
    }
   ],
   "source": [
    "ano_2020=pd.read_csv(\"2020.csv\")\n",
    "print(ano_2020.info())\n"
   ]
  },
  {
   "cell_type": "code",
   "execution_count": 67,
   "id": "dc45ed2f",
   "metadata": {},
   "outputs": [
    {
     "name": "stdout",
     "output_type": "stream",
     "text": [
      "<class 'pandas.core.frame.DataFrame'>\n",
      "RangeIndex: 149 entries, 0 to 148\n",
      "Data columns (total 20 columns):\n",
      " #   Column                                      Non-Null Count  Dtype  \n",
      "---  ------                                      --------------  -----  \n",
      " 0   Country name                                149 non-null    object \n",
      " 1   Regional indicator                          149 non-null    object \n",
      " 2   Ladder score                                149 non-null    float64\n",
      " 3   Standard error of ladder score              149 non-null    float64\n",
      " 4   upperwhisker                                149 non-null    float64\n",
      " 5   lowerwhisker                                149 non-null    float64\n",
      " 6   Logged GDP per capita                       149 non-null    float64\n",
      " 7   Social support                              149 non-null    float64\n",
      " 8   Healthy life expectancy                     149 non-null    float64\n",
      " 9   Freedom to make life choices                149 non-null    float64\n",
      " 10  Generosity                                  149 non-null    float64\n",
      " 11  Perceptions of corruption                   149 non-null    float64\n",
      " 12  Ladder score in Dystopia                    149 non-null    float64\n",
      " 13  Explained by: Log GDP per capita            149 non-null    float64\n",
      " 14  Explained by: Social support                149 non-null    float64\n",
      " 15  Explained by: Healthy life expectancy       149 non-null    float64\n",
      " 16  Explained by: Freedom to make life choices  149 non-null    float64\n",
      " 17  Explained by: Generosity                    149 non-null    float64\n",
      " 18  Explained by: Perceptions of corruption     149 non-null    float64\n",
      " 19  Dystopia + residual                         149 non-null    float64\n",
      "dtypes: float64(18), object(2)\n",
      "memory usage: 23.4+ KB\n",
      "None\n"
     ]
    }
   ],
   "source": [
    "ano_2021=pd.read_csv(\"2021.csv\")\n",
    "print(ano_2021.info())\n"
   ]
  },
  {
   "cell_type": "code",
   "execution_count": 68,
   "id": "40b56552",
   "metadata": {},
   "outputs": [
    {
     "name": "stdout",
     "output_type": "stream",
     "text": [
      "Atributos comuns entre todos os datasets:\n",
      "{'Generosity'}\n"
     ]
    }
   ],
   "source": [
    "# ver quais as colunas comuns\n",
    "\n",
    "colunas_comuns = set(ano_2015.columns)\n",
    "\n",
    "for df in [ano_2016, ano_2017, ano_2018, ano_2019, ano_2020, ano_2021]:\n",
    "    colunas_comuns = colunas_comuns.intersection(set(df.columns))\n",
    "\n",
    "print(\"Atributos comuns entre todos os datasets:\")\n",
    "print(colunas_comuns)\n"
   ]
  }
 ],
 "metadata": {
  "kernelspec": {
   "display_name": "Python 3",
   "language": "python",
   "name": "python3"
  },
  "language_info": {
   "codemirror_mode": {
    "name": "ipython",
    "version": 3
   },
   "file_extension": ".py",
   "mimetype": "text/x-python",
   "name": "python",
   "nbconvert_exporter": "python",
   "pygments_lexer": "ipython3",
   "version": "3.13.0"
  }
 },
 "nbformat": 4,
 "nbformat_minor": 5
}
